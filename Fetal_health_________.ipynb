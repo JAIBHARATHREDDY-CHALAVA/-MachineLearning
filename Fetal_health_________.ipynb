{
 "cells": [
  {
   "cell_type": "markdown",
   "id": "c8cc8967",
   "metadata": {},
   "source": [
    "<div style=\"background-color:#2E87A4 ;color:#FDFDFD;padding:20px;border:1px solid #3184BB;text-align:center;\">\n",
    "<p><font size=\"14\" color=\"#FDFDFD\" face=\"Lora\"><i>Fetal_health_classification_ML</i></font> </p>\n",
    "</div>"
   ]
  },
  {
   "cell_type": "markdown",
   "id": "a8e0b68f",
   "metadata": {},
   "source": [
    "### Problem Statement :\n",
    "\n",
    "   --- The aim here will be to predict Fetal_health_on `unborn body` on an individual given some features about the                     individual in the dataset."
   ]
  },
  {
   "cell_type": "markdown",
   "id": "79d6f2d4",
   "metadata": {},
   "source": [
    "##  Load the data and perform the basic EDA to understand the data."
   ]
  },
  {
   "cell_type": "code",
   "execution_count": 1,
   "id": "09eaf131",
   "metadata": {
    "ExecuteTime": {
     "end_time": "2023-07-04T13:51:45.794025Z",
     "start_time": "2023-07-04T13:51:44.661464Z"
    }
   },
   "outputs": [],
   "source": [
    "# loading libraries\n",
    "import pandas as pd \n",
    "import numpy as np\n",
    "import seaborn as sns\n",
    "import matplotlib.pyplot as plt\n",
    "import warnings\n",
    "warnings.filterwarnings('ignore')\n",
    "from IPython.core.interactiveshell import InteractiveShell\n",
    "InteractiveShell.ast_node_interactivity = 'all'"
   ]
  },
  {
   "cell_type": "code",
   "execution_count": 2,
   "id": "00821469",
   "metadata": {
    "ExecuteTime": {
     "end_time": "2023-07-04T13:51:45.825853Z",
     "start_time": "2023-07-04T13:51:45.796722Z"
    }
   },
   "outputs": [],
   "source": [
    "data=pd.read_csv(r\"C:\\Users\\bhara\\OneDrive\\Desktop\\fetal_health.csv\") # loding the dataset"
   ]
  },
  {
   "cell_type": "code",
   "execution_count": 3,
   "id": "a176a891",
   "metadata": {
    "ExecuteTime": {
     "end_time": "2023-07-04T13:51:45.874586Z",
     "start_time": "2023-07-04T13:51:45.826468Z"
    }
   },
   "outputs": [
    {
     "data": {
      "text/html": [
       "<div>\n",
       "<style scoped>\n",
       "    .dataframe tbody tr th:only-of-type {\n",
       "        vertical-align: middle;\n",
       "    }\n",
       "\n",
       "    .dataframe tbody tr th {\n",
       "        vertical-align: top;\n",
       "    }\n",
       "\n",
       "    .dataframe thead th {\n",
       "        text-align: right;\n",
       "    }\n",
       "</style>\n",
       "<table border=\"1\" class=\"dataframe\">\n",
       "  <thead>\n",
       "    <tr style=\"text-align: right;\">\n",
       "      <th></th>\n",
       "      <th>baseline value</th>\n",
       "      <th>accelerations</th>\n",
       "      <th>fetal_movement</th>\n",
       "      <th>uterine_contractions</th>\n",
       "      <th>light_decelerations</th>\n",
       "      <th>severe_decelerations</th>\n",
       "      <th>prolongued_decelerations</th>\n",
       "      <th>abnormal_short_term_variability</th>\n",
       "      <th>mean_value_of_short_term_variability</th>\n",
       "      <th>percentage_of_time_with_abnormal_long_term_variability</th>\n",
       "      <th>...</th>\n",
       "      <th>histogram_min</th>\n",
       "      <th>histogram_max</th>\n",
       "      <th>histogram_number_of_peaks</th>\n",
       "      <th>histogram_number_of_zeroes</th>\n",
       "      <th>histogram_mode</th>\n",
       "      <th>histogram_mean</th>\n",
       "      <th>histogram_median</th>\n",
       "      <th>histogram_variance</th>\n",
       "      <th>histogram_tendency</th>\n",
       "      <th>fetal_health</th>\n",
       "    </tr>\n",
       "  </thead>\n",
       "  <tbody>\n",
       "    <tr>\n",
       "      <th>0</th>\n",
       "      <td>120.0</td>\n",
       "      <td>0.000</td>\n",
       "      <td>0.0</td>\n",
       "      <td>0.000</td>\n",
       "      <td>0.000</td>\n",
       "      <td>0.0</td>\n",
       "      <td>0.0</td>\n",
       "      <td>73.0</td>\n",
       "      <td>0.5</td>\n",
       "      <td>43.0</td>\n",
       "      <td>...</td>\n",
       "      <td>62.0</td>\n",
       "      <td>126.0</td>\n",
       "      <td>2.0</td>\n",
       "      <td>0.0</td>\n",
       "      <td>120.0</td>\n",
       "      <td>137.0</td>\n",
       "      <td>121.0</td>\n",
       "      <td>73.0</td>\n",
       "      <td>1.0</td>\n",
       "      <td>2.0</td>\n",
       "    </tr>\n",
       "    <tr>\n",
       "      <th>1</th>\n",
       "      <td>132.0</td>\n",
       "      <td>0.006</td>\n",
       "      <td>0.0</td>\n",
       "      <td>0.006</td>\n",
       "      <td>0.003</td>\n",
       "      <td>0.0</td>\n",
       "      <td>0.0</td>\n",
       "      <td>17.0</td>\n",
       "      <td>2.1</td>\n",
       "      <td>0.0</td>\n",
       "      <td>...</td>\n",
       "      <td>68.0</td>\n",
       "      <td>198.0</td>\n",
       "      <td>6.0</td>\n",
       "      <td>1.0</td>\n",
       "      <td>141.0</td>\n",
       "      <td>136.0</td>\n",
       "      <td>140.0</td>\n",
       "      <td>12.0</td>\n",
       "      <td>0.0</td>\n",
       "      <td>1.0</td>\n",
       "    </tr>\n",
       "    <tr>\n",
       "      <th>2</th>\n",
       "      <td>133.0</td>\n",
       "      <td>0.003</td>\n",
       "      <td>0.0</td>\n",
       "      <td>0.008</td>\n",
       "      <td>0.003</td>\n",
       "      <td>0.0</td>\n",
       "      <td>0.0</td>\n",
       "      <td>16.0</td>\n",
       "      <td>2.1</td>\n",
       "      <td>0.0</td>\n",
       "      <td>...</td>\n",
       "      <td>68.0</td>\n",
       "      <td>198.0</td>\n",
       "      <td>5.0</td>\n",
       "      <td>1.0</td>\n",
       "      <td>141.0</td>\n",
       "      <td>135.0</td>\n",
       "      <td>138.0</td>\n",
       "      <td>13.0</td>\n",
       "      <td>0.0</td>\n",
       "      <td>1.0</td>\n",
       "    </tr>\n",
       "    <tr>\n",
       "      <th>3</th>\n",
       "      <td>134.0</td>\n",
       "      <td>0.003</td>\n",
       "      <td>0.0</td>\n",
       "      <td>0.008</td>\n",
       "      <td>0.003</td>\n",
       "      <td>0.0</td>\n",
       "      <td>0.0</td>\n",
       "      <td>16.0</td>\n",
       "      <td>2.4</td>\n",
       "      <td>0.0</td>\n",
       "      <td>...</td>\n",
       "      <td>53.0</td>\n",
       "      <td>170.0</td>\n",
       "      <td>11.0</td>\n",
       "      <td>0.0</td>\n",
       "      <td>137.0</td>\n",
       "      <td>134.0</td>\n",
       "      <td>137.0</td>\n",
       "      <td>13.0</td>\n",
       "      <td>1.0</td>\n",
       "      <td>1.0</td>\n",
       "    </tr>\n",
       "    <tr>\n",
       "      <th>4</th>\n",
       "      <td>132.0</td>\n",
       "      <td>0.007</td>\n",
       "      <td>0.0</td>\n",
       "      <td>0.008</td>\n",
       "      <td>0.000</td>\n",
       "      <td>0.0</td>\n",
       "      <td>0.0</td>\n",
       "      <td>16.0</td>\n",
       "      <td>2.4</td>\n",
       "      <td>0.0</td>\n",
       "      <td>...</td>\n",
       "      <td>53.0</td>\n",
       "      <td>170.0</td>\n",
       "      <td>9.0</td>\n",
       "      <td>0.0</td>\n",
       "      <td>137.0</td>\n",
       "      <td>136.0</td>\n",
       "      <td>138.0</td>\n",
       "      <td>11.0</td>\n",
       "      <td>1.0</td>\n",
       "      <td>1.0</td>\n",
       "    </tr>\n",
       "  </tbody>\n",
       "</table>\n",
       "<p>5 rows × 22 columns</p>\n",
       "</div>"
      ],
      "text/plain": [
       "   baseline value  accelerations  fetal_movement  uterine_contractions  \\\n",
       "0           120.0          0.000             0.0                 0.000   \n",
       "1           132.0          0.006             0.0                 0.006   \n",
       "2           133.0          0.003             0.0                 0.008   \n",
       "3           134.0          0.003             0.0                 0.008   \n",
       "4           132.0          0.007             0.0                 0.008   \n",
       "\n",
       "   light_decelerations  severe_decelerations  prolongued_decelerations  \\\n",
       "0                0.000                   0.0                       0.0   \n",
       "1                0.003                   0.0                       0.0   \n",
       "2                0.003                   0.0                       0.0   \n",
       "3                0.003                   0.0                       0.0   \n",
       "4                0.000                   0.0                       0.0   \n",
       "\n",
       "   abnormal_short_term_variability  mean_value_of_short_term_variability  \\\n",
       "0                             73.0                                   0.5   \n",
       "1                             17.0                                   2.1   \n",
       "2                             16.0                                   2.1   \n",
       "3                             16.0                                   2.4   \n",
       "4                             16.0                                   2.4   \n",
       "\n",
       "   percentage_of_time_with_abnormal_long_term_variability  ...  histogram_min  \\\n",
       "0                                               43.0       ...           62.0   \n",
       "1                                                0.0       ...           68.0   \n",
       "2                                                0.0       ...           68.0   \n",
       "3                                                0.0       ...           53.0   \n",
       "4                                                0.0       ...           53.0   \n",
       "\n",
       "   histogram_max  histogram_number_of_peaks  histogram_number_of_zeroes  \\\n",
       "0          126.0                        2.0                         0.0   \n",
       "1          198.0                        6.0                         1.0   \n",
       "2          198.0                        5.0                         1.0   \n",
       "3          170.0                       11.0                         0.0   \n",
       "4          170.0                        9.0                         0.0   \n",
       "\n",
       "   histogram_mode  histogram_mean  histogram_median  histogram_variance  \\\n",
       "0           120.0           137.0             121.0                73.0   \n",
       "1           141.0           136.0             140.0                12.0   \n",
       "2           141.0           135.0             138.0                13.0   \n",
       "3           137.0           134.0             137.0                13.0   \n",
       "4           137.0           136.0             138.0                11.0   \n",
       "\n",
       "   histogram_tendency  fetal_health  \n",
       "0                 1.0           2.0  \n",
       "1                 0.0           1.0  \n",
       "2                 0.0           1.0  \n",
       "3                 1.0           1.0  \n",
       "4                 1.0           1.0  \n",
       "\n",
       "[5 rows x 22 columns]"
      ]
     },
     "execution_count": 3,
     "metadata": {},
     "output_type": "execute_result"
    }
   ],
   "source": [
    "data.head() # knowing top nth records"
   ]
  },
  {
   "cell_type": "code",
   "execution_count": 4,
   "id": "94a26f3e",
   "metadata": {
    "ExecuteTime": {
     "end_time": "2023-07-04T13:51:45.891104Z",
     "start_time": "2023-07-04T13:51:45.875308Z"
    }
   },
   "outputs": [
    {
     "name": "stdout",
     "output_type": "stream",
     "text": [
      "<class 'pandas.core.frame.DataFrame'>\n",
      "RangeIndex: 2126 entries, 0 to 2125\n",
      "Data columns (total 22 columns):\n",
      " #   Column                                                  Non-Null Count  Dtype  \n",
      "---  ------                                                  --------------  -----  \n",
      " 0   baseline value                                          2126 non-null   float64\n",
      " 1   accelerations                                           2126 non-null   float64\n",
      " 2   fetal_movement                                          2126 non-null   float64\n",
      " 3   uterine_contractions                                    2126 non-null   float64\n",
      " 4   light_decelerations                                     2126 non-null   float64\n",
      " 5   severe_decelerations                                    2126 non-null   float64\n",
      " 6   prolongued_decelerations                                2126 non-null   float64\n",
      " 7   abnormal_short_term_variability                         2126 non-null   float64\n",
      " 8   mean_value_of_short_term_variability                    2126 non-null   float64\n",
      " 9   percentage_of_time_with_abnormal_long_term_variability  2126 non-null   float64\n",
      " 10  mean_value_of_long_term_variability                     2126 non-null   float64\n",
      " 11  histogram_width                                         2126 non-null   float64\n",
      " 12  histogram_min                                           2126 non-null   float64\n",
      " 13  histogram_max                                           2126 non-null   float64\n",
      " 14  histogram_number_of_peaks                               2126 non-null   float64\n",
      " 15  histogram_number_of_zeroes                              2126 non-null   float64\n",
      " 16  histogram_mode                                          2126 non-null   float64\n",
      " 17  histogram_mean                                          2126 non-null   float64\n",
      " 18  histogram_median                                        2126 non-null   float64\n",
      " 19  histogram_variance                                      2126 non-null   float64\n",
      " 20  histogram_tendency                                      2126 non-null   float64\n",
      " 21  fetal_health                                            2126 non-null   float64\n",
      "dtypes: float64(22)\n",
      "memory usage: 365.5 KB\n"
     ]
    }
   ],
   "source": [
    "data.info() # full details of datset "
   ]
  },
  {
   "cell_type": "code",
   "execution_count": 5,
   "id": "4dc40004",
   "metadata": {
    "ExecuteTime": {
     "end_time": "2023-07-04T13:51:45.915128Z",
     "start_time": "2023-07-04T13:51:45.891104Z"
    }
   },
   "outputs": [
    {
     "data": {
      "text/plain": [
       "1.0    0.778457\n",
       "2.0    0.138758\n",
       "3.0    0.082785\n",
       "Name: fetal_health, dtype: float64"
      ]
     },
     "execution_count": 5,
     "metadata": {},
     "output_type": "execute_result"
    }
   ],
   "source": [
    "data['fetal_health'].value_counts(normalize=True) # knowing the if the datset is balanced or unbalnced"
   ]
  },
  {
   "cell_type": "code",
   "execution_count": 6,
   "id": "0d91deb3",
   "metadata": {
    "ExecuteTime": {
     "end_time": "2023-07-04T13:51:46.131797Z",
     "start_time": "2023-07-04T13:51:45.915128Z"
    }
   },
   "outputs": [
    {
     "data": {
      "image/png": "[encoded data removed]",
      "text/plain": [
       "<Figure size 500x500 with 1 Axes>"
      ]
     },
     "metadata": {},
     "output_type": "display_data"
    }
   ],
   "source": [
    "sns.displot(data=data['fetal_health'],kind='hist'); # by seeing the graph our dataset is unbalanced dataset "
   ]
  },
  {
   "cell_type": "code",
   "execution_count": 7,
   "id": "8accc266",
   "metadata": {
    "ExecuteTime": {
     "end_time": "2023-07-04T13:51:46.148282Z",
     "start_time": "2023-07-04T13:51:46.131797Z"
    }
   },
   "outputs": [
    {
     "data": {
      "text/plain": [
       "baseline value                                            0\n",
       "accelerations                                             0\n",
       "fetal_movement                                            0\n",
       "uterine_contractions                                      0\n",
       "light_decelerations                                       0\n",
       "severe_decelerations                                      0\n",
       "prolongued_decelerations                                  0\n",
       "abnormal_short_term_variability                           0\n",
       "mean_value_of_short_term_variability                      0\n",
       "percentage_of_time_with_abnormal_long_term_variability    0\n",
       "mean_value_of_long_term_variability                       0\n",
       "histogram_width                                           0\n",
       "histogram_min                                             0\n",
       "histogram_max                                             0\n",
       "histogram_number_of_peaks                                 0\n",
       "histogram_number_of_zeroes                                0\n",
       "histogram_mode                                            0\n",
       "histogram_mean                                            0\n",
       "histogram_median                                          0\n",
       "histogram_variance                                        0\n",
       "histogram_tendency                                        0\n",
       "fetal_health                                              0\n",
       "dtype: int64"
      ]
     },
     "execution_count": 7,
     "metadata": {},
     "output_type": "execute_result"
    }
   ],
   "source": [
    "data.isna().sum() # checking the if tha dataset have null values or not"
   ]
  },
  {
   "cell_type": "code",
   "execution_count": 8,
   "id": "758e5ba0",
   "metadata": {
    "ExecuteTime": {
     "end_time": "2023-07-04T13:51:46.197146Z",
     "start_time": "2023-07-04T13:51:46.152269Z"
    }
   },
   "outputs": [],
   "source": [
    "df=data.copy() # coping data from one to another"
   ]
  },
  {
   "cell_type": "code",
   "execution_count": 9,
   "id": "25e9cff7",
   "metadata": {
    "ExecuteTime": {
     "end_time": "2023-07-04T13:51:46.221208Z",
     "start_time": "2023-07-04T13:51:46.197146Z"
    }
   },
   "outputs": [],
   "source": [
    "y=df['fetal_health']\n",
    "x=df.drop('fetal_health',axis=1)"
   ]
  },
  {
   "cell_type": "code",
   "execution_count": 10,
   "id": "0e7813e0",
   "metadata": {
    "ExecuteTime": {
     "end_time": "2023-07-04T13:51:46.731616Z",
     "start_time": "2023-07-04T13:51:46.302609Z"
    }
   },
   "outputs": [],
   "source": [
    "from imblearn.over_sampling import SMOTE # appliying the smote techinque by going to unbalnced to balanced\n",
    "smote = SMOTE()\n",
    "X_re_smote , Y_re_smote = smote.fit_resample(x,y)"
   ]
  },
  {
   "cell_type": "code",
   "execution_count": 11,
   "id": "3d6e668d",
   "metadata": {
    "ExecuteTime": {
     "end_time": "2023-07-04T13:51:46.758776Z",
     "start_time": "2023-07-04T13:51:46.731616Z"
    }
   },
   "outputs": [
    {
     "data": {
      "text/html": [
       "<div>\n",
       "<style scoped>\n",
       "    .dataframe tbody tr th:only-of-type {\n",
       "        vertical-align: middle;\n",
       "    }\n",
       "\n",
       "    .dataframe tbody tr th {\n",
       "        vertical-align: top;\n",
       "    }\n",
       "\n",
       "    .dataframe thead th {\n",
       "        text-align: right;\n",
       "    }\n",
       "</style>\n",
       "<table border=\"1\" class=\"dataframe\">\n",
       "  <thead>\n",
       "    <tr style=\"text-align: right;\">\n",
       "      <th></th>\n",
       "      <th>baseline value</th>\n",
       "      <th>accelerations</th>\n",
       "      <th>fetal_movement</th>\n",
       "      <th>uterine_contractions</th>\n",
       "      <th>light_decelerations</th>\n",
       "      <th>severe_decelerations</th>\n",
       "      <th>prolongued_decelerations</th>\n",
       "      <th>abnormal_short_term_variability</th>\n",
       "      <th>mean_value_of_short_term_variability</th>\n",
       "      <th>percentage_of_time_with_abnormal_long_term_variability</th>\n",
       "      <th>...</th>\n",
       "      <th>histogram_width</th>\n",
       "      <th>histogram_min</th>\n",
       "      <th>histogram_max</th>\n",
       "      <th>histogram_number_of_peaks</th>\n",
       "      <th>histogram_number_of_zeroes</th>\n",
       "      <th>histogram_mode</th>\n",
       "      <th>histogram_mean</th>\n",
       "      <th>histogram_median</th>\n",
       "      <th>histogram_variance</th>\n",
       "      <th>histogram_tendency</th>\n",
       "    </tr>\n",
       "  </thead>\n",
       "  <tbody>\n",
       "    <tr>\n",
       "      <th>0</th>\n",
       "      <td>120.0</td>\n",
       "      <td>0.000</td>\n",
       "      <td>0.0</td>\n",
       "      <td>0.000</td>\n",
       "      <td>0.000</td>\n",
       "      <td>0.0</td>\n",
       "      <td>0.0</td>\n",
       "      <td>73.0</td>\n",
       "      <td>0.5</td>\n",
       "      <td>43.0</td>\n",
       "      <td>...</td>\n",
       "      <td>64.0</td>\n",
       "      <td>62.0</td>\n",
       "      <td>126.0</td>\n",
       "      <td>2.0</td>\n",
       "      <td>0.0</td>\n",
       "      <td>120.0</td>\n",
       "      <td>137.0</td>\n",
       "      <td>121.0</td>\n",
       "      <td>73.0</td>\n",
       "      <td>1.0</td>\n",
       "    </tr>\n",
       "    <tr>\n",
       "      <th>1</th>\n",
       "      <td>132.0</td>\n",
       "      <td>0.006</td>\n",
       "      <td>0.0</td>\n",
       "      <td>0.006</td>\n",
       "      <td>0.003</td>\n",
       "      <td>0.0</td>\n",
       "      <td>0.0</td>\n",
       "      <td>17.0</td>\n",
       "      <td>2.1</td>\n",
       "      <td>0.0</td>\n",
       "      <td>...</td>\n",
       "      <td>130.0</td>\n",
       "      <td>68.0</td>\n",
       "      <td>198.0</td>\n",
       "      <td>6.0</td>\n",
       "      <td>1.0</td>\n",
       "      <td>141.0</td>\n",
       "      <td>136.0</td>\n",
       "      <td>140.0</td>\n",
       "      <td>12.0</td>\n",
       "      <td>0.0</td>\n",
       "    </tr>\n",
       "    <tr>\n",
       "      <th>2</th>\n",
       "      <td>133.0</td>\n",
       "      <td>0.003</td>\n",
       "      <td>0.0</td>\n",
       "      <td>0.008</td>\n",
       "      <td>0.003</td>\n",
       "      <td>0.0</td>\n",
       "      <td>0.0</td>\n",
       "      <td>16.0</td>\n",
       "      <td>2.1</td>\n",
       "      <td>0.0</td>\n",
       "      <td>...</td>\n",
       "      <td>130.0</td>\n",
       "      <td>68.0</td>\n",
       "      <td>198.0</td>\n",
       "      <td>5.0</td>\n",
       "      <td>1.0</td>\n",
       "      <td>141.0</td>\n",
       "      <td>135.0</td>\n",
       "      <td>138.0</td>\n",
       "      <td>13.0</td>\n",
       "      <td>0.0</td>\n",
       "    </tr>\n",
       "    <tr>\n",
       "      <th>3</th>\n",
       "      <td>134.0</td>\n",
       "      <td>0.003</td>\n",
       "      <td>0.0</td>\n",
       "      <td>0.008</td>\n",
       "      <td>0.003</td>\n",
       "      <td>0.0</td>\n",
       "      <td>0.0</td>\n",
       "      <td>16.0</td>\n",
       "      <td>2.4</td>\n",
       "      <td>0.0</td>\n",
       "      <td>...</td>\n",
       "      <td>117.0</td>\n",
       "      <td>53.0</td>\n",
       "      <td>170.0</td>\n",
       "      <td>11.0</td>\n",
       "      <td>0.0</td>\n",
       "      <td>137.0</td>\n",
       "      <td>134.0</td>\n",
       "      <td>137.0</td>\n",
       "      <td>13.0</td>\n",
       "      <td>1.0</td>\n",
       "    </tr>\n",
       "    <tr>\n",
       "      <th>4</th>\n",
       "      <td>132.0</td>\n",
       "      <td>0.007</td>\n",
       "      <td>0.0</td>\n",
       "      <td>0.008</td>\n",
       "      <td>0.000</td>\n",
       "      <td>0.0</td>\n",
       "      <td>0.0</td>\n",
       "      <td>16.0</td>\n",
       "      <td>2.4</td>\n",
       "      <td>0.0</td>\n",
       "      <td>...</td>\n",
       "      <td>117.0</td>\n",
       "      <td>53.0</td>\n",
       "      <td>170.0</td>\n",
       "      <td>9.0</td>\n",
       "      <td>0.0</td>\n",
       "      <td>137.0</td>\n",
       "      <td>136.0</td>\n",
       "      <td>138.0</td>\n",
       "      <td>11.0</td>\n",
       "      <td>1.0</td>\n",
       "    </tr>\n",
       "  </tbody>\n",
       "</table>\n",
       "<p>5 rows × 21 columns</p>\n",
       "</div>"
      ],
      "text/plain": [
       "   baseline value  accelerations  fetal_movement  uterine_contractions  \\\n",
       "0           120.0          0.000             0.0                 0.000   \n",
       "1           132.0          0.006             0.0                 0.006   \n",
       "2           133.0          0.003             0.0                 0.008   \n",
       "3           134.0          0.003             0.0                 0.008   \n",
       "4           132.0          0.007             0.0                 0.008   \n",
       "\n",
       "   light_decelerations  severe_decelerations  prolongued_decelerations  \\\n",
       "0                0.000                   0.0                       0.0   \n",
       "1                0.003                   0.0                       0.0   \n",
       "2                0.003                   0.0                       0.0   \n",
       "3                0.003                   0.0                       0.0   \n",
       "4                0.000                   0.0                       0.0   \n",
       "\n",
       "   abnormal_short_term_variability  mean_value_of_short_term_variability  \\\n",
       "0                             73.0                                   0.5   \n",
       "1                             17.0                                   2.1   \n",
       "2                             16.0                                   2.1   \n",
       "3                             16.0                                   2.4   \n",
       "4                             16.0                                   2.4   \n",
       "\n",
       "   percentage_of_time_with_abnormal_long_term_variability  ...  \\\n",
       "0                                               43.0       ...   \n",
       "1                                                0.0       ...   \n",
       "2                                                0.0       ...   \n",
       "3                                                0.0       ...   \n",
       "4                                                0.0       ...   \n",
       "\n",
       "   histogram_width  histogram_min  histogram_max  histogram_number_of_peaks  \\\n",
       "0             64.0           62.0          126.0                        2.0   \n",
       "1            130.0           68.0          198.0                        6.0   \n",
       "2            130.0           68.0          198.0                        5.0   \n",
       "3            117.0           53.0          170.0                       11.0   \n",
       "4            117.0           53.0          170.0                        9.0   \n",
       "\n",
       "   histogram_number_of_zeroes  histogram_mode  histogram_mean  \\\n",
       "0                         0.0           120.0           137.0   \n",
       "1                         1.0           141.0           136.0   \n",
       "2                         1.0           141.0           135.0   \n",
       "3                         0.0           137.0           134.0   \n",
       "4                         0.0           137.0           136.0   \n",
       "\n",
       "   histogram_median  histogram_variance  histogram_tendency  \n",
       "0             121.0                73.0                 1.0  \n",
       "1             140.0                12.0                 0.0  \n",
       "2             138.0                13.0                 0.0  \n",
       "3             137.0                13.0                 1.0  \n",
       "4             138.0                11.0                 1.0  \n",
       "\n",
       "[5 rows x 21 columns]"
      ]
     },
     "execution_count": 11,
     "metadata": {},
     "output_type": "execute_result"
    }
   ],
   "source": [
    "X_re_smote.head()"
   ]
  },
  {
   "cell_type": "code",
   "execution_count": 12,
   "id": "e1af03d3",
   "metadata": {
    "ExecuteTime": {
     "end_time": "2023-07-04T13:51:46.791410Z",
     "start_time": "2023-07-04T13:51:46.758776Z"
    }
   },
   "outputs": [
    {
     "data": {
      "text/plain": [
       "2.0    1655\n",
       "1.0    1655\n",
       "3.0    1655\n",
       "Name: fetal_health, dtype: int64"
      ]
     },
     "execution_count": 12,
     "metadata": {},
     "output_type": "execute_result"
    }
   ],
   "source": [
    "Y_re_smote.value_counts()"
   ]
  },
  {
   "cell_type": "code",
   "execution_count": 13,
   "id": "1e3df853",
   "metadata": {
    "ExecuteTime": {
     "end_time": "2023-07-04T13:51:47.375979Z",
     "start_time": "2023-07-04T13:51:46.816139Z"
    }
   },
   "outputs": [
    {
     "data": {
      "image/png": "[encoded data removed]",
      "text/plain": [
       "<Figure size 500x500 with 1 Axes>"
      ]
     },
     "metadata": {},
     "output_type": "display_data"
    }
   ],
   "source": [
    "sns.displot(data=Y_re_smote,kind='hist'); # after the smote  our data became balanced"
   ]
  },
  {
   "cell_type": "markdown",
   "id": "7fe6c725",
   "metadata": {},
   "source": [
    "###  Split the dataset into Training and Testing (recommended 70:30 split)."
   ]
  },
  {
   "cell_type": "code",
   "execution_count": 14,
   "id": "be34a7d2",
   "metadata": {
    "ExecuteTime": {
     "end_time": "2023-07-04T13:51:47.417468Z",
     "start_time": "2023-07-04T13:51:47.375979Z"
    }
   },
   "outputs": [
    {
     "name": "stdout",
     "output_type": "stream",
     "text": [
      "(3475, 21) (3475,)\n",
      "(1490, 21) (1490,)\n"
     ]
    }
   ],
   "source": [
    "from sklearn.model_selection import train_test_split\n",
    "x_train,x_test,y_train,y_test=train_test_split(X_re_smote,Y_re_smote,train_size=0.70,random_state=100)\n",
    "print(x_train.shape,y_train.shape)\n",
    "print(x_test.shape,y_test.shape)"
   ]
  },
  {
   "cell_type": "markdown",
   "id": "37f5a42f",
   "metadata": {},
   "source": [
    "##  Data preparation on train data:"
   ]
  },
  {
   "cell_type": "markdown",
   "id": "3818ea2a",
   "metadata": {},
   "source": [
    " -- - **For Numerical Variables - `Standardization` or `Normalization` (Fit and\n",
    "Transform)**"
   ]
  },
  {
   "cell_type": "code",
   "execution_count": 15,
   "id": "edb826fc",
   "metadata": {
    "ExecuteTime": {
     "end_time": "2023-07-04T13:51:48.136750Z",
     "start_time": "2023-07-04T13:51:48.071414Z"
    }
   },
   "outputs": [
    {
     "data": {
      "text/html": [
       "<div>\n",
       "<style scoped>\n",
       "    .dataframe tbody tr th:only-of-type {\n",
       "        vertical-align: middle;\n",
       "    }\n",
       "\n",
       "    .dataframe tbody tr th {\n",
       "        vertical-align: top;\n",
       "    }\n",
       "\n",
       "    .dataframe thead th {\n",
       "        text-align: right;\n",
       "    }\n",
       "</style>\n",
       "<table border=\"1\" class=\"dataframe\">\n",
       "  <thead>\n",
       "    <tr style=\"text-align: right;\">\n",
       "      <th></th>\n",
       "      <th>baseline value</th>\n",
       "      <th>accelerations</th>\n",
       "      <th>fetal_movement</th>\n",
       "      <th>uterine_contractions</th>\n",
       "      <th>light_decelerations</th>\n",
       "      <th>severe_decelerations</th>\n",
       "      <th>prolongued_decelerations</th>\n",
       "      <th>abnormal_short_term_variability</th>\n",
       "      <th>mean_value_of_short_term_variability</th>\n",
       "      <th>percentage_of_time_with_abnormal_long_term_variability</th>\n",
       "      <th>...</th>\n",
       "      <th>histogram_width</th>\n",
       "      <th>histogram_min</th>\n",
       "      <th>histogram_max</th>\n",
       "      <th>histogram_number_of_peaks</th>\n",
       "      <th>histogram_number_of_zeroes</th>\n",
       "      <th>histogram_mode</th>\n",
       "      <th>histogram_mean</th>\n",
       "      <th>histogram_median</th>\n",
       "      <th>histogram_variance</th>\n",
       "      <th>histogram_tendency</th>\n",
       "    </tr>\n",
       "  </thead>\n",
       "  <tbody>\n",
       "    <tr>\n",
       "      <th>434</th>\n",
       "      <td>1.565788</td>\n",
       "      <td>-0.524125</td>\n",
       "      <td>-0.246169</td>\n",
       "      <td>0.782896</td>\n",
       "      <td>1.267498</td>\n",
       "      <td>-0.120699</td>\n",
       "      <td>-0.474381</td>\n",
       "      <td>0.374898</td>\n",
       "      <td>0.108202</td>\n",
       "      <td>0.049289</td>\n",
       "      <td>...</td>\n",
       "      <td>1.924816</td>\n",
       "      <td>-1.406723</td>\n",
       "      <td>2.046232</td>\n",
       "      <td>1.337819</td>\n",
       "      <td>3.994123</td>\n",
       "      <td>1.008601</td>\n",
       "      <td>0.852336</td>\n",
       "      <td>1.128438</td>\n",
       "      <td>0.471372</td>\n",
       "      <td>1.217067</td>\n",
       "    </tr>\n",
       "    <tr>\n",
       "      <th>3116</th>\n",
       "      <td>0.274712</td>\n",
       "      <td>-0.524125</td>\n",
       "      <td>-0.244219</td>\n",
       "      <td>0.433370</td>\n",
       "      <td>-0.633785</td>\n",
       "      <td>-0.120699</td>\n",
       "      <td>1.566834</td>\n",
       "      <td>0.253205</td>\n",
       "      <td>-0.201938</td>\n",
       "      <td>-0.301147</td>\n",
       "      <td>...</td>\n",
       "      <td>1.191814</td>\n",
       "      <td>-0.837147</td>\n",
       "      <td>1.329306</td>\n",
       "      <td>2.640069</td>\n",
       "      <td>1.036785</td>\n",
       "      <td>0.302310</td>\n",
       "      <td>-0.055384</td>\n",
       "      <td>0.261972</td>\n",
       "      <td>0.739121</td>\n",
       "      <td>-0.376502</td>\n",
       "    </tr>\n",
       "    <tr>\n",
       "      <th>2064</th>\n",
       "      <td>-0.817737</td>\n",
       "      <td>-0.524125</td>\n",
       "      <td>-0.227510</td>\n",
       "      <td>0.782896</td>\n",
       "      <td>-0.633785</td>\n",
       "      <td>-0.120699</td>\n",
       "      <td>-0.474381</td>\n",
       "      <td>0.853339</td>\n",
       "      <td>-0.305317</td>\n",
       "      <td>1.237945</td>\n",
       "      <td>...</td>\n",
       "      <td>-1.098815</td>\n",
       "      <td>0.661736</td>\n",
       "      <td>-1.428100</td>\n",
       "      <td>-0.650184</td>\n",
       "      <td>-0.441885</td>\n",
       "      <td>-0.188477</td>\n",
       "      <td>-0.294258</td>\n",
       "      <td>-0.387877</td>\n",
       "      <td>-0.555763</td>\n",
       "      <td>-0.376502</td>\n",
       "    </tr>\n",
       "    <tr>\n",
       "      <th>1565</th>\n",
       "      <td>0.969907</td>\n",
       "      <td>0.822653</td>\n",
       "      <td>-0.246169</td>\n",
       "      <td>0.129378</td>\n",
       "      <td>-0.633785</td>\n",
       "      <td>-0.120699</td>\n",
       "      <td>-0.474381</td>\n",
       "      <td>-0.701592</td>\n",
       "      <td>-0.512077</td>\n",
       "      <td>-0.717586</td>\n",
       "      <td>...</td>\n",
       "      <td>-0.640689</td>\n",
       "      <td>1.081423</td>\n",
       "      <td>0.446936</td>\n",
       "      <td>-0.650184</td>\n",
       "      <td>-0.441885</td>\n",
       "      <td>1.185945</td>\n",
       "      <td>1.282309</td>\n",
       "      <td>1.290900</td>\n",
       "      <td>-0.531876</td>\n",
       "      <td>-0.376502</td>\n",
       "    </tr>\n",
       "    <tr>\n",
       "      <th>716</th>\n",
       "      <td>-0.321169</td>\n",
       "      <td>0.485959</td>\n",
       "      <td>-0.152876</td>\n",
       "      <td>0.782896</td>\n",
       "      <td>-0.633785</td>\n",
       "      <td>-0.120699</td>\n",
       "      <td>-0.474381</td>\n",
       "      <td>0.075873</td>\n",
       "      <td>-0.718837</td>\n",
       "      <td>0.125977</td>\n",
       "      <td>...</td>\n",
       "      <td>-0.686502</td>\n",
       "      <td>0.691714</td>\n",
       "      <td>-0.380286</td>\n",
       "      <td>-0.650184</td>\n",
       "      <td>-0.441885</td>\n",
       "      <td>-0.011132</td>\n",
       "      <td>0.183490</td>\n",
       "      <td>-0.062952</td>\n",
       "      <td>-0.507989</td>\n",
       "      <td>-0.376502</td>\n",
       "    </tr>\n",
       "  </tbody>\n",
       "</table>\n",
       "<p>5 rows × 21 columns</p>\n",
       "</div>"
      ],
      "text/plain": [
       "      baseline value  accelerations  fetal_movement  uterine_contractions  \\\n",
       "434         1.565788      -0.524125       -0.246169              0.782896   \n",
       "3116        0.274712      -0.524125       -0.244219              0.433370   \n",
       "2064       -0.817737      -0.524125       -0.227510              0.782896   \n",
       "1565        0.969907       0.822653       -0.246169              0.129378   \n",
       "716        -0.321169       0.485959       -0.152876              0.782896   \n",
       "\n",
       "      light_decelerations  severe_decelerations  prolongued_decelerations  \\\n",
       "434              1.267498             -0.120699                 -0.474381   \n",
       "3116            -0.633785             -0.120699                  1.566834   \n",
       "2064            -0.633785             -0.120699                 -0.474381   \n",
       "1565            -0.633785             -0.120699                 -0.474381   \n",
       "716             -0.633785             -0.120699                 -0.474381   \n",
       "\n",
       "      abnormal_short_term_variability  mean_value_of_short_term_variability  \\\n",
       "434                          0.374898                              0.108202   \n",
       "3116                         0.253205                             -0.201938   \n",
       "2064                         0.853339                             -0.305317   \n",
       "1565                        -0.701592                             -0.512077   \n",
       "716                          0.075873                             -0.718837   \n",
       "\n",
       "      percentage_of_time_with_abnormal_long_term_variability  ...  \\\n",
       "434                                            0.049289       ...   \n",
       "3116                                          -0.301147       ...   \n",
       "2064                                           1.237945       ...   \n",
       "1565                                          -0.717586       ...   \n",
       "716                                            0.125977       ...   \n",
       "\n",
       "      histogram_width  histogram_min  histogram_max  \\\n",
       "434          1.924816      -1.406723       2.046232   \n",
       "3116         1.191814      -0.837147       1.329306   \n",
       "2064        -1.098815       0.661736      -1.428100   \n",
       "1565        -0.640689       1.081423       0.446936   \n",
       "716         -0.686502       0.691714      -0.380286   \n",
       "\n",
       "      histogram_number_of_peaks  histogram_number_of_zeroes  histogram_mode  \\\n",
       "434                    1.337819                    3.994123        1.008601   \n",
       "3116                   2.640069                    1.036785        0.302310   \n",
       "2064                  -0.650184                   -0.441885       -0.188477   \n",
       "1565                  -0.650184                   -0.441885        1.185945   \n",
       "716                   -0.650184                   -0.441885       -0.011132   \n",
       "\n",
       "      histogram_mean  histogram_median  histogram_variance  histogram_tendency  \n",
       "434         0.852336          1.128438            0.471372            1.217067  \n",
       "3116       -0.055384          0.261972            0.739121           -0.376502  \n",
       "2064       -0.294258         -0.387877           -0.555763           -0.376502  \n",
       "1565        1.282309          1.290900           -0.531876           -0.376502  \n",
       "716         0.183490         -0.062952           -0.507989           -0.376502  \n",
       "\n",
       "[5 rows x 21 columns]"
      ]
     },
     "execution_count": 15,
     "metadata": {},
     "output_type": "execute_result"
    }
   ],
   "source": [
    "# scaling the numerical features\n",
    "from sklearn.preprocessing import StandardScaler\n",
    "\n",
    "scaler = StandardScaler()\n",
    "\n",
    "# column names are (annoyingly) lost after Scaling\n",
    "# (i.e. the dataframe is converted to a numpy ndarray)\n",
    "\n",
    "X_tra= pd.DataFrame(scaler.fit_transform(x_train), \n",
    "                                    columns = x_train.columns, \n",
    "                                    index = x_train.index)\n",
    "\n",
    "X_tra.head()"
   ]
  },
  {
   "cell_type": "code",
   "execution_count": 16,
   "id": "5a306c76",
   "metadata": {
    "ExecuteTime": {
     "end_time": "2023-07-04T13:51:48.429911Z",
     "start_time": "2023-07-04T13:51:48.373252Z"
    }
   },
   "outputs": [
    {
     "data": {
      "text/html": [
       "<div>\n",
       "<style scoped>\n",
       "    .dataframe tbody tr th:only-of-type {\n",
       "        vertical-align: middle;\n",
       "    }\n",
       "\n",
       "    .dataframe tbody tr th {\n",
       "        vertical-align: top;\n",
       "    }\n",
       "\n",
       "    .dataframe thead th {\n",
       "        text-align: right;\n",
       "    }\n",
       "</style>\n",
       "<table border=\"1\" class=\"dataframe\">\n",
       "  <thead>\n",
       "    <tr style=\"text-align: right;\">\n",
       "      <th></th>\n",
       "      <th>baseline value</th>\n",
       "      <th>accelerations</th>\n",
       "      <th>fetal_movement</th>\n",
       "      <th>uterine_contractions</th>\n",
       "      <th>light_decelerations</th>\n",
       "      <th>severe_decelerations</th>\n",
       "      <th>prolongued_decelerations</th>\n",
       "      <th>abnormal_short_term_variability</th>\n",
       "      <th>mean_value_of_short_term_variability</th>\n",
       "      <th>percentage_of_time_with_abnormal_long_term_variability</th>\n",
       "      <th>...</th>\n",
       "      <th>histogram_width</th>\n",
       "      <th>histogram_min</th>\n",
       "      <th>histogram_max</th>\n",
       "      <th>histogram_number_of_peaks</th>\n",
       "      <th>histogram_number_of_zeroes</th>\n",
       "      <th>histogram_mode</th>\n",
       "      <th>histogram_mean</th>\n",
       "      <th>histogram_median</th>\n",
       "      <th>histogram_variance</th>\n",
       "      <th>histogram_tendency</th>\n",
       "    </tr>\n",
       "  </thead>\n",
       "  <tbody>\n",
       "    <tr>\n",
       "      <th>408</th>\n",
       "      <td>1.466475</td>\n",
       "      <td>-0.524125</td>\n",
       "      <td>-0.246169</td>\n",
       "      <td>-1.177658</td>\n",
       "      <td>-0.316905</td>\n",
       "      <td>-0.120699</td>\n",
       "      <td>-0.474381</td>\n",
       "      <td>1.152364</td>\n",
       "      <td>-1.028976</td>\n",
       "      <td>0.892851</td>\n",
       "      <td>...</td>\n",
       "      <td>-0.709408</td>\n",
       "      <td>0.781646</td>\n",
       "      <td>-0.269989</td>\n",
       "      <td>-0.981517</td>\n",
       "      <td>-0.441885</td>\n",
       "      <td>0.919928</td>\n",
       "      <td>1.043435</td>\n",
       "      <td>1.074284</td>\n",
       "      <td>-0.555763</td>\n",
       "      <td>1.217067</td>\n",
       "    </tr>\n",
       "    <tr>\n",
       "      <th>4652</th>\n",
       "      <td>-1.088656</td>\n",
       "      <td>-0.524125</td>\n",
       "      <td>-0.139360</td>\n",
       "      <td>-1.177658</td>\n",
       "      <td>-0.633785</td>\n",
       "      <td>-0.120699</td>\n",
       "      <td>-0.474381</td>\n",
       "      <td>0.804523</td>\n",
       "      <td>-0.925596</td>\n",
       "      <td>2.329184</td>\n",
       "      <td>...</td>\n",
       "      <td>-1.319541</td>\n",
       "      <td>0.691714</td>\n",
       "      <td>-1.904362</td>\n",
       "      <td>-1.071667</td>\n",
       "      <td>-0.441885</td>\n",
       "      <td>-0.398095</td>\n",
       "      <td>-0.311646</td>\n",
       "      <td>-0.515895</td>\n",
       "      <td>-0.579650</td>\n",
       "      <td>-0.376502</td>\n",
       "    </tr>\n",
       "    <tr>\n",
       "      <th>3043</th>\n",
       "      <td>1.084441</td>\n",
       "      <td>-0.524125</td>\n",
       "      <td>-0.072451</td>\n",
       "      <td>-1.177658</td>\n",
       "      <td>-0.463204</td>\n",
       "      <td>-0.120699</td>\n",
       "      <td>-0.474381</td>\n",
       "      <td>0.637261</td>\n",
       "      <td>-0.766566</td>\n",
       "      <td>1.335347</td>\n",
       "      <td>...</td>\n",
       "      <td>0.368943</td>\n",
       "      <td>-0.664230</td>\n",
       "      <td>-0.333695</td>\n",
       "      <td>-0.318850</td>\n",
       "      <td>-0.441885</td>\n",
       "      <td>0.735704</td>\n",
       "      <td>0.819205</td>\n",
       "      <td>0.820112</td>\n",
       "      <td>-0.544735</td>\n",
       "      <td>1.217067</td>\n",
       "    </tr>\n",
       "    <tr>\n",
       "      <th>1670</th>\n",
       "      <td>-2.506067</td>\n",
       "      <td>-0.524125</td>\n",
       "      <td>-0.246169</td>\n",
       "      <td>0.456137</td>\n",
       "      <td>-0.633785</td>\n",
       "      <td>-0.120699</td>\n",
       "      <td>-0.474381</td>\n",
       "      <td>0.434704</td>\n",
       "      <td>-0.615457</td>\n",
       "      <td>-0.755929</td>\n",
       "      <td>...</td>\n",
       "      <td>-0.823940</td>\n",
       "      <td>0.032205</td>\n",
       "      <td>-1.924433</td>\n",
       "      <td>-0.981517</td>\n",
       "      <td>-0.441885</td>\n",
       "      <td>-1.030865</td>\n",
       "      <td>-0.963104</td>\n",
       "      <td>-1.254342</td>\n",
       "      <td>-0.555763</td>\n",
       "      <td>-0.376502</td>\n",
       "    </tr>\n",
       "    <tr>\n",
       "      <th>1181</th>\n",
       "      <td>-0.917051</td>\n",
       "      <td>1.832737</td>\n",
       "      <td>-0.246169</td>\n",
       "      <td>1.109654</td>\n",
       "      <td>-0.633785</td>\n",
       "      <td>-0.120699</td>\n",
       "      <td>-0.474381</td>\n",
       "      <td>-1.598667</td>\n",
       "      <td>0.004822</td>\n",
       "      <td>-0.755929</td>\n",
       "      <td>...</td>\n",
       "      <td>-0.388720</td>\n",
       "      <td>0.302004</td>\n",
       "      <td>-0.380286</td>\n",
       "      <td>-0.318850</td>\n",
       "      <td>-0.441885</td>\n",
       "      <td>-0.277150</td>\n",
       "      <td>0.135715</td>\n",
       "      <td>-0.062952</td>\n",
       "      <td>-0.316894</td>\n",
       "      <td>-0.376502</td>\n",
       "    </tr>\n",
       "  </tbody>\n",
       "</table>\n",
       "<p>5 rows × 21 columns</p>\n",
       "</div>"
      ],
      "text/plain": [
       "      baseline value  accelerations  fetal_movement  uterine_contractions  \\\n",
       "408         1.466475      -0.524125       -0.246169             -1.177658   \n",
       "4652       -1.088656      -0.524125       -0.139360             -1.177658   \n",
       "3043        1.084441      -0.524125       -0.072451             -1.177658   \n",
       "1670       -2.506067      -0.524125       -0.246169              0.456137   \n",
       "1181       -0.917051       1.832737       -0.246169              1.109654   \n",
       "\n",
       "      light_decelerations  severe_decelerations  prolongued_decelerations  \\\n",
       "408             -0.316905             -0.120699                 -0.474381   \n",
       "4652            -0.633785             -0.120699                 -0.474381   \n",
       "3043            -0.463204             -0.120699                 -0.474381   \n",
       "1670            -0.633785             -0.120699                 -0.474381   \n",
       "1181            -0.633785             -0.120699                 -0.474381   \n",
       "\n",
       "      abnormal_short_term_variability  mean_value_of_short_term_variability  \\\n",
       "408                          1.152364                             -1.028976   \n",
       "4652                         0.804523                             -0.925596   \n",
       "3043                         0.637261                             -0.766566   \n",
       "1670                         0.434704                             -0.615457   \n",
       "1181                        -1.598667                              0.004822   \n",
       "\n",
       "      percentage_of_time_with_abnormal_long_term_variability  ...  \\\n",
       "408                                            0.892851       ...   \n",
       "4652                                           2.329184       ...   \n",
       "3043                                           1.335347       ...   \n",
       "1670                                          -0.755929       ...   \n",
       "1181                                          -0.755929       ...   \n",
       "\n",
       "      histogram_width  histogram_min  histogram_max  \\\n",
       "408         -0.709408       0.781646      -0.269989   \n",
       "4652        -1.319541       0.691714      -1.904362   \n",
       "3043         0.368943      -0.664230      -0.333695   \n",
       "1670        -0.823940       0.032205      -1.924433   \n",
       "1181        -0.388720       0.302004      -0.380286   \n",
       "\n",
       "      histogram_number_of_peaks  histogram_number_of_zeroes  histogram_mode  \\\n",
       "408                   -0.981517                   -0.441885        0.919928   \n",
       "4652                  -1.071667                   -0.441885       -0.398095   \n",
       "3043                  -0.318850                   -0.441885        0.735704   \n",
       "1670                  -0.981517                   -0.441885       -1.030865   \n",
       "1181                  -0.318850                   -0.441885       -0.277150   \n",
       "\n",
       "      histogram_mean  histogram_median  histogram_variance  histogram_tendency  \n",
       "408         1.043435          1.074284           -0.555763            1.217067  \n",
       "4652       -0.311646         -0.515895           -0.579650           -0.376502  \n",
       "3043        0.819205          0.820112           -0.544735            1.217067  \n",
       "1670       -0.963104         -1.254342           -0.555763           -0.376502  \n",
       "1181        0.135715         -0.062952           -0.316894           -0.376502  \n",
       "\n",
       "[5 rows x 21 columns]"
      ]
     },
     "execution_count": 16,
     "metadata": {},
     "output_type": "execute_result"
    }
   ],
   "source": [
    "x_test_num_transformed = pd.DataFrame(scaler.transform(x_test), \n",
    "                                   columns = x_test.columns, \n",
    "                                   index = x_test.index)\n",
    "\n",
    "x_test_num_transformed.head()"
   ]
  },
  {
   "cell_type": "code",
   "execution_count": 17,
   "id": "21f18ff1",
   "metadata": {
    "ExecuteTime": {
     "end_time": "2023-07-04T13:51:52.955821Z",
     "start_time": "2023-07-04T13:51:48.771735Z"
    }
   },
   "outputs": [
    {
     "data": {
      "text/html": [
       "<style>#sk-container-id-1 {color: black;background-color: white;}#sk-container-id-1 pre{padding: 0;}#sk-container-id-1 div.sk-toggleable {background-color: white;}#sk-container-id-1 label.sk-toggleable__label {cursor: pointer;display: block;width: 100%;margin-bottom: 0;padding: 0.3em;box-sizing: border-box;text-align: center;}#sk-container-id-1 label.sk-toggleable__label-arrow:before {content: \"▸\";float: left;margin-right: 0.25em;color: #696969;}#sk-container-id-1 label.sk-toggleable__label-arrow:hover:before {color: black;}#sk-container-id-1 div.sk-estimator:hover label.sk-toggleable__label-arrow:before {color: black;}#sk-container-id-1 div.sk-toggleable__content {max-height: 0;max-width: 0;overflow: hidden;text-align: left;background-color: #f0f8ff;}#sk-container-id-1 div.sk-toggleable__content pre {margin: 0.2em;color: black;border-radius: 0.25em;background-color: #f0f8ff;}#sk-container-id-1 input.sk-toggleable__control:checked~div.sk-toggleable__content {max-height: 200px;max-width: 100%;overflow: auto;}#sk-container-id-1 input.sk-toggleable__control:checked~label.sk-toggleable__label-arrow:before {content: \"▾\";}#sk-container-id-1 div.sk-estimator input.sk-toggleable__control:checked~label.sk-toggleable__label {background-color: #d4ebff;}#sk-container-id-1 div.sk-label input.sk-toggleable__control:checked~label.sk-toggleable__label {background-color: #d4ebff;}#sk-container-id-1 input.sk-hidden--visually {border: 0;clip: rect(1px 1px 1px 1px);clip: rect(1px, 1px, 1px, 1px);height: 1px;margin: -1px;overflow: hidden;padding: 0;position: absolute;width: 1px;}#sk-container-id-1 div.sk-estimator {font-family: monospace;background-color: #f0f8ff;border: 1px dotted black;border-radius: 0.25em;box-sizing: border-box;margin-bottom: 0.5em;}#sk-container-id-1 div.sk-estimator:hover {background-color: #d4ebff;}#sk-container-id-1 div.sk-parallel-item::after {content: \"\";width: 100%;border-bottom: 1px solid gray;flex-grow: 1;}#sk-container-id-1 div.sk-label:hover label.sk-toggleable__label {background-color: #d4ebff;}#sk-container-id-1 div.sk-serial::before {content: \"\";position: absolute;border-left: 1px solid gray;box-sizing: border-box;top: 0;bottom: 0;left: 50%;z-index: 0;}#sk-container-id-1 div.sk-serial {display: flex;flex-direction: column;align-items: center;background-color: white;padding-right: 0.2em;padding-left: 0.2em;position: relative;}#sk-container-id-1 div.sk-item {position: relative;z-index: 1;}#sk-container-id-1 div.sk-parallel {display: flex;align-items: stretch;justify-content: center;background-color: white;position: relative;}#sk-container-id-1 div.sk-item::before, #sk-container-id-1 div.sk-parallel-item::before {content: \"\";position: absolute;border-left: 1px solid gray;box-sizing: border-box;top: 0;bottom: 0;left: 50%;z-index: -1;}#sk-container-id-1 div.sk-parallel-item {display: flex;flex-direction: column;z-index: 1;position: relative;background-color: white;}#sk-container-id-1 div.sk-parallel-item:first-child::after {align-self: flex-end;width: 50%;}#sk-container-id-1 div.sk-parallel-item:last-child::after {align-self: flex-start;width: 50%;}#sk-container-id-1 div.sk-parallel-item:only-child::after {width: 0;}#sk-container-id-1 div.sk-dashed-wrapped {border: 1px dashed gray;margin: 0 0.4em 0.5em 0.4em;box-sizing: border-box;padding-bottom: 0.4em;background-color: white;}#sk-container-id-1 div.sk-label label {font-family: monospace;font-weight: bold;display: inline-block;line-height: 1.2em;}#sk-container-id-1 div.sk-label-container {text-align: center;}#sk-container-id-1 div.sk-container {/* jupyter's `normalize.less` sets `[hidden] { display: none; }` but bootstrap.min.css set `[hidden] { display: none !important; }` so we also need the `!important` here to be able to override the default hidden behavior on the sphinx rendered scikit-learn.org. See: https://github.com/scikit-learn/scikit-learn/issues/21755 */display: inline-block !important;position: relative;}#sk-container-id-1 div.sk-text-repr-fallback {display: none;}</style><div id=\"sk-container-id-1\" class=\"sk-top-container\"><div class=\"sk-text-repr-fallback\"><pre>LogisticRegression()</pre><b>In a Jupyter environment, please rerun this cell to show the HTML representation or trust the notebook. <br />On GitHub, the HTML representation is unable to render, please try loading this page with nbviewer.org.</b></div><div class=\"sk-container\" hidden><div class=\"sk-item\"><div class=\"sk-estimator sk-toggleable\"><input class=\"sk-toggleable__control sk-hidden--visually\" id=\"sk-estimator-id-1\" type=\"checkbox\" checked><label for=\"sk-estimator-id-1\" class=\"sk-toggleable__label sk-toggleable__label-arrow\">LogisticRegression</label><div class=\"sk-toggleable__content\"><pre>LogisticRegression()</pre></div></div></div></div></div>"
      ],
      "text/plain": [
       "LogisticRegression()"
      ]
     },
     "execution_count": 17,
     "metadata": {},
     "output_type": "execute_result"
    }
   ],
   "source": [
    "from sklearn.linear_model import LogisticRegression\n",
    "lr = LogisticRegression()\n",
    "lr.fit(X_tra, y_train)"
   ]
  },
  {
   "cell_type": "code",
   "execution_count": 18,
   "id": "ae873d52",
   "metadata": {
    "ExecuteTime": {
     "end_time": "2023-07-04T13:51:52.988063Z",
     "start_time": "2023-07-04T13:51:52.963860Z"
    }
   },
   "outputs": [],
   "source": [
    "y_test_pred = lr.predict(x_test_num_transformed)"
   ]
  },
  {
   "cell_type": "code",
   "execution_count": 19,
   "id": "b9fa9ec6",
   "metadata": {
    "ExecuteTime": {
     "end_time": "2023-07-04T13:51:53.036335Z",
     "start_time": "2023-07-04T13:51:52.991492Z"
    }
   },
   "outputs": [
    {
     "data": {
      "text/html": [
       "<div>\n",
       "<style scoped>\n",
       "    .dataframe tbody tr th:only-of-type {\n",
       "        vertical-align: middle;\n",
       "    }\n",
       "\n",
       "    .dataframe tbody tr th {\n",
       "        vertical-align: top;\n",
       "    }\n",
       "\n",
       "    .dataframe thead th {\n",
       "        text-align: right;\n",
       "    }\n",
       "</style>\n",
       "<table border=\"1\" class=\"dataframe\">\n",
       "  <thead>\n",
       "    <tr style=\"text-align: right;\">\n",
       "      <th></th>\n",
       "      <th>Actual</th>\n",
       "      <th>Predicted</th>\n",
       "    </tr>\n",
       "  </thead>\n",
       "  <tbody>\n",
       "    <tr>\n",
       "      <th>408</th>\n",
       "      <td>2.0</td>\n",
       "      <td>2.0</td>\n",
       "    </tr>\n",
       "    <tr>\n",
       "      <th>4652</th>\n",
       "      <td>3.0</td>\n",
       "      <td>3.0</td>\n",
       "    </tr>\n",
       "    <tr>\n",
       "      <th>3043</th>\n",
       "      <td>2.0</td>\n",
       "      <td>2.0</td>\n",
       "    </tr>\n",
       "    <tr>\n",
       "      <th>1670</th>\n",
       "      <td>1.0</td>\n",
       "      <td>1.0</td>\n",
       "    </tr>\n",
       "    <tr>\n",
       "      <th>1181</th>\n",
       "      <td>1.0</td>\n",
       "      <td>1.0</td>\n",
       "    </tr>\n",
       "  </tbody>\n",
       "</table>\n",
       "</div>"
      ],
      "text/plain": [
       "      Actual  Predicted\n",
       "408      2.0        2.0\n",
       "4652     3.0        3.0\n",
       "3043     2.0        2.0\n",
       "1670     1.0        1.0\n",
       "1181     1.0        1.0"
      ]
     },
     "execution_count": 19,
     "metadata": {},
     "output_type": "execute_result"
    }
   ],
   "source": [
    "temp_df = pd.DataFrame({'Actual': y_test, 'Predicted': y_test_pred})\n",
    "\n",
    "temp_df.head()"
   ]
  },
  {
   "cell_type": "code",
   "execution_count": 20,
   "id": "bdb422c6",
   "metadata": {
    "ExecuteTime": {
     "end_time": "2023-07-04T13:51:53.060368Z",
     "start_time": "2023-07-04T13:51:53.044331Z"
    }
   },
   "outputs": [],
   "source": [
    "import sklearn.metrics as metrics\n",
    "A=metrics.accuracy_score(y_test_pred,y_test)"
   ]
  },
  {
   "cell_type": "code",
   "execution_count": 21,
   "id": "5710dc42",
   "metadata": {
    "ExecuteTime": {
     "end_time": "2023-07-04T13:51:53.607513Z",
     "start_time": "2023-07-04T13:51:53.068870Z"
    }
   },
   "outputs": [
    {
     "data": {
      "image/png": "[encoded data removed]",
      "text/plain": [
       "<Figure size 640x480 with 1 Axes>"
      ]
     },
     "metadata": {},
     "output_type": "display_data"
    }
   ],
   "source": [
    "sns.histplot(y_test, color='blue', alpha=0.5)\n",
    "sns.histplot(y_test_pred, color='red', alpha=0.5);"
   ]
  },
  {
   "cell_type": "code",
   "execution_count": 22,
   "id": "49996335",
   "metadata": {
    "ExecuteTime": {
     "end_time": "2023-07-04T13:51:53.644170Z",
     "start_time": "2023-07-04T13:51:53.607513Z"
    }
   },
   "outputs": [
    {
     "data": {
      "text/html": [
       "<style>#sk-container-id-2 {color: black;background-color: white;}#sk-container-id-2 pre{padding: 0;}#sk-container-id-2 div.sk-toggleable {background-color: white;}#sk-container-id-2 label.sk-toggleable__label {cursor: pointer;display: block;width: 100%;margin-bottom: 0;padding: 0.3em;box-sizing: border-box;text-align: center;}#sk-container-id-2 label.sk-toggleable__label-arrow:before {content: \"▸\";float: left;margin-right: 0.25em;color: #696969;}#sk-container-id-2 label.sk-toggleable__label-arrow:hover:before {color: black;}#sk-container-id-2 div.sk-estimator:hover label.sk-toggleable__label-arrow:before {color: black;}#sk-container-id-2 div.sk-toggleable__content {max-height: 0;max-width: 0;overflow: hidden;text-align: left;background-color: #f0f8ff;}#sk-container-id-2 div.sk-toggleable__content pre {margin: 0.2em;color: black;border-radius: 0.25em;background-color: #f0f8ff;}#sk-container-id-2 input.sk-toggleable__control:checked~div.sk-toggleable__content {max-height: 200px;max-width: 100%;overflow: auto;}#sk-container-id-2 input.sk-toggleable__control:checked~label.sk-toggleable__label-arrow:before {content: \"▾\";}#sk-container-id-2 div.sk-estimator input.sk-toggleable__control:checked~label.sk-toggleable__label {background-color: #d4ebff;}#sk-container-id-2 div.sk-label input.sk-toggleable__control:checked~label.sk-toggleable__label {background-color: #d4ebff;}#sk-container-id-2 input.sk-hidden--visually {border: 0;clip: rect(1px 1px 1px 1px);clip: rect(1px, 1px, 1px, 1px);height: 1px;margin: -1px;overflow: hidden;padding: 0;position: absolute;width: 1px;}#sk-container-id-2 div.sk-estimator {font-family: monospace;background-color: #f0f8ff;border: 1px dotted black;border-radius: 0.25em;box-sizing: border-box;margin-bottom: 0.5em;}#sk-container-id-2 div.sk-estimator:hover {background-color: #d4ebff;}#sk-container-id-2 div.sk-parallel-item::after {content: \"\";width: 100%;border-bottom: 1px solid gray;flex-grow: 1;}#sk-container-id-2 div.sk-label:hover label.sk-toggleable__label {background-color: #d4ebff;}#sk-container-id-2 div.sk-serial::before {content: \"\";position: absolute;border-left: 1px solid gray;box-sizing: border-box;top: 0;bottom: 0;left: 50%;z-index: 0;}#sk-container-id-2 div.sk-serial {display: flex;flex-direction: column;align-items: center;background-color: white;padding-right: 0.2em;padding-left: 0.2em;position: relative;}#sk-container-id-2 div.sk-item {position: relative;z-index: 1;}#sk-container-id-2 div.sk-parallel {display: flex;align-items: stretch;justify-content: center;background-color: white;position: relative;}#sk-container-id-2 div.sk-item::before, #sk-container-id-2 div.sk-parallel-item::before {content: \"\";position: absolute;border-left: 1px solid gray;box-sizing: border-box;top: 0;bottom: 0;left: 50%;z-index: -1;}#sk-container-id-2 div.sk-parallel-item {display: flex;flex-direction: column;z-index: 1;position: relative;background-color: white;}#sk-container-id-2 div.sk-parallel-item:first-child::after {align-self: flex-end;width: 50%;}#sk-container-id-2 div.sk-parallel-item:last-child::after {align-self: flex-start;width: 50%;}#sk-container-id-2 div.sk-parallel-item:only-child::after {width: 0;}#sk-container-id-2 div.sk-dashed-wrapped {border: 1px dashed gray;margin: 0 0.4em 0.5em 0.4em;box-sizing: border-box;padding-bottom: 0.4em;background-color: white;}#sk-container-id-2 div.sk-label label {font-family: monospace;font-weight: bold;display: inline-block;line-height: 1.2em;}#sk-container-id-2 div.sk-label-container {text-align: center;}#sk-container-id-2 div.sk-container {/* jupyter's `normalize.less` sets `[hidden] { display: none; }` but bootstrap.min.css set `[hidden] { display: none !important; }` so we also need the `!important` here to be able to override the default hidden behavior on the sphinx rendered scikit-learn.org. See: https://github.com/scikit-learn/scikit-learn/issues/21755 */display: inline-block !important;position: relative;}#sk-container-id-2 div.sk-text-repr-fallback {display: none;}</style><div id=\"sk-container-id-2\" class=\"sk-top-container\"><div class=\"sk-text-repr-fallback\"><pre>KNeighborsClassifier()</pre><b>In a Jupyter environment, please rerun this cell to show the HTML representation or trust the notebook. <br />On GitHub, the HTML representation is unable to render, please try loading this page with nbviewer.org.</b></div><div class=\"sk-container\" hidden><div class=\"sk-item\"><div class=\"sk-estimator sk-toggleable\"><input class=\"sk-toggleable__control sk-hidden--visually\" id=\"sk-estimator-id-2\" type=\"checkbox\" checked><label for=\"sk-estimator-id-2\" class=\"sk-toggleable__label sk-toggleable__label-arrow\">KNeighborsClassifier</label><div class=\"sk-toggleable__content\"><pre>KNeighborsClassifier()</pre></div></div></div></div></div>"
      ],
      "text/plain": [
       "KNeighborsClassifier()"
      ]
     },
     "execution_count": 22,
     "metadata": {},
     "output_type": "execute_result"
    }
   ],
   "source": [
    "from sklearn.neighbors import KNeighborsClassifier\n",
    "knn=KNeighborsClassifier()\n",
    "knn.fit(X_tra, y_train)"
   ]
  },
  {
   "cell_type": "code",
   "execution_count": 23,
   "id": "85abfe43",
   "metadata": {
    "ExecuteTime": {
     "end_time": "2023-07-04T13:51:53.873372Z",
     "start_time": "2023-07-04T13:51:53.648035Z"
    }
   },
   "outputs": [],
   "source": [
    "y_test_pred = knn.predict(x_test_num_transformed)"
   ]
  },
  {
   "cell_type": "code",
   "execution_count": 24,
   "id": "682da203",
   "metadata": {
    "ExecuteTime": {
     "end_time": "2023-07-04T13:51:53.905095Z",
     "start_time": "2023-07-04T13:51:53.874016Z"
    }
   },
   "outputs": [
    {
     "data": {
      "text/html": [
       "<div>\n",
       "<style scoped>\n",
       "    .dataframe tbody tr th:only-of-type {\n",
       "        vertical-align: middle;\n",
       "    }\n",
       "\n",
       "    .dataframe tbody tr th {\n",
       "        vertical-align: top;\n",
       "    }\n",
       "\n",
       "    .dataframe thead th {\n",
       "        text-align: right;\n",
       "    }\n",
       "</style>\n",
       "<table border=\"1\" class=\"dataframe\">\n",
       "  <thead>\n",
       "    <tr style=\"text-align: right;\">\n",
       "      <th></th>\n",
       "      <th>Actual</th>\n",
       "      <th>Predicted</th>\n",
       "    </tr>\n",
       "  </thead>\n",
       "  <tbody>\n",
       "    <tr>\n",
       "      <th>408</th>\n",
       "      <td>2.0</td>\n",
       "      <td>2.0</td>\n",
       "    </tr>\n",
       "    <tr>\n",
       "      <th>4652</th>\n",
       "      <td>3.0</td>\n",
       "      <td>3.0</td>\n",
       "    </tr>\n",
       "    <tr>\n",
       "      <th>3043</th>\n",
       "      <td>2.0</td>\n",
       "      <td>2.0</td>\n",
       "    </tr>\n",
       "    <tr>\n",
       "      <th>1670</th>\n",
       "      <td>1.0</td>\n",
       "      <td>1.0</td>\n",
       "    </tr>\n",
       "    <tr>\n",
       "      <th>1181</th>\n",
       "      <td>1.0</td>\n",
       "      <td>1.0</td>\n",
       "    </tr>\n",
       "  </tbody>\n",
       "</table>\n",
       "</div>"
      ],
      "text/plain": [
       "      Actual  Predicted\n",
       "408      2.0        2.0\n",
       "4652     3.0        3.0\n",
       "3043     2.0        2.0\n",
       "1670     1.0        1.0\n",
       "1181     1.0        1.0"
      ]
     },
     "execution_count": 24,
     "metadata": {},
     "output_type": "execute_result"
    }
   ],
   "source": [
    "temp_df = pd.DataFrame({'Actual': y_test, 'Predicted': y_test_pred})\n",
    "\n",
    "temp_df.head()"
   ]
  },
  {
   "cell_type": "code",
   "execution_count": 25,
   "id": "d2504ec0",
   "metadata": {
    "ExecuteTime": {
     "end_time": "2023-07-04T13:51:53.954856Z",
     "start_time": "2023-07-04T13:51:53.908308Z"
    }
   },
   "outputs": [],
   "source": [
    "B=metrics.accuracy_score(y_test_pred,y_test)"
   ]
  },
  {
   "cell_type": "code",
   "execution_count": 26,
   "id": "8b497c9d",
   "metadata": {
    "ExecuteTime": {
     "end_time": "2023-07-04T13:51:54.336646Z",
     "start_time": "2023-07-04T13:51:54.264405Z"
    }
   },
   "outputs": [
    {
     "data": {
      "text/html": [
       "<style>#sk-container-id-3 {color: black;background-color: white;}#sk-container-id-3 pre{padding: 0;}#sk-container-id-3 div.sk-toggleable {background-color: white;}#sk-container-id-3 label.sk-toggleable__label {cursor: pointer;display: block;width: 100%;margin-bottom: 0;padding: 0.3em;box-sizing: border-box;text-align: center;}#sk-container-id-3 label.sk-toggleable__label-arrow:before {content: \"▸\";float: left;margin-right: 0.25em;color: #696969;}#sk-container-id-3 label.sk-toggleable__label-arrow:hover:before {color: black;}#sk-container-id-3 div.sk-estimator:hover label.sk-toggleable__label-arrow:before {color: black;}#sk-container-id-3 div.sk-toggleable__content {max-height: 0;max-width: 0;overflow: hidden;text-align: left;background-color: #f0f8ff;}#sk-container-id-3 div.sk-toggleable__content pre {margin: 0.2em;color: black;border-radius: 0.25em;background-color: #f0f8ff;}#sk-container-id-3 input.sk-toggleable__control:checked~div.sk-toggleable__content {max-height: 200px;max-width: 100%;overflow: auto;}#sk-container-id-3 input.sk-toggleable__control:checked~label.sk-toggleable__label-arrow:before {content: \"▾\";}#sk-container-id-3 div.sk-estimator input.sk-toggleable__control:checked~label.sk-toggleable__label {background-color: #d4ebff;}#sk-container-id-3 div.sk-label input.sk-toggleable__control:checked~label.sk-toggleable__label {background-color: #d4ebff;}#sk-container-id-3 input.sk-hidden--visually {border: 0;clip: rect(1px 1px 1px 1px);clip: rect(1px, 1px, 1px, 1px);height: 1px;margin: -1px;overflow: hidden;padding: 0;position: absolute;width: 1px;}#sk-container-id-3 div.sk-estimator {font-family: monospace;background-color: #f0f8ff;border: 1px dotted black;border-radius: 0.25em;box-sizing: border-box;margin-bottom: 0.5em;}#sk-container-id-3 div.sk-estimator:hover {background-color: #d4ebff;}#sk-container-id-3 div.sk-parallel-item::after {content: \"\";width: 100%;border-bottom: 1px solid gray;flex-grow: 1;}#sk-container-id-3 div.sk-label:hover label.sk-toggleable__label {background-color: #d4ebff;}#sk-container-id-3 div.sk-serial::before {content: \"\";position: absolute;border-left: 1px solid gray;box-sizing: border-box;top: 0;bottom: 0;left: 50%;z-index: 0;}#sk-container-id-3 div.sk-serial {display: flex;flex-direction: column;align-items: center;background-color: white;padding-right: 0.2em;padding-left: 0.2em;position: relative;}#sk-container-id-3 div.sk-item {position: relative;z-index: 1;}#sk-container-id-3 div.sk-parallel {display: flex;align-items: stretch;justify-content: center;background-color: white;position: relative;}#sk-container-id-3 div.sk-item::before, #sk-container-id-3 div.sk-parallel-item::before {content: \"\";position: absolute;border-left: 1px solid gray;box-sizing: border-box;top: 0;bottom: 0;left: 50%;z-index: -1;}#sk-container-id-3 div.sk-parallel-item {display: flex;flex-direction: column;z-index: 1;position: relative;background-color: white;}#sk-container-id-3 div.sk-parallel-item:first-child::after {align-self: flex-end;width: 50%;}#sk-container-id-3 div.sk-parallel-item:last-child::after {align-self: flex-start;width: 50%;}#sk-container-id-3 div.sk-parallel-item:only-child::after {width: 0;}#sk-container-id-3 div.sk-dashed-wrapped {border: 1px dashed gray;margin: 0 0.4em 0.5em 0.4em;box-sizing: border-box;padding-bottom: 0.4em;background-color: white;}#sk-container-id-3 div.sk-label label {font-family: monospace;font-weight: bold;display: inline-block;line-height: 1.2em;}#sk-container-id-3 div.sk-label-container {text-align: center;}#sk-container-id-3 div.sk-container {/* jupyter's `normalize.less` sets `[hidden] { display: none; }` but bootstrap.min.css set `[hidden] { display: none !important; }` so we also need the `!important` here to be able to override the default hidden behavior on the sphinx rendered scikit-learn.org. See: https://github.com/scikit-learn/scikit-learn/issues/21755 */display: inline-block !important;position: relative;}#sk-container-id-3 div.sk-text-repr-fallback {display: none;}</style><div id=\"sk-container-id-3\" class=\"sk-top-container\"><div class=\"sk-text-repr-fallback\"><pre>DecisionTreeRegressor()</pre><b>In a Jupyter environment, please rerun this cell to show the HTML representation or trust the notebook. <br />On GitHub, the HTML representation is unable to render, please try loading this page with nbviewer.org.</b></div><div class=\"sk-container\" hidden><div class=\"sk-item\"><div class=\"sk-estimator sk-toggleable\"><input class=\"sk-toggleable__control sk-hidden--visually\" id=\"sk-estimator-id-3\" type=\"checkbox\" checked><label for=\"sk-estimator-id-3\" class=\"sk-toggleable__label sk-toggleable__label-arrow\">DecisionTreeRegressor</label><div class=\"sk-toggleable__content\"><pre>DecisionTreeRegressor()</pre></div></div></div></div></div>"
      ],
      "text/plain": [
       "DecisionTreeRegressor()"
      ]
     },
     "execution_count": 26,
     "metadata": {},
     "output_type": "execute_result"
    }
   ],
   "source": [
    "from sklearn.tree import DecisionTreeRegressor\n",
    "regressor = DecisionTreeRegressor()\n",
    "regressor.fit(X_tra, y_train)"
   ]
  },
  {
   "cell_type": "code",
   "execution_count": 27,
   "id": "0a9c8ee8",
   "metadata": {
    "ExecuteTime": {
     "end_time": "2023-07-04T13:51:54.767627Z",
     "start_time": "2023-07-04T13:51:54.751555Z"
    }
   },
   "outputs": [],
   "source": [
    "y_test_pre=regressor.predict(x_test_num_transformed)"
   ]
  },
  {
   "cell_type": "code",
   "execution_count": 28,
   "id": "65dea9f7",
   "metadata": {
    "ExecuteTime": {
     "end_time": "2023-07-04T13:51:55.070539Z",
     "start_time": "2023-07-04T13:51:55.053306Z"
    }
   },
   "outputs": [],
   "source": [
    "C=metrics.accuracy_score(y_test_pre,y_test)"
   ]
  },
  {
   "cell_type": "code",
   "execution_count": 29,
   "id": "009290ed",
   "metadata": {
    "ExecuteTime": {
     "end_time": "2023-07-04T13:51:55.646153Z",
     "start_time": "2023-07-04T13:51:55.622017Z"
    }
   },
   "outputs": [
    {
     "data": {
      "text/html": [
       "<div>\n",
       "<style scoped>\n",
       "    .dataframe tbody tr th:only-of-type {\n",
       "        vertical-align: middle;\n",
       "    }\n",
       "\n",
       "    .dataframe tbody tr th {\n",
       "        vertical-align: top;\n",
       "    }\n",
       "\n",
       "    .dataframe thead th {\n",
       "        text-align: right;\n",
       "    }\n",
       "</style>\n",
       "<table border=\"1\" class=\"dataframe\">\n",
       "  <thead>\n",
       "    <tr style=\"text-align: right;\">\n",
       "      <th></th>\n",
       "      <th>Actual</th>\n",
       "      <th>Predicted</th>\n",
       "    </tr>\n",
       "  </thead>\n",
       "  <tbody>\n",
       "    <tr>\n",
       "      <th>408</th>\n",
       "      <td>2.0</td>\n",
       "      <td>2.0</td>\n",
       "    </tr>\n",
       "    <tr>\n",
       "      <th>4652</th>\n",
       "      <td>3.0</td>\n",
       "      <td>3.0</td>\n",
       "    </tr>\n",
       "    <tr>\n",
       "      <th>3043</th>\n",
       "      <td>2.0</td>\n",
       "      <td>2.0</td>\n",
       "    </tr>\n",
       "    <tr>\n",
       "      <th>1670</th>\n",
       "      <td>1.0</td>\n",
       "      <td>1.0</td>\n",
       "    </tr>\n",
       "    <tr>\n",
       "      <th>1181</th>\n",
       "      <td>1.0</td>\n",
       "      <td>1.0</td>\n",
       "    </tr>\n",
       "  </tbody>\n",
       "</table>\n",
       "</div>"
      ],
      "text/plain": [
       "      Actual  Predicted\n",
       "408      2.0        2.0\n",
       "4652     3.0        3.0\n",
       "3043     2.0        2.0\n",
       "1670     1.0        1.0\n",
       "1181     1.0        1.0"
      ]
     },
     "execution_count": 29,
     "metadata": {},
     "output_type": "execute_result"
    }
   ],
   "source": [
    "temp_df = pd.DataFrame({'Actual': y_test, 'Predicted': y_test_pred})\n",
    "\n",
    "temp_df.head()"
   ]
  },
  {
   "cell_type": "code",
   "execution_count": 30,
   "id": "952aec94",
   "metadata": {
    "ExecuteTime": {
     "end_time": "2023-07-04T13:51:56.228064Z",
     "start_time": "2023-07-04T13:51:55.902621Z"
    }
   },
   "outputs": [
    {
     "data": {
      "text/html": [
       "<style>#sk-container-id-4 {color: black;background-color: white;}#sk-container-id-4 pre{padding: 0;}#sk-container-id-4 div.sk-toggleable {background-color: white;}#sk-container-id-4 label.sk-toggleable__label {cursor: pointer;display: block;width: 100%;margin-bottom: 0;padding: 0.3em;box-sizing: border-box;text-align: center;}#sk-container-id-4 label.sk-toggleable__label-arrow:before {content: \"▸\";float: left;margin-right: 0.25em;color: #696969;}#sk-container-id-4 label.sk-toggleable__label-arrow:hover:before {color: black;}#sk-container-id-4 div.sk-estimator:hover label.sk-toggleable__label-arrow:before {color: black;}#sk-container-id-4 div.sk-toggleable__content {max-height: 0;max-width: 0;overflow: hidden;text-align: left;background-color: #f0f8ff;}#sk-container-id-4 div.sk-toggleable__content pre {margin: 0.2em;color: black;border-radius: 0.25em;background-color: #f0f8ff;}#sk-container-id-4 input.sk-toggleable__control:checked~div.sk-toggleable__content {max-height: 200px;max-width: 100%;overflow: auto;}#sk-container-id-4 input.sk-toggleable__control:checked~label.sk-toggleable__label-arrow:before {content: \"▾\";}#sk-container-id-4 div.sk-estimator input.sk-toggleable__control:checked~label.sk-toggleable__label {background-color: #d4ebff;}#sk-container-id-4 div.sk-label input.sk-toggleable__control:checked~label.sk-toggleable__label {background-color: #d4ebff;}#sk-container-id-4 input.sk-hidden--visually {border: 0;clip: rect(1px 1px 1px 1px);clip: rect(1px, 1px, 1px, 1px);height: 1px;margin: -1px;overflow: hidden;padding: 0;position: absolute;width: 1px;}#sk-container-id-4 div.sk-estimator {font-family: monospace;background-color: #f0f8ff;border: 1px dotted black;border-radius: 0.25em;box-sizing: border-box;margin-bottom: 0.5em;}#sk-container-id-4 div.sk-estimator:hover {background-color: #d4ebff;}#sk-container-id-4 div.sk-parallel-item::after {content: \"\";width: 100%;border-bottom: 1px solid gray;flex-grow: 1;}#sk-container-id-4 div.sk-label:hover label.sk-toggleable__label {background-color: #d4ebff;}#sk-container-id-4 div.sk-serial::before {content: \"\";position: absolute;border-left: 1px solid gray;box-sizing: border-box;top: 0;bottom: 0;left: 50%;z-index: 0;}#sk-container-id-4 div.sk-serial {display: flex;flex-direction: column;align-items: center;background-color: white;padding-right: 0.2em;padding-left: 0.2em;position: relative;}#sk-container-id-4 div.sk-item {position: relative;z-index: 1;}#sk-container-id-4 div.sk-parallel {display: flex;align-items: stretch;justify-content: center;background-color: white;position: relative;}#sk-container-id-4 div.sk-item::before, #sk-container-id-4 div.sk-parallel-item::before {content: \"\";position: absolute;border-left: 1px solid gray;box-sizing: border-box;top: 0;bottom: 0;left: 50%;z-index: -1;}#sk-container-id-4 div.sk-parallel-item {display: flex;flex-direction: column;z-index: 1;position: relative;background-color: white;}#sk-container-id-4 div.sk-parallel-item:first-child::after {align-self: flex-end;width: 50%;}#sk-container-id-4 div.sk-parallel-item:last-child::after {align-self: flex-start;width: 50%;}#sk-container-id-4 div.sk-parallel-item:only-child::after {width: 0;}#sk-container-id-4 div.sk-dashed-wrapped {border: 1px dashed gray;margin: 0 0.4em 0.5em 0.4em;box-sizing: border-box;padding-bottom: 0.4em;background-color: white;}#sk-container-id-4 div.sk-label label {font-family: monospace;font-weight: bold;display: inline-block;line-height: 1.2em;}#sk-container-id-4 div.sk-label-container {text-align: center;}#sk-container-id-4 div.sk-container {/* jupyter's `normalize.less` sets `[hidden] { display: none; }` but bootstrap.min.css set `[hidden] { display: none !important; }` so we also need the `!important` here to be able to override the default hidden behavior on the sphinx rendered scikit-learn.org. See: https://github.com/scikit-learn/scikit-learn/issues/21755 */display: inline-block !important;position: relative;}#sk-container-id-4 div.sk-text-repr-fallback {display: none;}</style><div id=\"sk-container-id-4\" class=\"sk-top-container\"><div class=\"sk-text-repr-fallback\"><pre>SVC()</pre><b>In a Jupyter environment, please rerun this cell to show the HTML representation or trust the notebook. <br />On GitHub, the HTML representation is unable to render, please try loading this page with nbviewer.org.</b></div><div class=\"sk-container\" hidden><div class=\"sk-item\"><div class=\"sk-estimator sk-toggleable\"><input class=\"sk-toggleable__control sk-hidden--visually\" id=\"sk-estimator-id-4\" type=\"checkbox\" checked><label for=\"sk-estimator-id-4\" class=\"sk-toggleable__label sk-toggleable__label-arrow\">SVC</label><div class=\"sk-toggleable__content\"><pre>SVC()</pre></div></div></div></div></div>"
      ],
      "text/plain": [
       "SVC()"
      ]
     },
     "execution_count": 30,
     "metadata": {},
     "output_type": "execute_result"
    }
   ],
   "source": [
    "from sklearn.svm import SVC\n",
    "classifier = SVC()\n",
    "classifier.fit(X_tra, y_train)"
   ]
  },
  {
   "cell_type": "code",
   "execution_count": 31,
   "id": "0b923212",
   "metadata": {
    "ExecuteTime": {
     "end_time": "2023-07-04T13:51:56.641434Z",
     "start_time": "2023-07-04T13:51:56.277402Z"
    }
   },
   "outputs": [],
   "source": [
    "y_pre=classifier.predict(x_test_num_transformed)"
   ]
  },
  {
   "cell_type": "code",
   "execution_count": 32,
   "id": "213860ef",
   "metadata": {
    "ExecuteTime": {
     "end_time": "2023-07-04T13:51:56.673929Z",
     "start_time": "2023-07-04T13:51:56.649933Z"
    }
   },
   "outputs": [],
   "source": [
    "D=metrics.accuracy_score(y_pre,y_test)"
   ]
  },
  {
   "cell_type": "code",
   "execution_count": 33,
   "id": "a47c51df",
   "metadata": {
    "ExecuteTime": {
     "end_time": "2023-07-04T13:51:57.015408Z",
     "start_time": "2023-07-04T13:51:56.999393Z"
    }
   },
   "outputs": [],
   "source": [
    "temp_df=pd.DataFrame({'Actual':y_test,'Predict':y_pre})"
   ]
  },
  {
   "cell_type": "code",
   "execution_count": 34,
   "id": "35797bad",
   "metadata": {
    "ExecuteTime": {
     "end_time": "2023-07-04T13:51:57.396410Z",
     "start_time": "2023-07-04T13:51:57.364137Z"
    }
   },
   "outputs": [
    {
     "data": {
      "text/html": [
       "<div>\n",
       "<style scoped>\n",
       "    .dataframe tbody tr th:only-of-type {\n",
       "        vertical-align: middle;\n",
       "    }\n",
       "\n",
       "    .dataframe tbody tr th {\n",
       "        vertical-align: top;\n",
       "    }\n",
       "\n",
       "    .dataframe thead th {\n",
       "        text-align: right;\n",
       "    }\n",
       "</style>\n",
       "<table border=\"1\" class=\"dataframe\">\n",
       "  <thead>\n",
       "    <tr style=\"text-align: right;\">\n",
       "      <th></th>\n",
       "      <th>Actual</th>\n",
       "      <th>Predict</th>\n",
       "    </tr>\n",
       "  </thead>\n",
       "  <tbody>\n",
       "    <tr>\n",
       "      <th>408</th>\n",
       "      <td>2.0</td>\n",
       "      <td>2.0</td>\n",
       "    </tr>\n",
       "    <tr>\n",
       "      <th>4652</th>\n",
       "      <td>3.0</td>\n",
       "      <td>3.0</td>\n",
       "    </tr>\n",
       "    <tr>\n",
       "      <th>3043</th>\n",
       "      <td>2.0</td>\n",
       "      <td>2.0</td>\n",
       "    </tr>\n",
       "    <tr>\n",
       "      <th>1670</th>\n",
       "      <td>1.0</td>\n",
       "      <td>1.0</td>\n",
       "    </tr>\n",
       "    <tr>\n",
       "      <th>1181</th>\n",
       "      <td>1.0</td>\n",
       "      <td>1.0</td>\n",
       "    </tr>\n",
       "  </tbody>\n",
       "</table>\n",
       "</div>"
      ],
      "text/plain": [
       "      Actual  Predict\n",
       "408      2.0      2.0\n",
       "4652     3.0      3.0\n",
       "3043     2.0      2.0\n",
       "1670     1.0      1.0\n",
       "1181     1.0      1.0"
      ]
     },
     "execution_count": 34,
     "metadata": {},
     "output_type": "execute_result"
    }
   ],
   "source": [
    "temp_df.head()"
   ]
  },
  {
   "cell_type": "code",
   "execution_count": 35,
   "id": "6d7d7470",
   "metadata": {
    "ExecuteTime": {
     "end_time": "2023-07-04T13:51:57.719866Z",
     "start_time": "2023-07-04T13:51:57.695941Z"
    }
   },
   "outputs": [
    {
     "data": {
      "text/plain": [
       "0.9308724832214765"
      ]
     },
     "execution_count": 35,
     "metadata": {},
     "output_type": "execute_result"
    }
   ],
   "source": [
    "metrics.accuracy_score(y_pre,y_test)"
   ]
  },
  {
   "cell_type": "code",
   "execution_count": 36,
   "id": "bd06f7fb",
   "metadata": {
    "ExecuteTime": {
     "end_time": "2023-07-04T13:51:59.973224Z",
     "start_time": "2023-07-04T13:51:58.319177Z"
    }
   },
   "outputs": [
    {
     "data": {
      "text/html": [
       "<style>#sk-container-id-5 {color: black;background-color: white;}#sk-container-id-5 pre{padding: 0;}#sk-container-id-5 div.sk-toggleable {background-color: white;}#sk-container-id-5 label.sk-toggleable__label {cursor: pointer;display: block;width: 100%;margin-bottom: 0;padding: 0.3em;box-sizing: border-box;text-align: center;}#sk-container-id-5 label.sk-toggleable__label-arrow:before {content: \"▸\";float: left;margin-right: 0.25em;color: #696969;}#sk-container-id-5 label.sk-toggleable__label-arrow:hover:before {color: black;}#sk-container-id-5 div.sk-estimator:hover label.sk-toggleable__label-arrow:before {color: black;}#sk-container-id-5 div.sk-toggleable__content {max-height: 0;max-width: 0;overflow: hidden;text-align: left;background-color: #f0f8ff;}#sk-container-id-5 div.sk-toggleable__content pre {margin: 0.2em;color: black;border-radius: 0.25em;background-color: #f0f8ff;}#sk-container-id-5 input.sk-toggleable__control:checked~div.sk-toggleable__content {max-height: 200px;max-width: 100%;overflow: auto;}#sk-container-id-5 input.sk-toggleable__control:checked~label.sk-toggleable__label-arrow:before {content: \"▾\";}#sk-container-id-5 div.sk-estimator input.sk-toggleable__control:checked~label.sk-toggleable__label {background-color: #d4ebff;}#sk-container-id-5 div.sk-label input.sk-toggleable__control:checked~label.sk-toggleable__label {background-color: #d4ebff;}#sk-container-id-5 input.sk-hidden--visually {border: 0;clip: rect(1px 1px 1px 1px);clip: rect(1px, 1px, 1px, 1px);height: 1px;margin: -1px;overflow: hidden;padding: 0;position: absolute;width: 1px;}#sk-container-id-5 div.sk-estimator {font-family: monospace;background-color: #f0f8ff;border: 1px dotted black;border-radius: 0.25em;box-sizing: border-box;margin-bottom: 0.5em;}#sk-container-id-5 div.sk-estimator:hover {background-color: #d4ebff;}#sk-container-id-5 div.sk-parallel-item::after {content: \"\";width: 100%;border-bottom: 1px solid gray;flex-grow: 1;}#sk-container-id-5 div.sk-label:hover label.sk-toggleable__label {background-color: #d4ebff;}#sk-container-id-5 div.sk-serial::before {content: \"\";position: absolute;border-left: 1px solid gray;box-sizing: border-box;top: 0;bottom: 0;left: 50%;z-index: 0;}#sk-container-id-5 div.sk-serial {display: flex;flex-direction: column;align-items: center;background-color: white;padding-right: 0.2em;padding-left: 0.2em;position: relative;}#sk-container-id-5 div.sk-item {position: relative;z-index: 1;}#sk-container-id-5 div.sk-parallel {display: flex;align-items: stretch;justify-content: center;background-color: white;position: relative;}#sk-container-id-5 div.sk-item::before, #sk-container-id-5 div.sk-parallel-item::before {content: \"\";position: absolute;border-left: 1px solid gray;box-sizing: border-box;top: 0;bottom: 0;left: 50%;z-index: -1;}#sk-container-id-5 div.sk-parallel-item {display: flex;flex-direction: column;z-index: 1;position: relative;background-color: white;}#sk-container-id-5 div.sk-parallel-item:first-child::after {align-self: flex-end;width: 50%;}#sk-container-id-5 div.sk-parallel-item:last-child::after {align-self: flex-start;width: 50%;}#sk-container-id-5 div.sk-parallel-item:only-child::after {width: 0;}#sk-container-id-5 div.sk-dashed-wrapped {border: 1px dashed gray;margin: 0 0.4em 0.5em 0.4em;box-sizing: border-box;padding-bottom: 0.4em;background-color: white;}#sk-container-id-5 div.sk-label label {font-family: monospace;font-weight: bold;display: inline-block;line-height: 1.2em;}#sk-container-id-5 div.sk-label-container {text-align: center;}#sk-container-id-5 div.sk-container {/* jupyter's `normalize.less` sets `[hidden] { display: none; }` but bootstrap.min.css set `[hidden] { display: none !important; }` so we also need the `!important` here to be able to override the default hidden behavior on the sphinx rendered scikit-learn.org. See: https://github.com/scikit-learn/scikit-learn/issues/21755 */display: inline-block !important;position: relative;}#sk-container-id-5 div.sk-text-repr-fallback {display: none;}</style><div id=\"sk-container-id-5\" class=\"sk-top-container\"><div class=\"sk-text-repr-fallback\"><pre>RandomForestClassifier()</pre><b>In a Jupyter environment, please rerun this cell to show the HTML representation or trust the notebook. <br />On GitHub, the HTML representation is unable to render, please try loading this page with nbviewer.org.</b></div><div class=\"sk-container\" hidden><div class=\"sk-item\"><div class=\"sk-estimator sk-toggleable\"><input class=\"sk-toggleable__control sk-hidden--visually\" id=\"sk-estimator-id-5\" type=\"checkbox\" checked><label for=\"sk-estimator-id-5\" class=\"sk-toggleable__label sk-toggleable__label-arrow\">RandomForestClassifier</label><div class=\"sk-toggleable__content\"><pre>RandomForestClassifier()</pre></div></div></div></div></div>"
      ],
      "text/plain": [
       "RandomForestClassifier()"
      ]
     },
     "execution_count": 36,
     "metadata": {},
     "output_type": "execute_result"
    }
   ],
   "source": [
    "from sklearn.ensemble import RandomForestClassifier\n",
    "classifier = RandomForestClassifier()\n",
    "classifier.fit(X_tra, y_train)"
   ]
  },
  {
   "cell_type": "code",
   "execution_count": 37,
   "id": "82397f18",
   "metadata": {
    "ExecuteTime": {
     "end_time": "2023-07-04T13:52:00.077770Z",
     "start_time": "2023-07-04T13:51:59.981450Z"
    }
   },
   "outputs": [],
   "source": [
    "y_pre=classifier.predict(x_test_num_transformed)"
   ]
  },
  {
   "cell_type": "code",
   "execution_count": 38,
   "id": "21b8e7ac",
   "metadata": {
    "ExecuteTime": {
     "end_time": "2023-07-04T13:52:00.093834Z",
     "start_time": "2023-07-04T13:52:00.078788Z"
    }
   },
   "outputs": [],
   "source": [
    "E=metrics.accuracy_score(y_pre,y_test)"
   ]
  },
  {
   "cell_type": "code",
   "execution_count": 39,
   "id": "08e475cc",
   "metadata": {
    "ExecuteTime": {
     "end_time": "2023-07-04T13:52:00.125821Z",
     "start_time": "2023-07-04T13:52:00.093834Z"
    }
   },
   "outputs": [
    {
     "data": {
      "text/html": [
       "<div>\n",
       "<style scoped>\n",
       "    .dataframe tbody tr th:only-of-type {\n",
       "        vertical-align: middle;\n",
       "    }\n",
       "\n",
       "    .dataframe tbody tr th {\n",
       "        vertical-align: top;\n",
       "    }\n",
       "\n",
       "    .dataframe thead th {\n",
       "        text-align: right;\n",
       "    }\n",
       "</style>\n",
       "<table border=\"1\" class=\"dataframe\">\n",
       "  <thead>\n",
       "    <tr style=\"text-align: right;\">\n",
       "      <th></th>\n",
       "      <th>Actual</th>\n",
       "      <th>Predict</th>\n",
       "    </tr>\n",
       "  </thead>\n",
       "  <tbody>\n",
       "    <tr>\n",
       "      <th>408</th>\n",
       "      <td>2.0</td>\n",
       "      <td>2.0</td>\n",
       "    </tr>\n",
       "    <tr>\n",
       "      <th>4652</th>\n",
       "      <td>3.0</td>\n",
       "      <td>3.0</td>\n",
       "    </tr>\n",
       "    <tr>\n",
       "      <th>3043</th>\n",
       "      <td>2.0</td>\n",
       "      <td>2.0</td>\n",
       "    </tr>\n",
       "    <tr>\n",
       "      <th>1670</th>\n",
       "      <td>1.0</td>\n",
       "      <td>1.0</td>\n",
       "    </tr>\n",
       "    <tr>\n",
       "      <th>1181</th>\n",
       "      <td>1.0</td>\n",
       "      <td>1.0</td>\n",
       "    </tr>\n",
       "  </tbody>\n",
       "</table>\n",
       "</div>"
      ],
      "text/plain": [
       "      Actual  Predict\n",
       "408      2.0      2.0\n",
       "4652     3.0      3.0\n",
       "3043     2.0      2.0\n",
       "1670     1.0      1.0\n",
       "1181     1.0      1.0"
      ]
     },
     "execution_count": 39,
     "metadata": {},
     "output_type": "execute_result"
    }
   ],
   "source": [
    "tem_df=pd.DataFrame({'Actual':y_test,'Predict':y_pre})\n",
    "tem_df.head()"
   ]
  },
  {
   "cell_type": "code",
   "execution_count": 40,
   "id": "3677306c",
   "metadata": {
    "ExecuteTime": {
     "end_time": "2023-07-04T13:52:00.706296Z",
     "start_time": "2023-07-04T13:52:00.682021Z"
    }
   },
   "outputs": [],
   "source": [
    "df_data = [['Logistic Classifier', A, str(round((A*100),2))+'%'],\n",
    "                 ['Decision Tree Classifier',C,str(round((C*100),2))+'%'],\n",
    "                 ['Support Vector Classifier',D,str(round((D*100),2))+'%'],\n",
    "                 ['Random Forest Classifier ',E,str(round((E*100),2))+'%'],\n",
    "            ['k-Nearest nebhiour',B,str(round((B*100),2))+'%']]\n",
    "\n",
    "data = pd.DataFrame(df_data, columns = ['Algorithm','Accuracy','Accuracy %'])"
   ]
  },
  {
   "cell_type": "code",
   "execution_count": 41,
   "id": "d3eab53e",
   "metadata": {
    "ExecuteTime": {
     "end_time": "2023-07-04T13:52:01.262143Z",
     "start_time": "2023-07-04T13:52:01.230197Z"
    }
   },
   "outputs": [
    {
     "data": {
      "text/html": [
       "<div>\n",
       "<style scoped>\n",
       "    .dataframe tbody tr th:only-of-type {\n",
       "        vertical-align: middle;\n",
       "    }\n",
       "\n",
       "    .dataframe tbody tr th {\n",
       "        vertical-align: top;\n",
       "    }\n",
       "\n",
       "    .dataframe thead th {\n",
       "        text-align: right;\n",
       "    }\n",
       "</style>\n",
       "<table border=\"1\" class=\"dataframe\">\n",
       "  <thead>\n",
       "    <tr style=\"text-align: right;\">\n",
       "      <th></th>\n",
       "      <th>Algorithm</th>\n",
       "      <th>Accuracy</th>\n",
       "      <th>Accuracy %</th>\n",
       "    </tr>\n",
       "  </thead>\n",
       "  <tbody>\n",
       "    <tr>\n",
       "      <th>0</th>\n",
       "      <td>Logistic Classifier</td>\n",
       "      <td>0.883221</td>\n",
       "      <td>88.32%</td>\n",
       "    </tr>\n",
       "    <tr>\n",
       "      <th>1</th>\n",
       "      <td>Decision Tree Classifier</td>\n",
       "      <td>0.948322</td>\n",
       "      <td>94.83%</td>\n",
       "    </tr>\n",
       "    <tr>\n",
       "      <th>2</th>\n",
       "      <td>Support Vector Classifier</td>\n",
       "      <td>0.930872</td>\n",
       "      <td>93.09%</td>\n",
       "    </tr>\n",
       "    <tr>\n",
       "      <th>3</th>\n",
       "      <td>Random Forest Classifier</td>\n",
       "      <td>0.967785</td>\n",
       "      <td>96.78%</td>\n",
       "    </tr>\n",
       "    <tr>\n",
       "      <th>4</th>\n",
       "      <td>k-Nearest nebhiour</td>\n",
       "      <td>0.954362</td>\n",
       "      <td>95.44%</td>\n",
       "    </tr>\n",
       "  </tbody>\n",
       "</table>\n",
       "</div>"
      ],
      "text/plain": [
       "                   Algorithm  Accuracy Accuracy %\n",
       "0        Logistic Classifier  0.883221     88.32%\n",
       "1   Decision Tree Classifier  0.948322     94.83%\n",
       "2  Support Vector Classifier  0.930872     93.09%\n",
       "3  Random Forest Classifier   0.967785     96.78%\n",
       "4         k-Nearest nebhiour  0.954362     95.44%"
      ]
     },
     "execution_count": 41,
     "metadata": {},
     "output_type": "execute_result"
    }
   ],
   "source": [
    "data"
   ]
  },
  {
   "cell_type": "code",
   "execution_count": null,
   "id": "611a09f5",
   "metadata": {},
   "outputs": [],
   "source": []
  }
 ],
 "metadata": {
  "kernelspec": {
   "display_name": "Python 3 (ipykernel)",
   "language": "python",
   "name": "python3"
  },
  "language_info": {
   "codemirror_mode": {
    "name": "ipython",
    "version": 3
   },
   "file_extension": ".py",
   "mimetype": "text/x-python",
   "name": "python",
   "nbconvert_exporter": "python",
   "pygments_lexer": "ipython3",
   "version": "3.10.9"
  }
 },
 "nbformat": 4,
 "nbformat_minor": 5
}
