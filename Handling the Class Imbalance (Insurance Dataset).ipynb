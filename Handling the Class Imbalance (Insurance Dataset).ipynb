{
 "cells": [
  {
   "cell_type": "markdown",
   "id": "0461fe1c",
   "metadata": {},
   "source": [
    "### Various Techniques To Treat Data Imbalance Problem "
   ]
  },
  {
   "cell_type": "markdown",
   "id": "14ec9fdf",
   "metadata": {},
   "source": [
    "* To Work on the various techniques to solve the issue of data imbalance, I have a insurance dataset (Binary Classification).\n",
    "* The dataset consists of various features like - `Age`,`Gender`,`Driving License`, `Vehicle Age`,etc. and Target variable as `Response` - Labels `0` and `1`.\n",
    "\n",
    "The Techniques covered in this notebook are:\n",
    "1. **The traditional SMOTE** - `synthetic minority over-sampling technique`\n",
    "2. **Borderline SMOTE**\n",
    "3. **ADASYN** - `Adaptive synthetic smapling`"
   ]
  },
  {
   "cell_type": "code",
   "execution_count": 2,
   "id": "ee44c007",
   "metadata": {
    "ExecuteTime": {
     "end_time": "2023-07-04T12:12:13.472358Z",
     "start_time": "2023-07-04T12:12:10.025481Z"
    }
   },
   "outputs": [],
   "source": [
    "# Import necessery libraries\n",
    "import pandas as pd \n",
    "import numpy as np\n",
    "import seaborn as sns\n",
    "\n",
    "from IPython.core.interactiveshell import InteractiveShell\n",
    "InteractiveShell.ast_node_interactivity = 'all'\n",
    "\n",
    "import warnings\n",
    "warnings.filterwarnings('ignore')"
   ]
  },
  {
   "cell_type": "markdown",
   "id": "beed4f73",
   "metadata": {},
   "source": [
    "## Load the insurence dataset"
   ]
  },
  {
   "cell_type": "code",
   "execution_count": 3,
   "id": "febfff82",
   "metadata": {
    "ExecuteTime": {
     "end_time": "2023-07-04T12:12:14.363458Z",
     "start_time": "2023-07-04T12:12:13.480821Z"
    }
   },
   "outputs": [],
   "source": [
    "df = pd.read_csv(r\"C:\\Users\\bhara\\Downloads\\machine_learning_projects-main\\machine_learning_projects-main\\ImbalanceTreatment\\insurance.csv\")"
   ]
  },
  {
   "cell_type": "code",
   "execution_count": 4,
   "id": "f7729576",
   "metadata": {
    "ExecuteTime": {
     "end_time": "2023-07-04T12:12:19.257519Z",
     "start_time": "2023-07-04T12:12:19.209689Z"
    }
   },
   "outputs": [
    {
     "data": {
      "text/html": [
       "<div>\n",
       "<style scoped>\n",
       "    .dataframe tbody tr th:only-of-type {\n",
       "        vertical-align: middle;\n",
       "    }\n",
       "\n",
       "    .dataframe tbody tr th {\n",
       "        vertical-align: top;\n",
       "    }\n",
       "\n",
       "    .dataframe thead th {\n",
       "        text-align: right;\n",
       "    }\n",
       "</style>\n",
       "<table border=\"1\" class=\"dataframe\">\n",
       "  <thead>\n",
       "    <tr style=\"text-align: right;\">\n",
       "      <th></th>\n",
       "      <th>id</th>\n",
       "      <th>Gender</th>\n",
       "      <th>Age</th>\n",
       "      <th>Driving_License</th>\n",
       "      <th>Region_Code</th>\n",
       "      <th>Previously_Insured</th>\n",
       "      <th>Vehicle_Age</th>\n",
       "      <th>Vehicle_Damage</th>\n",
       "      <th>Annual_Premium</th>\n",
       "      <th>Policy_Sales_Channel</th>\n",
       "      <th>Vintage</th>\n",
       "      <th>Response</th>\n",
       "    </tr>\n",
       "  </thead>\n",
       "  <tbody>\n",
       "    <tr>\n",
       "      <th>0</th>\n",
       "      <td>167647</td>\n",
       "      <td>Male</td>\n",
       "      <td>22</td>\n",
       "      <td>1</td>\n",
       "      <td>7.0</td>\n",
       "      <td>1</td>\n",
       "      <td>&lt; 1 Year</td>\n",
       "      <td>No</td>\n",
       "      <td>2630.0</td>\n",
       "      <td>152.0</td>\n",
       "      <td>16</td>\n",
       "      <td>0</td>\n",
       "    </tr>\n",
       "    <tr>\n",
       "      <th>1</th>\n",
       "      <td>17163</td>\n",
       "      <td>Male</td>\n",
       "      <td>42</td>\n",
       "      <td>1</td>\n",
       "      <td>28.0</td>\n",
       "      <td>0</td>\n",
       "      <td>1-2 Year</td>\n",
       "      <td>Yes</td>\n",
       "      <td>43327.0</td>\n",
       "      <td>26.0</td>\n",
       "      <td>135</td>\n",
       "      <td>0</td>\n",
       "    </tr>\n",
       "    <tr>\n",
       "      <th>2</th>\n",
       "      <td>32023</td>\n",
       "      <td>Female</td>\n",
       "      <td>66</td>\n",
       "      <td>1</td>\n",
       "      <td>33.0</td>\n",
       "      <td>0</td>\n",
       "      <td>1-2 Year</td>\n",
       "      <td>Yes</td>\n",
       "      <td>35841.0</td>\n",
       "      <td>124.0</td>\n",
       "      <td>253</td>\n",
       "      <td>0</td>\n",
       "    </tr>\n",
       "    <tr>\n",
       "      <th>3</th>\n",
       "      <td>87447</td>\n",
       "      <td>Female</td>\n",
       "      <td>22</td>\n",
       "      <td>1</td>\n",
       "      <td>33.0</td>\n",
       "      <td>0</td>\n",
       "      <td>&lt; 1 Year</td>\n",
       "      <td>No</td>\n",
       "      <td>27645.0</td>\n",
       "      <td>152.0</td>\n",
       "      <td>69</td>\n",
       "      <td>0</td>\n",
       "    </tr>\n",
       "    <tr>\n",
       "      <th>4</th>\n",
       "      <td>501933</td>\n",
       "      <td>Male</td>\n",
       "      <td>28</td>\n",
       "      <td>1</td>\n",
       "      <td>46.0</td>\n",
       "      <td>1</td>\n",
       "      <td>&lt; 1 Year</td>\n",
       "      <td>No</td>\n",
       "      <td>29023.0</td>\n",
       "      <td>152.0</td>\n",
       "      <td>211</td>\n",
       "      <td>0</td>\n",
       "    </tr>\n",
       "  </tbody>\n",
       "</table>\n",
       "</div>"
      ],
      "text/plain": [
       "       id  Gender  Age  Driving_License  Region_Code  Previously_Insured  \\\n",
       "0  167647    Male   22                1          7.0                   1   \n",
       "1   17163    Male   42                1         28.0                   0   \n",
       "2   32023  Female   66                1         33.0                   0   \n",
       "3   87447  Female   22                1         33.0                   0   \n",
       "4  501933    Male   28                1         46.0                   1   \n",
       "\n",
       "  Vehicle_Age Vehicle_Damage  Annual_Premium  Policy_Sales_Channel  Vintage  \\\n",
       "0    < 1 Year             No          2630.0                 152.0       16   \n",
       "1    1-2 Year            Yes         43327.0                  26.0      135   \n",
       "2    1-2 Year            Yes         35841.0                 124.0      253   \n",
       "3    < 1 Year             No         27645.0                 152.0       69   \n",
       "4    < 1 Year             No         29023.0                 152.0      211   \n",
       "\n",
       "   Response  \n",
       "0         0  \n",
       "1         0  \n",
       "2         0  \n",
       "3         0  \n",
       "4         0  "
      ]
     },
     "execution_count": 4,
     "metadata": {},
     "output_type": "execute_result"
    }
   ],
   "source": [
    "df.head()"
   ]
  },
  {
   "cell_type": "code",
   "execution_count": 5,
   "id": "f17d029e",
   "metadata": {
    "ExecuteTime": {
     "end_time": "2023-07-04T12:12:22.703351Z",
     "start_time": "2023-07-04T12:12:22.361096Z"
    }
   },
   "outputs": [
    {
     "name": "stdout",
     "output_type": "stream",
     "text": [
      "<class 'pandas.core.frame.DataFrame'>\n",
      "RangeIndex: 382154 entries, 0 to 382153\n",
      "Data columns (total 12 columns):\n",
      " #   Column                Non-Null Count   Dtype  \n",
      "---  ------                --------------   -----  \n",
      " 0   id                    382154 non-null  int64  \n",
      " 1   Gender                382154 non-null  object \n",
      " 2   Age                   382154 non-null  int64  \n",
      " 3   Driving_License       382154 non-null  int64  \n",
      " 4   Region_Code           382154 non-null  float64\n",
      " 5   Previously_Insured    382154 non-null  int64  \n",
      " 6   Vehicle_Age           382154 non-null  object \n",
      " 7   Vehicle_Damage        382154 non-null  object \n",
      " 8   Annual_Premium        382154 non-null  float64\n",
      " 9   Policy_Sales_Channel  382154 non-null  float64\n",
      " 10  Vintage               382154 non-null  int64  \n",
      " 11  Response              382154 non-null  int64  \n",
      "dtypes: float64(3), int64(6), object(3)\n",
      "memory usage: 35.0+ MB\n"
     ]
    }
   ],
   "source": [
    "df.info()"
   ]
  },
  {
   "cell_type": "code",
   "execution_count": 7,
   "id": "b258d2ab",
   "metadata": {
    "ExecuteTime": {
     "end_time": "2023-07-04T12:12:49.899518Z",
     "start_time": "2023-07-04T12:12:49.731019Z"
    }
   },
   "outputs": [
    {
     "data": {
      "text/html": [
       "<div>\n",
       "<style scoped>\n",
       "    .dataframe tbody tr th:only-of-type {\n",
       "        vertical-align: middle;\n",
       "    }\n",
       "\n",
       "    .dataframe tbody tr th {\n",
       "        vertical-align: top;\n",
       "    }\n",
       "\n",
       "    .dataframe thead th {\n",
       "        text-align: right;\n",
       "    }\n",
       "</style>\n",
       "<table border=\"1\" class=\"dataframe\">\n",
       "  <thead>\n",
       "    <tr style=\"text-align: right;\">\n",
       "      <th></th>\n",
       "      <th>id</th>\n",
       "      <th>Age</th>\n",
       "      <th>Driving_License</th>\n",
       "      <th>Previously_Insured</th>\n",
       "      <th>Vintage</th>\n",
       "      <th>Response</th>\n",
       "    </tr>\n",
       "  </thead>\n",
       "  <tbody>\n",
       "    <tr>\n",
       "      <th>count</th>\n",
       "      <td>382154.000000</td>\n",
       "      <td>382154.000000</td>\n",
       "      <td>382154.000000</td>\n",
       "      <td>382154.000000</td>\n",
       "      <td>382154.000000</td>\n",
       "      <td>382154.000000</td>\n",
       "    </tr>\n",
       "    <tr>\n",
       "      <th>mean</th>\n",
       "      <td>234392.953477</td>\n",
       "      <td>38.545691</td>\n",
       "      <td>0.998108</td>\n",
       "      <td>0.489182</td>\n",
       "      <td>154.189429</td>\n",
       "      <td>0.163811</td>\n",
       "    </tr>\n",
       "    <tr>\n",
       "      <th>std</th>\n",
       "      <td>139527.487326</td>\n",
       "      <td>15.226897</td>\n",
       "      <td>0.043455</td>\n",
       "      <td>0.499884</td>\n",
       "      <td>83.735107</td>\n",
       "      <td>0.370104</td>\n",
       "    </tr>\n",
       "    <tr>\n",
       "      <th>min</th>\n",
       "      <td>1.000000</td>\n",
       "      <td>20.000000</td>\n",
       "      <td>0.000000</td>\n",
       "      <td>0.000000</td>\n",
       "      <td>10.000000</td>\n",
       "      <td>0.000000</td>\n",
       "    </tr>\n",
       "    <tr>\n",
       "      <th>25%</th>\n",
       "      <td>115006.250000</td>\n",
       "      <td>25.000000</td>\n",
       "      <td>1.000000</td>\n",
       "      <td>0.000000</td>\n",
       "      <td>81.000000</td>\n",
       "      <td>0.000000</td>\n",
       "    </tr>\n",
       "    <tr>\n",
       "      <th>50%</th>\n",
       "      <td>230461.500000</td>\n",
       "      <td>36.000000</td>\n",
       "      <td>1.000000</td>\n",
       "      <td>0.000000</td>\n",
       "      <td>154.000000</td>\n",
       "      <td>0.000000</td>\n",
       "    </tr>\n",
       "    <tr>\n",
       "      <th>75%</th>\n",
       "      <td>345434.750000</td>\n",
       "      <td>49.000000</td>\n",
       "      <td>1.000000</td>\n",
       "      <td>1.000000</td>\n",
       "      <td>227.000000</td>\n",
       "      <td>0.000000</td>\n",
       "    </tr>\n",
       "    <tr>\n",
       "      <th>max</th>\n",
       "      <td>508145.000000</td>\n",
       "      <td>85.000000</td>\n",
       "      <td>1.000000</td>\n",
       "      <td>1.000000</td>\n",
       "      <td>299.000000</td>\n",
       "      <td>1.000000</td>\n",
       "    </tr>\n",
       "  </tbody>\n",
       "</table>\n",
       "</div>"
      ],
      "text/plain": [
       "                  id            Age  Driving_License  Previously_Insured  \\\n",
       "count  382154.000000  382154.000000    382154.000000       382154.000000   \n",
       "mean   234392.953477      38.545691         0.998108            0.489182   \n",
       "std    139527.487326      15.226897         0.043455            0.499884   \n",
       "min         1.000000      20.000000         0.000000            0.000000   \n",
       "25%    115006.250000      25.000000         1.000000            0.000000   \n",
       "50%    230461.500000      36.000000         1.000000            0.000000   \n",
       "75%    345434.750000      49.000000         1.000000            1.000000   \n",
       "max    508145.000000      85.000000         1.000000            1.000000   \n",
       "\n",
       "             Vintage       Response  \n",
       "count  382154.000000  382154.000000  \n",
       "mean      154.189429       0.163811  \n",
       "std        83.735107       0.370104  \n",
       "min        10.000000       0.000000  \n",
       "25%        81.000000       0.000000  \n",
       "50%       154.000000       0.000000  \n",
       "75%       227.000000       0.000000  \n",
       "max       299.000000       1.000000  "
      ]
     },
     "execution_count": 7,
     "metadata": {},
     "output_type": "execute_result"
    }
   ],
   "source": [
    "df.describe(include = 'int')"
   ]
  },
  {
   "cell_type": "code",
   "execution_count": 8,
   "id": "a9209b6e",
   "metadata": {
    "ExecuteTime": {
     "end_time": "2023-07-04T12:13:00.814913Z",
     "start_time": "2023-07-04T12:13:00.751685Z"
    }
   },
   "outputs": [
    {
     "data": {
      "text/plain": [
       "1-2 Year     200176\n",
       "< 1 Year     166353\n",
       "> 2 Years     15625\n",
       "Name: Vehicle_Age, dtype: int64"
      ]
     },
     "execution_count": 8,
     "metadata": {},
     "output_type": "execute_result"
    }
   ],
   "source": [
    "df.Vehicle_Age.value_counts() # Lets clean the feature"
   ]
  },
  {
   "cell_type": "code",
   "execution_count": 7,
   "id": "102e7ca2",
   "metadata": {
    "ExecuteTime": {
     "end_time": "2023-07-03T05:14:23.792283Z",
     "start_time": "2023-07-03T05:14:22.905911Z"
    },
    "scrolled": true
   },
   "outputs": [],
   "source": [
    "df.Vehicle_Age=df.Vehicle_Age.str.replace('< 1 Year', '0-1 Year')\n",
    "df.Vehicle_Age=df.Vehicle_Age.str.replace('> 2 Years', '>2 Year')"
   ]
  },
  {
   "cell_type": "code",
   "execution_count": 9,
   "id": "15e3fb73",
   "metadata": {
    "ExecuteTime": {
     "end_time": "2023-07-04T12:13:10.965454Z",
     "start_time": "2023-07-04T12:13:10.670566Z"
    }
   },
   "outputs": [
    {
     "data": {
      "text/plain": [
       "id                      0\n",
       "Gender                  0\n",
       "Age                     0\n",
       "Driving_License         0\n",
       "Region_Code             0\n",
       "Previously_Insured      0\n",
       "Vehicle_Age             0\n",
       "Vehicle_Damage          0\n",
       "Annual_Premium          0\n",
       "Policy_Sales_Channel    0\n",
       "Vintage                 0\n",
       "Response                0\n",
       "dtype: int64"
      ]
     },
     "execution_count": 9,
     "metadata": {},
     "output_type": "execute_result"
    }
   ],
   "source": [
    "df.isna().sum()"
   ]
  },
  {
   "cell_type": "code",
   "execution_count": 10,
   "id": "942d60e0",
   "metadata": {
    "ExecuteTime": {
     "end_time": "2023-07-04T12:13:13.377904Z",
     "start_time": "2023-07-04T12:13:13.337612Z"
    }
   },
   "outputs": [
    {
     "data": {
      "text/html": [
       "<div>\n",
       "<style scoped>\n",
       "    .dataframe tbody tr th:only-of-type {\n",
       "        vertical-align: middle;\n",
       "    }\n",
       "\n",
       "    .dataframe tbody tr th {\n",
       "        vertical-align: top;\n",
       "    }\n",
       "\n",
       "    .dataframe thead th {\n",
       "        text-align: right;\n",
       "    }\n",
       "</style>\n",
       "<table border=\"1\" class=\"dataframe\">\n",
       "  <thead>\n",
       "    <tr style=\"text-align: right;\">\n",
       "      <th></th>\n",
       "      <th>id</th>\n",
       "      <th>Gender</th>\n",
       "      <th>Age</th>\n",
       "      <th>Driving_License</th>\n",
       "      <th>Region_Code</th>\n",
       "      <th>Previously_Insured</th>\n",
       "      <th>Vehicle_Age</th>\n",
       "      <th>Vehicle_Damage</th>\n",
       "      <th>Annual_Premium</th>\n",
       "      <th>Policy_Sales_Channel</th>\n",
       "      <th>Vintage</th>\n",
       "      <th>Response</th>\n",
       "    </tr>\n",
       "  </thead>\n",
       "  <tbody>\n",
       "    <tr>\n",
       "      <th>382149</th>\n",
       "      <td>164549</td>\n",
       "      <td>Male</td>\n",
       "      <td>24</td>\n",
       "      <td>1</td>\n",
       "      <td>15.0</td>\n",
       "      <td>0</td>\n",
       "      <td>&lt; 1 Year</td>\n",
       "      <td>Yes</td>\n",
       "      <td>23938.0</td>\n",
       "      <td>152.0</td>\n",
       "      <td>105</td>\n",
       "      <td>0</td>\n",
       "    </tr>\n",
       "    <tr>\n",
       "      <th>382150</th>\n",
       "      <td>247064</td>\n",
       "      <td>Male</td>\n",
       "      <td>27</td>\n",
       "      <td>1</td>\n",
       "      <td>28.0</td>\n",
       "      <td>1</td>\n",
       "      <td>&lt; 1 Year</td>\n",
       "      <td>No</td>\n",
       "      <td>336395.0</td>\n",
       "      <td>152.0</td>\n",
       "      <td>144</td>\n",
       "      <td>0</td>\n",
       "    </tr>\n",
       "    <tr>\n",
       "      <th>382151</th>\n",
       "      <td>165293</td>\n",
       "      <td>Male</td>\n",
       "      <td>45</td>\n",
       "      <td>1</td>\n",
       "      <td>28.0</td>\n",
       "      <td>0</td>\n",
       "      <td>1-2 Year</td>\n",
       "      <td>Yes</td>\n",
       "      <td>40443.0</td>\n",
       "      <td>26.0</td>\n",
       "      <td>187</td>\n",
       "      <td>0</td>\n",
       "    </tr>\n",
       "    <tr>\n",
       "      <th>382152</th>\n",
       "      <td>383241</td>\n",
       "      <td>Female</td>\n",
       "      <td>28</td>\n",
       "      <td>1</td>\n",
       "      <td>28.0</td>\n",
       "      <td>1</td>\n",
       "      <td>&lt; 1 Year</td>\n",
       "      <td>No</td>\n",
       "      <td>25380.0</td>\n",
       "      <td>152.0</td>\n",
       "      <td>208</td>\n",
       "      <td>0</td>\n",
       "    </tr>\n",
       "    <tr>\n",
       "      <th>382153</th>\n",
       "      <td>401019</td>\n",
       "      <td>Female</td>\n",
       "      <td>29</td>\n",
       "      <td>1</td>\n",
       "      <td>18.0</td>\n",
       "      <td>1</td>\n",
       "      <td>&lt; 1 Year</td>\n",
       "      <td>No</td>\n",
       "      <td>30396.0</td>\n",
       "      <td>152.0</td>\n",
       "      <td>104</td>\n",
       "      <td>0</td>\n",
       "    </tr>\n",
       "  </tbody>\n",
       "</table>\n",
       "</div>"
      ],
      "text/plain": [
       "            id  Gender  Age  Driving_License  Region_Code  Previously_Insured  \\\n",
       "382149  164549    Male   24                1         15.0                   0   \n",
       "382150  247064    Male   27                1         28.0                   1   \n",
       "382151  165293    Male   45                1         28.0                   0   \n",
       "382152  383241  Female   28                1         28.0                   1   \n",
       "382153  401019  Female   29                1         18.0                   1   \n",
       "\n",
       "       Vehicle_Age Vehicle_Damage  Annual_Premium  Policy_Sales_Channel  \\\n",
       "382149    < 1 Year            Yes         23938.0                 152.0   \n",
       "382150    < 1 Year             No        336395.0                 152.0   \n",
       "382151    1-2 Year            Yes         40443.0                  26.0   \n",
       "382152    < 1 Year             No         25380.0                 152.0   \n",
       "382153    < 1 Year             No         30396.0                 152.0   \n",
       "\n",
       "        Vintage  Response  \n",
       "382149      105         0  \n",
       "382150      144         0  \n",
       "382151      187         0  \n",
       "382152      208         0  \n",
       "382153      104         0  "
      ]
     },
     "execution_count": 10,
     "metadata": {},
     "output_type": "execute_result"
    }
   ],
   "source": [
    "df.tail()"
   ]
  },
  {
   "cell_type": "markdown",
   "id": "04fb242a",
   "metadata": {},
   "source": [
    "## Lets check the imbalance in Target Variable"
   ]
  },
  {
   "cell_type": "code",
   "execution_count": 11,
   "id": "f6ed55ac",
   "metadata": {
    "ExecuteTime": {
     "end_time": "2023-07-04T12:13:20.477336Z",
     "start_time": "2023-07-04T12:13:20.417372Z"
    }
   },
   "outputs": [
    {
     "data": {
      "text/plain": [
       "0    0.836189\n",
       "1    0.163811\n",
       "Name: Response, dtype: float64"
      ]
     },
     "execution_count": 11,
     "metadata": {},
     "output_type": "execute_result"
    }
   ],
   "source": [
    "df.Response.value_counts(normalize=True)"
   ]
  },
  {
   "cell_type": "markdown",
   "id": "d1886969",
   "metadata": {},
   "source": [
    "### Observation:"
   ]
  },
  {
   "cell_type": "markdown",
   "id": "5f895898",
   "metadata": {},
   "source": [
    "* As we can observe that there is a huge imbalance in our dataset\n",
    "* The label `0` is of 83% and `1` is of 16%\n",
    "* Due to this imbalance the model that we generate/build will have huge impact of bias."
   ]
  },
  {
   "cell_type": "markdown",
   "id": "31dfa1cf",
   "metadata": {},
   "source": [
    "## Lets Handle the Imbalance data"
   ]
  },
  {
   "cell_type": "code",
   "execution_count": 11,
   "id": "13c03320",
   "metadata": {
    "ExecuteTime": {
     "end_time": "2023-07-03T05:14:24.349401Z",
     "start_time": "2023-07-03T05:14:24.276759Z"
    }
   },
   "outputs": [],
   "source": [
    "df1 = df.copy()"
   ]
  },
  {
   "cell_type": "code",
   "execution_count": 12,
   "id": "9be6cf69",
   "metadata": {
    "ExecuteTime": {
     "end_time": "2023-07-03T05:14:24.413396Z",
     "start_time": "2023-07-03T05:14:24.349401Z"
    }
   },
   "outputs": [],
   "source": [
    "X_ohe = df1[['Gender','Vehicle_Damage']]\n",
    "X_le = df1[['Vehicle_Age']]\n",
    "Y = df1['Response']\n",
    "X_num =df1.drop(columns =['Gender','Vehicle_Damage','Vehicle_Age','Response'] )"
   ]
  },
  {
   "cell_type": "markdown",
   "id": "d69cf9f0",
   "metadata": {},
   "source": [
    "## NOTE: \n",
    "* The your code will throw you an error, because SMOTE technique can be applied only on numerical features not on cateorical.\n",
    "* If you wish to apply SMOTE then, first encode all your categorical features and the merge the numerical and categorical. Later apply SMOTE"
   ]
  },
  {
   "cell_type": "markdown",
   "id": "efe303e6",
   "metadata": {},
   "source": [
    "## Data-Preparation of Categorical Variables and Numerical Variables"
   ]
  },
  {
   "cell_type": "code",
   "execution_count": 13,
   "id": "6f49e423",
   "metadata": {
    "ExecuteTime": {
     "end_time": "2023-07-03T05:14:25.522638Z",
     "start_time": "2023-07-03T05:14:24.413396Z"
    }
   },
   "outputs": [
    {
     "data": {
      "text/html": [
       "<div>\n",
       "<style scoped>\n",
       "    .dataframe tbody tr th:only-of-type {\n",
       "        vertical-align: middle;\n",
       "    }\n",
       "\n",
       "    .dataframe tbody tr th {\n",
       "        vertical-align: top;\n",
       "    }\n",
       "\n",
       "    .dataframe thead th {\n",
       "        text-align: right;\n",
       "    }\n",
       "</style>\n",
       "<table border=\"1\" class=\"dataframe\">\n",
       "  <thead>\n",
       "    <tr style=\"text-align: right;\">\n",
       "      <th></th>\n",
       "      <th>id</th>\n",
       "      <th>Age</th>\n",
       "      <th>Driving_License</th>\n",
       "      <th>Region_Code</th>\n",
       "      <th>Previously_Insured</th>\n",
       "      <th>Annual_Premium</th>\n",
       "      <th>Policy_Sales_Channel</th>\n",
       "      <th>Vintage</th>\n",
       "    </tr>\n",
       "  </thead>\n",
       "  <tbody>\n",
       "    <tr>\n",
       "      <th>0</th>\n",
       "      <td>-0.478372</td>\n",
       "      <td>-1.086611</td>\n",
       "      <td>0.043537</td>\n",
       "      <td>-1.472312</td>\n",
       "      <td>1.021874</td>\n",
       "      <td>-1.645878</td>\n",
       "      <td>0.737941</td>\n",
       "      <td>-1.650319</td>\n",
       "    </tr>\n",
       "    <tr>\n",
       "      <th>1</th>\n",
       "      <td>-1.556899</td>\n",
       "      <td>0.226856</td>\n",
       "      <td>0.043537</td>\n",
       "      <td>0.120864</td>\n",
       "      <td>-0.978594</td>\n",
       "      <td>0.739424</td>\n",
       "      <td>-1.583081</td>\n",
       "      <td>-0.229169</td>\n",
       "    </tr>\n",
       "    <tr>\n",
       "      <th>2</th>\n",
       "      <td>-1.450397</td>\n",
       "      <td>1.803016</td>\n",
       "      <td>0.043537</td>\n",
       "      <td>0.500191</td>\n",
       "      <td>-0.978594</td>\n",
       "      <td>0.300660</td>\n",
       "      <td>0.222158</td>\n",
       "      <td>1.180039</td>\n",
       "    </tr>\n",
       "    <tr>\n",
       "      <th>3</th>\n",
       "      <td>-1.053170</td>\n",
       "      <td>-1.086611</td>\n",
       "      <td>0.043537</td>\n",
       "      <td>0.500191</td>\n",
       "      <td>-0.978594</td>\n",
       "      <td>-0.179718</td>\n",
       "      <td>0.737941</td>\n",
       "      <td>-1.017369</td>\n",
       "    </tr>\n",
       "    <tr>\n",
       "      <th>4</th>\n",
       "      <td>1.917474</td>\n",
       "      <td>-0.692571</td>\n",
       "      <td>0.043537</td>\n",
       "      <td>1.486443</td>\n",
       "      <td>1.021874</td>\n",
       "      <td>-0.098952</td>\n",
       "      <td>0.737941</td>\n",
       "      <td>0.678457</td>\n",
       "    </tr>\n",
       "  </tbody>\n",
       "</table>\n",
       "</div>"
      ],
      "text/plain": [
       "         id       Age  Driving_License  Region_Code  Previously_Insured  \\\n",
       "0 -0.478372 -1.086611         0.043537    -1.472312            1.021874   \n",
       "1 -1.556899  0.226856         0.043537     0.120864           -0.978594   \n",
       "2 -1.450397  1.803016         0.043537     0.500191           -0.978594   \n",
       "3 -1.053170 -1.086611         0.043537     0.500191           -0.978594   \n",
       "4  1.917474 -0.692571         0.043537     1.486443            1.021874   \n",
       "\n",
       "   Annual_Premium  Policy_Sales_Channel   Vintage  \n",
       "0       -1.645878              0.737941 -1.650319  \n",
       "1        0.739424             -1.583081 -0.229169  \n",
       "2        0.300660              0.222158  1.180039  \n",
       "3       -0.179718              0.737941 -1.017369  \n",
       "4       -0.098952              0.737941  0.678457  "
      ]
     },
     "execution_count": 13,
     "metadata": {},
     "output_type": "execute_result"
    }
   ],
   "source": [
    "from sklearn.preprocessing import StandardScaler\n",
    "scaler = StandardScaler()\n",
    "X_num = pd.DataFrame(scaler.fit_transform(X_num), columns = scaler.get_feature_names_out(X_num.columns), index = X_num.index)\n",
    "X_num.head()"
   ]
  },
  {
   "cell_type": "code",
   "execution_count": 14,
   "id": "b78df9d4",
   "metadata": {
    "ExecuteTime": {
     "end_time": "2023-07-03T05:14:25.715426Z",
     "start_time": "2023-07-03T05:14:25.522638Z"
    }
   },
   "outputs": [],
   "source": [
    "from sklearn.preprocessing import LabelEncoder\n",
    "encoder = LabelEncoder()\n",
    "X_le = encoder.fit_transform(X_le)"
   ]
  },
  {
   "cell_type": "code",
   "execution_count": 15,
   "id": "79219140",
   "metadata": {
    "ExecuteTime": {
     "end_time": "2023-07-03T05:14:25.731515Z",
     "start_time": "2023-07-03T05:14:25.715426Z"
    }
   },
   "outputs": [],
   "source": [
    "X_le = pd.DataFrame(X_le, columns=['Vehicle_Age'])"
   ]
  },
  {
   "cell_type": "code",
   "execution_count": 16,
   "id": "fc53a4cf",
   "metadata": {
    "ExecuteTime": {
     "end_time": "2023-07-03T05:14:25.763160Z",
     "start_time": "2023-07-03T05:14:25.737594Z"
    }
   },
   "outputs": [
    {
     "data": {
      "text/html": [
       "<div>\n",
       "<style scoped>\n",
       "    .dataframe tbody tr th:only-of-type {\n",
       "        vertical-align: middle;\n",
       "    }\n",
       "\n",
       "    .dataframe tbody tr th {\n",
       "        vertical-align: top;\n",
       "    }\n",
       "\n",
       "    .dataframe thead th {\n",
       "        text-align: right;\n",
       "    }\n",
       "</style>\n",
       "<table border=\"1\" class=\"dataframe\">\n",
       "  <thead>\n",
       "    <tr style=\"text-align: right;\">\n",
       "      <th></th>\n",
       "      <th>Vehicle_Age</th>\n",
       "    </tr>\n",
       "  </thead>\n",
       "  <tbody>\n",
       "    <tr>\n",
       "      <th>0</th>\n",
       "      <td>0</td>\n",
       "    </tr>\n",
       "    <tr>\n",
       "      <th>1</th>\n",
       "      <td>1</td>\n",
       "    </tr>\n",
       "    <tr>\n",
       "      <th>2</th>\n",
       "      <td>1</td>\n",
       "    </tr>\n",
       "    <tr>\n",
       "      <th>3</th>\n",
       "      <td>0</td>\n",
       "    </tr>\n",
       "    <tr>\n",
       "      <th>4</th>\n",
       "      <td>0</td>\n",
       "    </tr>\n",
       "  </tbody>\n",
       "</table>\n",
       "</div>"
      ],
      "text/plain": [
       "   Vehicle_Age\n",
       "0            0\n",
       "1            1\n",
       "2            1\n",
       "3            0\n",
       "4            0"
      ]
     },
     "execution_count": 16,
     "metadata": {},
     "output_type": "execute_result"
    }
   ],
   "source": [
    "X_le.head()"
   ]
  },
  {
   "cell_type": "code",
   "execution_count": 17,
   "id": "1e1bc151",
   "metadata": {
    "ExecuteTime": {
     "end_time": "2023-07-03T05:14:26.295821Z",
     "start_time": "2023-07-03T05:14:25.764677Z"
    }
   },
   "outputs": [],
   "source": [
    "from sklearn.preprocessing import OneHotEncoder\n",
    "encode = OneHotEncoder(drop= 'first', sparse =False)\n",
    "X_ohe = pd.DataFrame(encode.fit_transform(X_ohe), columns = encode.get_feature_names_out(X_ohe.columns), index = X_ohe.index)"
   ]
  },
  {
   "cell_type": "code",
   "execution_count": 18,
   "id": "c9ec56e6",
   "metadata": {
    "ExecuteTime": {
     "end_time": "2023-07-03T05:14:26.328495Z",
     "start_time": "2023-07-03T05:14:26.304225Z"
    }
   },
   "outputs": [
    {
     "data": {
      "text/html": [
       "<div>\n",
       "<style scoped>\n",
       "    .dataframe tbody tr th:only-of-type {\n",
       "        vertical-align: middle;\n",
       "    }\n",
       "\n",
       "    .dataframe tbody tr th {\n",
       "        vertical-align: top;\n",
       "    }\n",
       "\n",
       "    .dataframe thead th {\n",
       "        text-align: right;\n",
       "    }\n",
       "</style>\n",
       "<table border=\"1\" class=\"dataframe\">\n",
       "  <thead>\n",
       "    <tr style=\"text-align: right;\">\n",
       "      <th></th>\n",
       "      <th>Gender_Male</th>\n",
       "      <th>Vehicle_Damage_Yes</th>\n",
       "    </tr>\n",
       "  </thead>\n",
       "  <tbody>\n",
       "    <tr>\n",
       "      <th>0</th>\n",
       "      <td>1.0</td>\n",
       "      <td>0.0</td>\n",
       "    </tr>\n",
       "    <tr>\n",
       "      <th>1</th>\n",
       "      <td>1.0</td>\n",
       "      <td>1.0</td>\n",
       "    </tr>\n",
       "    <tr>\n",
       "      <th>2</th>\n",
       "      <td>0.0</td>\n",
       "      <td>1.0</td>\n",
       "    </tr>\n",
       "    <tr>\n",
       "      <th>3</th>\n",
       "      <td>0.0</td>\n",
       "      <td>0.0</td>\n",
       "    </tr>\n",
       "    <tr>\n",
       "      <th>4</th>\n",
       "      <td>1.0</td>\n",
       "      <td>0.0</td>\n",
       "    </tr>\n",
       "  </tbody>\n",
       "</table>\n",
       "</div>"
      ],
      "text/plain": [
       "   Gender_Male  Vehicle_Damage_Yes\n",
       "0          1.0                 0.0\n",
       "1          1.0                 1.0\n",
       "2          0.0                 1.0\n",
       "3          0.0                 0.0\n",
       "4          1.0                 0.0"
      ]
     },
     "execution_count": 18,
     "metadata": {},
     "output_type": "execute_result"
    }
   ],
   "source": [
    "X_ohe.head()"
   ]
  },
  {
   "cell_type": "code",
   "execution_count": 19,
   "id": "304dddda",
   "metadata": {
    "ExecuteTime": {
     "end_time": "2023-07-03T05:14:26.352920Z",
     "start_time": "2023-07-03T05:14:26.328495Z"
    }
   },
   "outputs": [],
   "source": [
    "X_categorical = pd.concat([X_ohe,X_le], axis = 1 )"
   ]
  },
  {
   "cell_type": "code",
   "execution_count": 20,
   "id": "32ba1530",
   "metadata": {
    "ExecuteTime": {
     "end_time": "2023-07-03T05:14:26.394761Z",
     "start_time": "2023-07-03T05:14:26.352920Z"
    }
   },
   "outputs": [
    {
     "data": {
      "text/html": [
       "<div>\n",
       "<style scoped>\n",
       "    .dataframe tbody tr th:only-of-type {\n",
       "        vertical-align: middle;\n",
       "    }\n",
       "\n",
       "    .dataframe tbody tr th {\n",
       "        vertical-align: top;\n",
       "    }\n",
       "\n",
       "    .dataframe thead th {\n",
       "        text-align: right;\n",
       "    }\n",
       "</style>\n",
       "<table border=\"1\" class=\"dataframe\">\n",
       "  <thead>\n",
       "    <tr style=\"text-align: right;\">\n",
       "      <th></th>\n",
       "      <th>Gender_Male</th>\n",
       "      <th>Vehicle_Damage_Yes</th>\n",
       "      <th>Vehicle_Age</th>\n",
       "    </tr>\n",
       "  </thead>\n",
       "  <tbody>\n",
       "    <tr>\n",
       "      <th>0</th>\n",
       "      <td>1.0</td>\n",
       "      <td>0.0</td>\n",
       "      <td>0</td>\n",
       "    </tr>\n",
       "    <tr>\n",
       "      <th>1</th>\n",
       "      <td>1.0</td>\n",
       "      <td>1.0</td>\n",
       "      <td>1</td>\n",
       "    </tr>\n",
       "    <tr>\n",
       "      <th>2</th>\n",
       "      <td>0.0</td>\n",
       "      <td>1.0</td>\n",
       "      <td>1</td>\n",
       "    </tr>\n",
       "    <tr>\n",
       "      <th>3</th>\n",
       "      <td>0.0</td>\n",
       "      <td>0.0</td>\n",
       "      <td>0</td>\n",
       "    </tr>\n",
       "    <tr>\n",
       "      <th>4</th>\n",
       "      <td>1.0</td>\n",
       "      <td>0.0</td>\n",
       "      <td>0</td>\n",
       "    </tr>\n",
       "    <tr>\n",
       "      <th>...</th>\n",
       "      <td>...</td>\n",
       "      <td>...</td>\n",
       "      <td>...</td>\n",
       "    </tr>\n",
       "    <tr>\n",
       "      <th>382149</th>\n",
       "      <td>1.0</td>\n",
       "      <td>1.0</td>\n",
       "      <td>0</td>\n",
       "    </tr>\n",
       "    <tr>\n",
       "      <th>382150</th>\n",
       "      <td>1.0</td>\n",
       "      <td>0.0</td>\n",
       "      <td>0</td>\n",
       "    </tr>\n",
       "    <tr>\n",
       "      <th>382151</th>\n",
       "      <td>1.0</td>\n",
       "      <td>1.0</td>\n",
       "      <td>1</td>\n",
       "    </tr>\n",
       "    <tr>\n",
       "      <th>382152</th>\n",
       "      <td>0.0</td>\n",
       "      <td>0.0</td>\n",
       "      <td>0</td>\n",
       "    </tr>\n",
       "    <tr>\n",
       "      <th>382153</th>\n",
       "      <td>0.0</td>\n",
       "      <td>0.0</td>\n",
       "      <td>0</td>\n",
       "    </tr>\n",
       "  </tbody>\n",
       "</table>\n",
       "<p>382154 rows × 3 columns</p>\n",
       "</div>"
      ],
      "text/plain": [
       "        Gender_Male  Vehicle_Damage_Yes  Vehicle_Age\n",
       "0               1.0                 0.0            0\n",
       "1               1.0                 1.0            1\n",
       "2               0.0                 1.0            1\n",
       "3               0.0                 0.0            0\n",
       "4               1.0                 0.0            0\n",
       "...             ...                 ...          ...\n",
       "382149          1.0                 1.0            0\n",
       "382150          1.0                 0.0            0\n",
       "382151          1.0                 1.0            1\n",
       "382152          0.0                 0.0            0\n",
       "382153          0.0                 0.0            0\n",
       "\n",
       "[382154 rows x 3 columns]"
      ]
     },
     "execution_count": 20,
     "metadata": {},
     "output_type": "execute_result"
    }
   ],
   "source": [
    "X_categorical"
   ]
  },
  {
   "cell_type": "code",
   "execution_count": 21,
   "id": "b9d52e6c",
   "metadata": {
    "ExecuteTime": {
     "end_time": "2023-07-03T05:14:26.435099Z",
     "start_time": "2023-07-03T05:14:26.394761Z"
    }
   },
   "outputs": [],
   "source": [
    "X_final = pd.concat([X_num,X_categorical], axis = 1)"
   ]
  },
  {
   "cell_type": "code",
   "execution_count": 22,
   "id": "23a98fef",
   "metadata": {
    "ExecuteTime": {
     "end_time": "2023-07-03T05:14:26.475295Z",
     "start_time": "2023-07-03T05:14:26.435099Z"
    }
   },
   "outputs": [
    {
     "data": {
      "text/html": [
       "<div>\n",
       "<style scoped>\n",
       "    .dataframe tbody tr th:only-of-type {\n",
       "        vertical-align: middle;\n",
       "    }\n",
       "\n",
       "    .dataframe tbody tr th {\n",
       "        vertical-align: top;\n",
       "    }\n",
       "\n",
       "    .dataframe thead th {\n",
       "        text-align: right;\n",
       "    }\n",
       "</style>\n",
       "<table border=\"1\" class=\"dataframe\">\n",
       "  <thead>\n",
       "    <tr style=\"text-align: right;\">\n",
       "      <th></th>\n",
       "      <th>id</th>\n",
       "      <th>Age</th>\n",
       "      <th>Driving_License</th>\n",
       "      <th>Region_Code</th>\n",
       "      <th>Previously_Insured</th>\n",
       "      <th>Annual_Premium</th>\n",
       "      <th>Policy_Sales_Channel</th>\n",
       "      <th>Vintage</th>\n",
       "      <th>Gender_Male</th>\n",
       "      <th>Vehicle_Damage_Yes</th>\n",
       "      <th>Vehicle_Age</th>\n",
       "    </tr>\n",
       "  </thead>\n",
       "  <tbody>\n",
       "    <tr>\n",
       "      <th>0</th>\n",
       "      <td>-0.478372</td>\n",
       "      <td>-1.086611</td>\n",
       "      <td>0.043537</td>\n",
       "      <td>-1.472312</td>\n",
       "      <td>1.021874</td>\n",
       "      <td>-1.645878</td>\n",
       "      <td>0.737941</td>\n",
       "      <td>-1.650319</td>\n",
       "      <td>1.0</td>\n",
       "      <td>0.0</td>\n",
       "      <td>0</td>\n",
       "    </tr>\n",
       "    <tr>\n",
       "      <th>1</th>\n",
       "      <td>-1.556899</td>\n",
       "      <td>0.226856</td>\n",
       "      <td>0.043537</td>\n",
       "      <td>0.120864</td>\n",
       "      <td>-0.978594</td>\n",
       "      <td>0.739424</td>\n",
       "      <td>-1.583081</td>\n",
       "      <td>-0.229169</td>\n",
       "      <td>1.0</td>\n",
       "      <td>1.0</td>\n",
       "      <td>1</td>\n",
       "    </tr>\n",
       "    <tr>\n",
       "      <th>2</th>\n",
       "      <td>-1.450397</td>\n",
       "      <td>1.803016</td>\n",
       "      <td>0.043537</td>\n",
       "      <td>0.500191</td>\n",
       "      <td>-0.978594</td>\n",
       "      <td>0.300660</td>\n",
       "      <td>0.222158</td>\n",
       "      <td>1.180039</td>\n",
       "      <td>0.0</td>\n",
       "      <td>1.0</td>\n",
       "      <td>1</td>\n",
       "    </tr>\n",
       "    <tr>\n",
       "      <th>3</th>\n",
       "      <td>-1.053170</td>\n",
       "      <td>-1.086611</td>\n",
       "      <td>0.043537</td>\n",
       "      <td>0.500191</td>\n",
       "      <td>-0.978594</td>\n",
       "      <td>-0.179718</td>\n",
       "      <td>0.737941</td>\n",
       "      <td>-1.017369</td>\n",
       "      <td>0.0</td>\n",
       "      <td>0.0</td>\n",
       "      <td>0</td>\n",
       "    </tr>\n",
       "    <tr>\n",
       "      <th>4</th>\n",
       "      <td>1.917474</td>\n",
       "      <td>-0.692571</td>\n",
       "      <td>0.043537</td>\n",
       "      <td>1.486443</td>\n",
       "      <td>1.021874</td>\n",
       "      <td>-0.098952</td>\n",
       "      <td>0.737941</td>\n",
       "      <td>0.678457</td>\n",
       "      <td>1.0</td>\n",
       "      <td>0.0</td>\n",
       "      <td>0</td>\n",
       "    </tr>\n",
       "  </tbody>\n",
       "</table>\n",
       "</div>"
      ],
      "text/plain": [
       "         id       Age  Driving_License  Region_Code  Previously_Insured  \\\n",
       "0 -0.478372 -1.086611         0.043537    -1.472312            1.021874   \n",
       "1 -1.556899  0.226856         0.043537     0.120864           -0.978594   \n",
       "2 -1.450397  1.803016         0.043537     0.500191           -0.978594   \n",
       "3 -1.053170 -1.086611         0.043537     0.500191           -0.978594   \n",
       "4  1.917474 -0.692571         0.043537     1.486443            1.021874   \n",
       "\n",
       "   Annual_Premium  Policy_Sales_Channel   Vintage  Gender_Male  \\\n",
       "0       -1.645878              0.737941 -1.650319          1.0   \n",
       "1        0.739424             -1.583081 -0.229169          1.0   \n",
       "2        0.300660              0.222158  1.180039          0.0   \n",
       "3       -0.179718              0.737941 -1.017369          0.0   \n",
       "4       -0.098952              0.737941  0.678457          1.0   \n",
       "\n",
       "   Vehicle_Damage_Yes  Vehicle_Age  \n",
       "0                 0.0            0  \n",
       "1                 1.0            1  \n",
       "2                 1.0            1  \n",
       "3                 0.0            0  \n",
       "4                 0.0            0  "
      ]
     },
     "execution_count": 22,
     "metadata": {},
     "output_type": "execute_result"
    }
   ],
   "source": [
    "X_final.head()"
   ]
  },
  {
   "cell_type": "code",
   "execution_count": 23,
   "id": "066859a2",
   "metadata": {
    "ExecuteTime": {
     "end_time": "2023-07-03T05:14:26.507463Z",
     "start_time": "2023-07-03T05:14:26.475295Z"
    }
   },
   "outputs": [
    {
     "data": {
      "text/plain": [
       "id                      float64\n",
       "Age                     float64\n",
       "Driving_License         float64\n",
       "Region_Code             float64\n",
       "Previously_Insured      float64\n",
       "Annual_Premium          float64\n",
       "Policy_Sales_Channel    float64\n",
       "Vintage                 float64\n",
       "Gender_Male             float64\n",
       "Vehicle_Damage_Yes      float64\n",
       "Vehicle_Age               int32\n",
       "dtype: object"
      ]
     },
     "execution_count": 23,
     "metadata": {},
     "output_type": "execute_result"
    }
   ],
   "source": [
    "X_final.dtypes"
   ]
  },
  {
   "cell_type": "code",
   "execution_count": 24,
   "id": "32180305",
   "metadata": {
    "ExecuteTime": {
     "end_time": "2023-07-03T05:14:26.523983Z",
     "start_time": "2023-07-03T05:14:26.508808Z"
    }
   },
   "outputs": [],
   "source": [
    "## You can observe that now al the features are of numerical, means we can apply SMOTE technique now"
   ]
  },
  {
   "cell_type": "markdown",
   "id": "6f1eb148",
   "metadata": {},
   "source": [
    "## Applying SMOTE \n",
    ">  `Synthetic Minority Over-sampling Technique` is a popular technique for oversampling the `minority class` in imbalanced datasets.\n",
    "\n",
    "**Import SMOTE from `imblearn.over_sampling` , Pass the Input features and the Target variable. Remember to perform `fit_resample`**\n"
   ]
  },
  {
   "cell_type": "code",
   "execution_count": 25,
   "id": "dca723e3",
   "metadata": {
    "ExecuteTime": {
     "end_time": "2023-07-03T05:14:54.629980Z",
     "start_time": "2023-07-03T05:14:26.523983Z"
    }
   },
   "outputs": [],
   "source": [
    "from imblearn.over_sampling import SMOTE\n",
    "smote = SMOTE()\n",
    "X_re_smote , Y_re_smote = smote.fit_resample(X_final,Y)"
   ]
  },
  {
   "cell_type": "markdown",
   "id": "01446ae2",
   "metadata": {},
   "source": [
    "## Now lets Check the Imbalance"
   ]
  },
  {
   "cell_type": "code",
   "execution_count": 26,
   "id": "a5343eca",
   "metadata": {
    "ExecuteTime": {
     "end_time": "2023-07-03T05:14:54.670627Z",
     "start_time": "2023-07-03T05:14:54.629980Z"
    }
   },
   "outputs": [
    {
     "data": {
      "text/plain": [
       "0    0.5\n",
       "1    0.5\n",
       "Name: Response, dtype: float64"
      ]
     },
     "execution_count": 26,
     "metadata": {},
     "output_type": "execute_result"
    }
   ],
   "source": [
    "Y_re_smote.value_counts(normalize=True)"
   ]
  },
  {
   "cell_type": "markdown",
   "id": "dde48b66",
   "metadata": {},
   "source": [
    "> As you can see that the imbalance as been treated with SMOTE technique where samples has been generated using interpolation from nearest neighbours of minority class"
   ]
  },
  {
   "cell_type": "markdown",
   "id": "2074bcdf",
   "metadata": {},
   "source": [
    "## LIMITATIONS OF SMOTE:"
   ]
  },
  {
   "cell_type": "markdown",
   "id": "863727b9",
   "metadata": {},
   "source": [
    "**As SMOTE is a widely used technique/method to handle the issue of class imbalance, It does comes with its own limitations**\n",
    "1. Oversampling using SMOTE may introduce noise into the data, because it generates synthetic samples using interpolaton of existing minority class samples which results in `unrealistic data points`. Thus may not accuratley represent the `true distribution` of minority class.\n",
    "2. SMOTE technique does not take into account of `neighbouring majority samples`. As a result, SMOTE may oversample the minority class in regions of the `feature space` that are densely populated by majority class samples, leading to an increased risk of misclassification.\n",
    "\n",
    "3. The Parameter `K` in SMOTE represents the number of nearest neighbours to consider when generating synthetic data, Now the value of `k` can significantly impact the oversampling results.If k too small, may create samples that are very similar to existing minority class samples, resulting in `overfitting`. if k too large, may introduce excessive diversity and noise into the synthetic samples.\n",
    "\n",
    "4. SMOTE is in-effective in case of `high-dimensional data`, In high-dimensional feature spaces, the concept of nearest neighbors becomes less meaningful, and SMOTE may struggle to generate meaningful synthetic samples. In such cases go for `Feature Selection` or `Dimensionality Reduction`."
   ]
  },
  {
   "cell_type": "markdown",
   "id": "e4475205",
   "metadata": {},
   "source": [
    "# Borderline SMOTE"
   ]
  },
  {
   "cell_type": "markdown",
   "id": "3de8b498",
   "metadata": {},
   "source": [
    "* Borderline SMOTE is an extension of traditional SMOTE algorithm, In Borderline it focuses on generating synthetic samples near the decision boundary of the minority class. \n",
    "\n",
    "**It adresses some of the limitations of SMOTE, They are:**\n",
    "\n",
    "* unlike SMOTE which generates samples uniformly across the feature-space,orderline SMOTE Focusses on the data points that are very difficult to classify i.e the samples near the dicision surface.\n",
    "* It treats the issue of over-generalization by generating synthetic samples only near the decision boundary of the minority class, these samples ditribution is considered to be more representative of the minority class\n",
    "* Unlike SMOTE, Borderline takes nearest neighbours into account at the decision boundary of minority class "
   ]
  },
  {
   "cell_type": "markdown",
   "id": "131fb791",
   "metadata": {},
   "source": [
    "## Apply "
   ]
  },
  {
   "cell_type": "code",
   "execution_count": 27,
   "id": "99893fca",
   "metadata": {
    "ExecuteTime": {
     "end_time": "2023-07-03T05:16:45.292948Z",
     "start_time": "2023-07-03T05:14:54.670684Z"
    }
   },
   "outputs": [],
   "source": [
    "from imblearn.over_sampling import BorderlineSMOTE\n",
    "border = BorderlineSMOTE()\n",
    "X_re_border, Y_re_border  = border.fit_resample(X_final,Y)"
   ]
  },
  {
   "cell_type": "markdown",
   "id": "b1404ed0",
   "metadata": {},
   "source": [
    "## Check "
   ]
  },
  {
   "cell_type": "code",
   "execution_count": 28,
   "id": "55077c21",
   "metadata": {
    "ExecuteTime": {
     "end_time": "2023-07-03T05:16:45.340941Z",
     "start_time": "2023-07-03T05:16:45.308944Z"
    }
   },
   "outputs": [
    {
     "data": {
      "text/plain": [
       "0    0.5\n",
       "1    0.5\n",
       "Name: Response, dtype: float64"
      ]
     },
     "execution_count": 28,
     "metadata": {},
     "output_type": "execute_result"
    }
   ],
   "source": [
    "Y_re_border.value_counts(normalize = True)"
   ]
  },
  {
   "cell_type": "markdown",
   "id": "ce2f83ae",
   "metadata": {},
   "source": [
    "> As you can see that the imbalance as been treated with Borderline SMOTE technique, where samples has been generated near the decision boundary surface by interpolation.\n"
   ]
  },
  {
   "cell_type": "markdown",
   "id": "f4c5bc64",
   "metadata": {},
   "source": [
    "# ADASYN - Adaptive Synthetic Sampling"
   ]
  },
  {
   "cell_type": "markdown",
   "id": "a3415a31",
   "metadata": {},
   "source": [
    "* ADASYN is also a oversampling technique that generates samples for the minority class, The main aim of ADASYN is to focus on the difficult-to-learn minority class datapoints that are in the oversampling regions in feature space.\n",
    "* ADASYN calculates density distribution for minority class and generates samples with respect to the overall local density distribution.\n",
    "### Steps involved:\n",
    "1. Calculate CIR - Class Imbalance Ratio of majority class samples to minority class samples.\n",
    "2. For each sample in the minority class\n",
    "   * Compute the `k` nearest neighbors for both the minority and majority classes.\n",
    "   * Calculate the density distribution `d` for the sample by measuring the ratio of the number of majority class neighbors      to the total number of neighbors.\n",
    "   * Compute the target number of synthetic samples to be generated for the current sample, given by the formula:\n",
    "     `target_samples = CIR * d`\n",
    "   * Generate synthetic samples by randomly selecting the `k` minority class samples and interpolating them.\n",
    "   * Add the synthetic samples to the minority class."
   ]
  },
  {
   "cell_type": "markdown",
   "id": "78b5ae0a",
   "metadata": {},
   "source": [
    "## Apply"
   ]
  },
  {
   "cell_type": "code",
   "execution_count": 29,
   "id": "9eb7b0c1",
   "metadata": {
    "ExecuteTime": {
     "end_time": "2023-07-03T05:18:27.453072Z",
     "start_time": "2023-07-03T05:16:45.340941Z"
    }
   },
   "outputs": [],
   "source": [
    "from imblearn.over_sampling import ADASYN\n",
    "adasyn = ADASYN()\n",
    "X_re_adasyn, Y_re_adasyn  = adasyn.fit_resample(X_final,Y)"
   ]
  },
  {
   "cell_type": "markdown",
   "id": "843213b5",
   "metadata": {},
   "source": [
    "## Check"
   ]
  },
  {
   "cell_type": "code",
   "execution_count": 30,
   "id": "adc1b857",
   "metadata": {
    "ExecuteTime": {
     "end_time": "2023-07-03T05:18:27.485979Z",
     "start_time": "2023-07-03T05:18:27.456369Z"
    }
   },
   "outputs": [
    {
     "data": {
      "text/plain": [
       "0    0.501719\n",
       "1    0.498281\n",
       "Name: Response, dtype: float64"
      ]
     },
     "execution_count": 30,
     "metadata": {},
     "output_type": "execute_result"
    }
   ],
   "source": [
    "Y_re_adasyn.value_counts(normalize = True)"
   ]
  },
  {
   "cell_type": "markdown",
   "id": "8629091e",
   "metadata": {},
   "source": [
    "> As you can see that the imbalance as been treated with ADASYN technique."
   ]
  },
  {
   "cell_type": "markdown",
   "id": "c6ec7d5f",
   "metadata": {},
   "source": [
    "## Spliting the data for train and test"
   ]
  },
  {
   "cell_type": "markdown",
   "id": "28c8c4a9",
   "metadata": {},
   "source": [
    "### For Traditional SMOTE"
   ]
  },
  {
   "cell_type": "code",
   "execution_count": 31,
   "id": "c5c344e1",
   "metadata": {
    "ExecuteTime": {
     "end_time": "2023-07-03T05:18:27.800849Z",
     "start_time": "2023-07-03T05:18:27.488069Z"
    }
   },
   "outputs": [],
   "source": [
    "from sklearn.model_selection import train_test_split\n",
    "X_train,X_test,y_train,y_test = train_test_split(X_re_smote,Y_re_smote,random_state=27)"
   ]
  },
  {
   "cell_type": "markdown",
   "id": "47ae6df2",
   "metadata": {},
   "source": [
    "### For Borderline SMOTE"
   ]
  },
  {
   "cell_type": "code",
   "execution_count": 32,
   "id": "8782da5f",
   "metadata": {
    "ExecuteTime": {
     "end_time": "2023-07-03T05:18:28.123710Z",
     "start_time": "2023-07-03T05:18:27.800849Z"
    }
   },
   "outputs": [],
   "source": [
    "from sklearn.model_selection import train_test_split\n",
    "X_train1,X_test1,y_train1,y_test1 = train_test_split(X_re_border,Y_re_border,random_state=27)"
   ]
  },
  {
   "cell_type": "markdown",
   "id": "73548240",
   "metadata": {},
   "source": [
    "### For ADASYN"
   ]
  },
  {
   "cell_type": "code",
   "execution_count": 33,
   "id": "d5be2c54",
   "metadata": {
    "ExecuteTime": {
     "end_time": "2023-07-03T05:18:28.471347Z",
     "start_time": "2023-07-03T05:18:28.131977Z"
    }
   },
   "outputs": [],
   "source": [
    "from sklearn.model_selection import train_test_split\n",
    "X_train2,X_test2,y_train2,y_test2 = train_test_split(X_re_adasyn,Y_re_adasyn,random_state=27)"
   ]
  },
  {
   "cell_type": "markdown",
   "id": "cc80055b",
   "metadata": {},
   "source": [
    "# Model Building"
   ]
  },
  {
   "cell_type": "markdown",
   "id": "5ef741db",
   "metadata": {},
   "source": [
    "## LogisticRegression (Traditional SMOTE)"
   ]
  },
  {
   "cell_type": "code",
   "execution_count": 34,
   "id": "2655d5b9",
   "metadata": {
    "ExecuteTime": {
     "end_time": "2023-07-03T05:18:30.582460Z",
     "start_time": "2023-07-03T05:18:28.471347Z"
    }
   },
   "outputs": [
    {
     "data": {
      "text/html": [
       "<style>#sk-container-id-1 {color: black;background-color: white;}#sk-container-id-1 pre{padding: 0;}#sk-container-id-1 div.sk-toggleable {background-color: white;}#sk-container-id-1 label.sk-toggleable__label {cursor: pointer;display: block;width: 100%;margin-bottom: 0;padding: 0.3em;box-sizing: border-box;text-align: center;}#sk-container-id-1 label.sk-toggleable__label-arrow:before {content: \"▸\";float: left;margin-right: 0.25em;color: #696969;}#sk-container-id-1 label.sk-toggleable__label-arrow:hover:before {color: black;}#sk-container-id-1 div.sk-estimator:hover label.sk-toggleable__label-arrow:before {color: black;}#sk-container-id-1 div.sk-toggleable__content {max-height: 0;max-width: 0;overflow: hidden;text-align: left;background-color: #f0f8ff;}#sk-container-id-1 div.sk-toggleable__content pre {margin: 0.2em;color: black;border-radius: 0.25em;background-color: #f0f8ff;}#sk-container-id-1 input.sk-toggleable__control:checked~div.sk-toggleable__content {max-height: 200px;max-width: 100%;overflow: auto;}#sk-container-id-1 input.sk-toggleable__control:checked~label.sk-toggleable__label-arrow:before {content: \"▾\";}#sk-container-id-1 div.sk-estimator input.sk-toggleable__control:checked~label.sk-toggleable__label {background-color: #d4ebff;}#sk-container-id-1 div.sk-label input.sk-toggleable__control:checked~label.sk-toggleable__label {background-color: #d4ebff;}#sk-container-id-1 input.sk-hidden--visually {border: 0;clip: rect(1px 1px 1px 1px);clip: rect(1px, 1px, 1px, 1px);height: 1px;margin: -1px;overflow: hidden;padding: 0;position: absolute;width: 1px;}#sk-container-id-1 div.sk-estimator {font-family: monospace;background-color: #f0f8ff;border: 1px dotted black;border-radius: 0.25em;box-sizing: border-box;margin-bottom: 0.5em;}#sk-container-id-1 div.sk-estimator:hover {background-color: #d4ebff;}#sk-container-id-1 div.sk-parallel-item::after {content: \"\";width: 100%;border-bottom: 1px solid gray;flex-grow: 1;}#sk-container-id-1 div.sk-label:hover label.sk-toggleable__label {background-color: #d4ebff;}#sk-container-id-1 div.sk-serial::before {content: \"\";position: absolute;border-left: 1px solid gray;box-sizing: border-box;top: 0;bottom: 0;left: 50%;z-index: 0;}#sk-container-id-1 div.sk-serial {display: flex;flex-direction: column;align-items: center;background-color: white;padding-right: 0.2em;padding-left: 0.2em;position: relative;}#sk-container-id-1 div.sk-item {position: relative;z-index: 1;}#sk-container-id-1 div.sk-parallel {display: flex;align-items: stretch;justify-content: center;background-color: white;position: relative;}#sk-container-id-1 div.sk-item::before, #sk-container-id-1 div.sk-parallel-item::before {content: \"\";position: absolute;border-left: 1px solid gray;box-sizing: border-box;top: 0;bottom: 0;left: 50%;z-index: -1;}#sk-container-id-1 div.sk-parallel-item {display: flex;flex-direction: column;z-index: 1;position: relative;background-color: white;}#sk-container-id-1 div.sk-parallel-item:first-child::after {align-self: flex-end;width: 50%;}#sk-container-id-1 div.sk-parallel-item:last-child::after {align-self: flex-start;width: 50%;}#sk-container-id-1 div.sk-parallel-item:only-child::after {width: 0;}#sk-container-id-1 div.sk-dashed-wrapped {border: 1px dashed gray;margin: 0 0.4em 0.5em 0.4em;box-sizing: border-box;padding-bottom: 0.4em;background-color: white;}#sk-container-id-1 div.sk-label label {font-family: monospace;font-weight: bold;display: inline-block;line-height: 1.2em;}#sk-container-id-1 div.sk-label-container {text-align: center;}#sk-container-id-1 div.sk-container {/* jupyter's `normalize.less` sets `[hidden] { display: none; }` but bootstrap.min.css set `[hidden] { display: none !important; }` so we also need the `!important` here to be able to override the default hidden behavior on the sphinx rendered scikit-learn.org. See: https://github.com/scikit-learn/scikit-learn/issues/21755 */display: inline-block !important;position: relative;}#sk-container-id-1 div.sk-text-repr-fallback {display: none;}</style><div id=\"sk-container-id-1\" class=\"sk-top-container\"><div class=\"sk-text-repr-fallback\"><pre>LogisticRegression()</pre><b>In a Jupyter environment, please rerun this cell to show the HTML representation or trust the notebook. <br />On GitHub, the HTML representation is unable to render, please try loading this page with nbviewer.org.</b></div><div class=\"sk-container\" hidden><div class=\"sk-item\"><div class=\"sk-estimator sk-toggleable\"><input class=\"sk-toggleable__control sk-hidden--visually\" id=\"sk-estimator-id-1\" type=\"checkbox\" checked><label for=\"sk-estimator-id-1\" class=\"sk-toggleable__label sk-toggleable__label-arrow\">LogisticRegression</label><div class=\"sk-toggleable__content\"><pre>LogisticRegression()</pre></div></div></div></div></div>"
      ],
      "text/plain": [
       "LogisticRegression()"
      ]
     },
     "execution_count": 34,
     "metadata": {},
     "output_type": "execute_result"
    }
   ],
   "source": [
    "from sklearn.linear_model import LogisticRegression\n",
    "from sklearn.metrics import f1_score,classification_report\n",
    "# objection creation\n",
    "LR = LogisticRegression()\n",
    "\n",
    "# training the model\n",
    "LR.fit(X_train,y_train)"
   ]
  },
  {
   "cell_type": "code",
   "execution_count": 35,
   "id": "513ed06a",
   "metadata": {
    "ExecuteTime": {
     "end_time": "2023-07-03T05:18:54.595225Z",
     "start_time": "2023-07-03T05:18:30.582460Z"
    }
   },
   "outputs": [
    {
     "name": "stdout",
     "output_type": "stream",
     "text": [
      "0.8347284436320046\n"
     ]
    },
    {
     "data": {
      "image/png": "[encoded data removed]",
      "text/plain": [
       "<Figure size 500x500 with 1 Axes>"
      ]
     },
     "metadata": {},
     "output_type": "display_data"
    }
   ],
   "source": [
    "# Performing recidual analysis\n",
    "y_tr_pred1 = LR.predict(X_train)\n",
    "print(f1_score(y_train,y_tr_pred1))\n",
    "residual = y_train-y_tr_pred1\n",
    "sns.displot(residual,kind = 'kde');"
   ]
  },
  {
   "cell_type": "code",
   "execution_count": 36,
   "id": "a82cf3fa",
   "metadata": {
    "ExecuteTime": {
     "end_time": "2023-07-03T05:18:55.336769Z",
     "start_time": "2023-07-03T05:18:54.595225Z"
    }
   },
   "outputs": [
    {
     "name": "stdout",
     "output_type": "stream",
     "text": [
      "0.8357768960028695\n",
      "              precision    recall  f1-score   support\n",
      "\n",
      "           0       0.91      0.70      0.79     79904\n",
      "           1       0.76      0.93      0.84     79873\n",
      "\n",
      "    accuracy                           0.82    159777\n",
      "   macro avg       0.83      0.82      0.81    159777\n",
      "weighted avg       0.83      0.82      0.81    159777\n",
      "\n"
     ]
    },
    {
     "data": {
      "text/html": [
       "<div>\n",
       "<style scoped>\n",
       "    .dataframe tbody tr th:only-of-type {\n",
       "        vertical-align: middle;\n",
       "    }\n",
       "\n",
       "    .dataframe tbody tr th {\n",
       "        vertical-align: top;\n",
       "    }\n",
       "\n",
       "    .dataframe thead th {\n",
       "        text-align: right;\n",
       "    }\n",
       "</style>\n",
       "<table border=\"1\" class=\"dataframe\">\n",
       "  <thead>\n",
       "    <tr style=\"text-align: right;\">\n",
       "      <th></th>\n",
       "      <th>Actual</th>\n",
       "      <th>predicted</th>\n",
       "    </tr>\n",
       "  </thead>\n",
       "  <tbody>\n",
       "    <tr>\n",
       "      <th>154379</th>\n",
       "      <td>0</td>\n",
       "      <td>0</td>\n",
       "    </tr>\n",
       "    <tr>\n",
       "      <th>411996</th>\n",
       "      <td>1</td>\n",
       "      <td>1</td>\n",
       "    </tr>\n",
       "    <tr>\n",
       "      <th>472242</th>\n",
       "      <td>1</td>\n",
       "      <td>1</td>\n",
       "    </tr>\n",
       "    <tr>\n",
       "      <th>400210</th>\n",
       "      <td>1</td>\n",
       "      <td>1</td>\n",
       "    </tr>\n",
       "    <tr>\n",
       "      <th>199018</th>\n",
       "      <td>1</td>\n",
       "      <td>0</td>\n",
       "    </tr>\n",
       "    <tr>\n",
       "      <th>...</th>\n",
       "      <td>...</td>\n",
       "      <td>...</td>\n",
       "    </tr>\n",
       "    <tr>\n",
       "      <th>464610</th>\n",
       "      <td>1</td>\n",
       "      <td>1</td>\n",
       "    </tr>\n",
       "    <tr>\n",
       "      <th>223506</th>\n",
       "      <td>0</td>\n",
       "      <td>1</td>\n",
       "    </tr>\n",
       "    <tr>\n",
       "      <th>46999</th>\n",
       "      <td>0</td>\n",
       "      <td>0</td>\n",
       "    </tr>\n",
       "    <tr>\n",
       "      <th>249930</th>\n",
       "      <td>0</td>\n",
       "      <td>1</td>\n",
       "    </tr>\n",
       "    <tr>\n",
       "      <th>299772</th>\n",
       "      <td>0</td>\n",
       "      <td>1</td>\n",
       "    </tr>\n",
       "  </tbody>\n",
       "</table>\n",
       "<p>159777 rows × 2 columns</p>\n",
       "</div>"
      ],
      "text/plain": [
       "        Actual  predicted\n",
       "154379       0          0\n",
       "411996       1          1\n",
       "472242       1          1\n",
       "400210       1          1\n",
       "199018       1          0\n",
       "...        ...        ...\n",
       "464610       1          1\n",
       "223506       0          1\n",
       "46999        0          0\n",
       "249930       0          1\n",
       "299772       0          1\n",
       "\n",
       "[159777 rows x 2 columns]"
      ]
     },
     "execution_count": 36,
     "metadata": {},
     "output_type": "execute_result"
    }
   ],
   "source": [
    "# prediction on unseen data\n",
    "y_te_pred1 = LR.predict(X_test)\n",
    "print(f1_score(y_test,y_te_pred1))\n",
    "print(classification_report(y_test,y_te_pred1))\n",
    "\n",
    "# lets see the acutal and predicted\n",
    "temp = pd.DataFrame({'Actual':y_test, 'predicted':y_te_pred1})\n",
    "temp"
   ]
  },
  {
   "cell_type": "markdown",
   "id": "82fac956",
   "metadata": {},
   "source": [
    "## LogisticRegression (Borderline SMOTE)"
   ]
  },
  {
   "cell_type": "code",
   "execution_count": 37,
   "id": "e673792e",
   "metadata": {
    "ExecuteTime": {
     "end_time": "2023-07-03T05:18:57.481780Z",
     "start_time": "2023-07-03T05:18:55.336769Z"
    }
   },
   "outputs": [
    {
     "data": {
      "text/html": [
       "<style>#sk-container-id-2 {color: black;background-color: white;}#sk-container-id-2 pre{padding: 0;}#sk-container-id-2 div.sk-toggleable {background-color: white;}#sk-container-id-2 label.sk-toggleable__label {cursor: pointer;display: block;width: 100%;margin-bottom: 0;padding: 0.3em;box-sizing: border-box;text-align: center;}#sk-container-id-2 label.sk-toggleable__label-arrow:before {content: \"▸\";float: left;margin-right: 0.25em;color: #696969;}#sk-container-id-2 label.sk-toggleable__label-arrow:hover:before {color: black;}#sk-container-id-2 div.sk-estimator:hover label.sk-toggleable__label-arrow:before {color: black;}#sk-container-id-2 div.sk-toggleable__content {max-height: 0;max-width: 0;overflow: hidden;text-align: left;background-color: #f0f8ff;}#sk-container-id-2 div.sk-toggleable__content pre {margin: 0.2em;color: black;border-radius: 0.25em;background-color: #f0f8ff;}#sk-container-id-2 input.sk-toggleable__control:checked~div.sk-toggleable__content {max-height: 200px;max-width: 100%;overflow: auto;}#sk-container-id-2 input.sk-toggleable__control:checked~label.sk-toggleable__label-arrow:before {content: \"▾\";}#sk-container-id-2 div.sk-estimator input.sk-toggleable__control:checked~label.sk-toggleable__label {background-color: #d4ebff;}#sk-container-id-2 div.sk-label input.sk-toggleable__control:checked~label.sk-toggleable__label {background-color: #d4ebff;}#sk-container-id-2 input.sk-hidden--visually {border: 0;clip: rect(1px 1px 1px 1px);clip: rect(1px, 1px, 1px, 1px);height: 1px;margin: -1px;overflow: hidden;padding: 0;position: absolute;width: 1px;}#sk-container-id-2 div.sk-estimator {font-family: monospace;background-color: #f0f8ff;border: 1px dotted black;border-radius: 0.25em;box-sizing: border-box;margin-bottom: 0.5em;}#sk-container-id-2 div.sk-estimator:hover {background-color: #d4ebff;}#sk-container-id-2 div.sk-parallel-item::after {content: \"\";width: 100%;border-bottom: 1px solid gray;flex-grow: 1;}#sk-container-id-2 div.sk-label:hover label.sk-toggleable__label {background-color: #d4ebff;}#sk-container-id-2 div.sk-serial::before {content: \"\";position: absolute;border-left: 1px solid gray;box-sizing: border-box;top: 0;bottom: 0;left: 50%;z-index: 0;}#sk-container-id-2 div.sk-serial {display: flex;flex-direction: column;align-items: center;background-color: white;padding-right: 0.2em;padding-left: 0.2em;position: relative;}#sk-container-id-2 div.sk-item {position: relative;z-index: 1;}#sk-container-id-2 div.sk-parallel {display: flex;align-items: stretch;justify-content: center;background-color: white;position: relative;}#sk-container-id-2 div.sk-item::before, #sk-container-id-2 div.sk-parallel-item::before {content: \"\";position: absolute;border-left: 1px solid gray;box-sizing: border-box;top: 0;bottom: 0;left: 50%;z-index: -1;}#sk-container-id-2 div.sk-parallel-item {display: flex;flex-direction: column;z-index: 1;position: relative;background-color: white;}#sk-container-id-2 div.sk-parallel-item:first-child::after {align-self: flex-end;width: 50%;}#sk-container-id-2 div.sk-parallel-item:last-child::after {align-self: flex-start;width: 50%;}#sk-container-id-2 div.sk-parallel-item:only-child::after {width: 0;}#sk-container-id-2 div.sk-dashed-wrapped {border: 1px dashed gray;margin: 0 0.4em 0.5em 0.4em;box-sizing: border-box;padding-bottom: 0.4em;background-color: white;}#sk-container-id-2 div.sk-label label {font-family: monospace;font-weight: bold;display: inline-block;line-height: 1.2em;}#sk-container-id-2 div.sk-label-container {text-align: center;}#sk-container-id-2 div.sk-container {/* jupyter's `normalize.less` sets `[hidden] { display: none; }` but bootstrap.min.css set `[hidden] { display: none !important; }` so we also need the `!important` here to be able to override the default hidden behavior on the sphinx rendered scikit-learn.org. See: https://github.com/scikit-learn/scikit-learn/issues/21755 */display: inline-block !important;position: relative;}#sk-container-id-2 div.sk-text-repr-fallback {display: none;}</style><div id=\"sk-container-id-2\" class=\"sk-top-container\"><div class=\"sk-text-repr-fallback\"><pre>LogisticRegression()</pre><b>In a Jupyter environment, please rerun this cell to show the HTML representation or trust the notebook. <br />On GitHub, the HTML representation is unable to render, please try loading this page with nbviewer.org.</b></div><div class=\"sk-container\" hidden><div class=\"sk-item\"><div class=\"sk-estimator sk-toggleable\"><input class=\"sk-toggleable__control sk-hidden--visually\" id=\"sk-estimator-id-2\" type=\"checkbox\" checked><label for=\"sk-estimator-id-2\" class=\"sk-toggleable__label sk-toggleable__label-arrow\">LogisticRegression</label><div class=\"sk-toggleable__content\"><pre>LogisticRegression()</pre></div></div></div></div></div>"
      ],
      "text/plain": [
       "LogisticRegression()"
      ]
     },
     "execution_count": 37,
     "metadata": {},
     "output_type": "execute_result"
    }
   ],
   "source": [
    "from sklearn.linear_model import LogisticRegression\n",
    "from sklearn.metrics import f1_score,classification_report\n",
    "# objection creation\n",
    "LRR = LogisticRegression()\n",
    "\n",
    "# training the model\n",
    "LRR.fit(X_train1,y_train1)"
   ]
  },
  {
   "cell_type": "code",
   "execution_count": 38,
   "id": "fcf2d656",
   "metadata": {
    "ExecuteTime": {
     "end_time": "2023-07-03T05:19:21.882264Z",
     "start_time": "2023-07-03T05:18:57.481780Z"
    }
   },
   "outputs": [
    {
     "name": "stdout",
     "output_type": "stream",
     "text": [
      "0.8439071470290753\n"
     ]
    },
    {
     "data": {
      "image/png": "[encoded data removed]",
      "text/plain": [
       "<Figure size 500x500 with 1 Axes>"
      ]
     },
     "metadata": {},
     "output_type": "display_data"
    }
   ],
   "source": [
    "# Performing recidual analysis\n",
    "y_tr_pred2 = LRR.predict(X_train1)\n",
    "print(f1_score(y_train1,y_tr_pred2))\n",
    "residual = y_train1-y_tr_pred2\n",
    "sns.displot(residual,kind = 'kde');"
   ]
  },
  {
   "cell_type": "code",
   "execution_count": 39,
   "id": "8a56239c",
   "metadata": {
    "ExecuteTime": {
     "end_time": "2023-07-03T05:19:22.616783Z",
     "start_time": "2023-07-03T05:19:21.882264Z"
    }
   },
   "outputs": [
    {
     "name": "stdout",
     "output_type": "stream",
     "text": [
      "0.8444748707032567\n",
      "              precision    recall  f1-score   support\n",
      "\n",
      "           0       0.98      0.65      0.78     79904\n",
      "           1       0.74      0.99      0.84     79873\n",
      "\n",
      "    accuracy                           0.82    159777\n",
      "   macro avg       0.86      0.82      0.81    159777\n",
      "weighted avg       0.86      0.82      0.81    159777\n",
      "\n"
     ]
    },
    {
     "data": {
      "text/html": [
       "<div>\n",
       "<style scoped>\n",
       "    .dataframe tbody tr th:only-of-type {\n",
       "        vertical-align: middle;\n",
       "    }\n",
       "\n",
       "    .dataframe tbody tr th {\n",
       "        vertical-align: top;\n",
       "    }\n",
       "\n",
       "    .dataframe thead th {\n",
       "        text-align: right;\n",
       "    }\n",
       "</style>\n",
       "<table border=\"1\" class=\"dataframe\">\n",
       "  <thead>\n",
       "    <tr style=\"text-align: right;\">\n",
       "      <th></th>\n",
       "      <th>Actual</th>\n",
       "      <th>predicted</th>\n",
       "    </tr>\n",
       "  </thead>\n",
       "  <tbody>\n",
       "    <tr>\n",
       "      <th>154379</th>\n",
       "      <td>0</td>\n",
       "      <td>0</td>\n",
       "    </tr>\n",
       "    <tr>\n",
       "      <th>411996</th>\n",
       "      <td>1</td>\n",
       "      <td>1</td>\n",
       "    </tr>\n",
       "    <tr>\n",
       "      <th>472242</th>\n",
       "      <td>1</td>\n",
       "      <td>1</td>\n",
       "    </tr>\n",
       "    <tr>\n",
       "      <th>400210</th>\n",
       "      <td>1</td>\n",
       "      <td>1</td>\n",
       "    </tr>\n",
       "    <tr>\n",
       "      <th>199018</th>\n",
       "      <td>1</td>\n",
       "      <td>1</td>\n",
       "    </tr>\n",
       "    <tr>\n",
       "      <th>...</th>\n",
       "      <td>...</td>\n",
       "      <td>...</td>\n",
       "    </tr>\n",
       "    <tr>\n",
       "      <th>464610</th>\n",
       "      <td>1</td>\n",
       "      <td>1</td>\n",
       "    </tr>\n",
       "    <tr>\n",
       "      <th>223506</th>\n",
       "      <td>0</td>\n",
       "      <td>1</td>\n",
       "    </tr>\n",
       "    <tr>\n",
       "      <th>46999</th>\n",
       "      <td>0</td>\n",
       "      <td>0</td>\n",
       "    </tr>\n",
       "    <tr>\n",
       "      <th>249930</th>\n",
       "      <td>0</td>\n",
       "      <td>1</td>\n",
       "    </tr>\n",
       "    <tr>\n",
       "      <th>299772</th>\n",
       "      <td>0</td>\n",
       "      <td>1</td>\n",
       "    </tr>\n",
       "  </tbody>\n",
       "</table>\n",
       "<p>159777 rows × 2 columns</p>\n",
       "</div>"
      ],
      "text/plain": [
       "        Actual  predicted\n",
       "154379       0          0\n",
       "411996       1          1\n",
       "472242       1          1\n",
       "400210       1          1\n",
       "199018       1          1\n",
       "...        ...        ...\n",
       "464610       1          1\n",
       "223506       0          1\n",
       "46999        0          0\n",
       "249930       0          1\n",
       "299772       0          1\n",
       "\n",
       "[159777 rows x 2 columns]"
      ]
     },
     "execution_count": 39,
     "metadata": {},
     "output_type": "execute_result"
    }
   ],
   "source": [
    "# prediction on unseen data\n",
    "y_te_pred2 = LRR.predict(X_test1)\n",
    "print(f1_score(y_test1,y_te_pred2))\n",
    "print(classification_report(y_test1,y_te_pred2))\n",
    "\n",
    "# lets see the acutal and predicted\n",
    "temp = pd.DataFrame({'Actual':y_test1, 'predicted':y_te_pred2})\n",
    "temp"
   ]
  },
  {
   "cell_type": "markdown",
   "id": "288a1d0c",
   "metadata": {},
   "source": [
    "# Logistic Regression (ADASYN)"
   ]
  },
  {
   "cell_type": "code",
   "execution_count": 40,
   "id": "94f2182e",
   "metadata": {
    "ExecuteTime": {
     "end_time": "2023-07-03T05:19:24.380915Z",
     "start_time": "2023-07-03T05:19:22.616783Z"
    }
   },
   "outputs": [
    {
     "data": {
      "text/html": [
       "<style>#sk-container-id-3 {color: black;background-color: white;}#sk-container-id-3 pre{padding: 0;}#sk-container-id-3 div.sk-toggleable {background-color: white;}#sk-container-id-3 label.sk-toggleable__label {cursor: pointer;display: block;width: 100%;margin-bottom: 0;padding: 0.3em;box-sizing: border-box;text-align: center;}#sk-container-id-3 label.sk-toggleable__label-arrow:before {content: \"▸\";float: left;margin-right: 0.25em;color: #696969;}#sk-container-id-3 label.sk-toggleable__label-arrow:hover:before {color: black;}#sk-container-id-3 div.sk-estimator:hover label.sk-toggleable__label-arrow:before {color: black;}#sk-container-id-3 div.sk-toggleable__content {max-height: 0;max-width: 0;overflow: hidden;text-align: left;background-color: #f0f8ff;}#sk-container-id-3 div.sk-toggleable__content pre {margin: 0.2em;color: black;border-radius: 0.25em;background-color: #f0f8ff;}#sk-container-id-3 input.sk-toggleable__control:checked~div.sk-toggleable__content {max-height: 200px;max-width: 100%;overflow: auto;}#sk-container-id-3 input.sk-toggleable__control:checked~label.sk-toggleable__label-arrow:before {content: \"▾\";}#sk-container-id-3 div.sk-estimator input.sk-toggleable__control:checked~label.sk-toggleable__label {background-color: #d4ebff;}#sk-container-id-3 div.sk-label input.sk-toggleable__control:checked~label.sk-toggleable__label {background-color: #d4ebff;}#sk-container-id-3 input.sk-hidden--visually {border: 0;clip: rect(1px 1px 1px 1px);clip: rect(1px, 1px, 1px, 1px);height: 1px;margin: -1px;overflow: hidden;padding: 0;position: absolute;width: 1px;}#sk-container-id-3 div.sk-estimator {font-family: monospace;background-color: #f0f8ff;border: 1px dotted black;border-radius: 0.25em;box-sizing: border-box;margin-bottom: 0.5em;}#sk-container-id-3 div.sk-estimator:hover {background-color: #d4ebff;}#sk-container-id-3 div.sk-parallel-item::after {content: \"\";width: 100%;border-bottom: 1px solid gray;flex-grow: 1;}#sk-container-id-3 div.sk-label:hover label.sk-toggleable__label {background-color: #d4ebff;}#sk-container-id-3 div.sk-serial::before {content: \"\";position: absolute;border-left: 1px solid gray;box-sizing: border-box;top: 0;bottom: 0;left: 50%;z-index: 0;}#sk-container-id-3 div.sk-serial {display: flex;flex-direction: column;align-items: center;background-color: white;padding-right: 0.2em;padding-left: 0.2em;position: relative;}#sk-container-id-3 div.sk-item {position: relative;z-index: 1;}#sk-container-id-3 div.sk-parallel {display: flex;align-items: stretch;justify-content: center;background-color: white;position: relative;}#sk-container-id-3 div.sk-item::before, #sk-container-id-3 div.sk-parallel-item::before {content: \"\";position: absolute;border-left: 1px solid gray;box-sizing: border-box;top: 0;bottom: 0;left: 50%;z-index: -1;}#sk-container-id-3 div.sk-parallel-item {display: flex;flex-direction: column;z-index: 1;position: relative;background-color: white;}#sk-container-id-3 div.sk-parallel-item:first-child::after {align-self: flex-end;width: 50%;}#sk-container-id-3 div.sk-parallel-item:last-child::after {align-self: flex-start;width: 50%;}#sk-container-id-3 div.sk-parallel-item:only-child::after {width: 0;}#sk-container-id-3 div.sk-dashed-wrapped {border: 1px dashed gray;margin: 0 0.4em 0.5em 0.4em;box-sizing: border-box;padding-bottom: 0.4em;background-color: white;}#sk-container-id-3 div.sk-label label {font-family: monospace;font-weight: bold;display: inline-block;line-height: 1.2em;}#sk-container-id-3 div.sk-label-container {text-align: center;}#sk-container-id-3 div.sk-container {/* jupyter's `normalize.less` sets `[hidden] { display: none; }` but bootstrap.min.css set `[hidden] { display: none !important; }` so we also need the `!important` here to be able to override the default hidden behavior on the sphinx rendered scikit-learn.org. See: https://github.com/scikit-learn/scikit-learn/issues/21755 */display: inline-block !important;position: relative;}#sk-container-id-3 div.sk-text-repr-fallback {display: none;}</style><div id=\"sk-container-id-3\" class=\"sk-top-container\"><div class=\"sk-text-repr-fallback\"><pre>LogisticRegression()</pre><b>In a Jupyter environment, please rerun this cell to show the HTML representation or trust the notebook. <br />On GitHub, the HTML representation is unable to render, please try loading this page with nbviewer.org.</b></div><div class=\"sk-container\" hidden><div class=\"sk-item\"><div class=\"sk-estimator sk-toggleable\"><input class=\"sk-toggleable__control sk-hidden--visually\" id=\"sk-estimator-id-3\" type=\"checkbox\" checked><label for=\"sk-estimator-id-3\" class=\"sk-toggleable__label sk-toggleable__label-arrow\">LogisticRegression</label><div class=\"sk-toggleable__content\"><pre>LogisticRegression()</pre></div></div></div></div></div>"
      ],
      "text/plain": [
       "LogisticRegression()"
      ]
     },
     "execution_count": 40,
     "metadata": {},
     "output_type": "execute_result"
    }
   ],
   "source": [
    "from sklearn.linear_model import LogisticRegression\n",
    "from sklearn.metrics import f1_score,classification_report\n",
    "# objection creation\n",
    "LRRR = LogisticRegression()\n",
    "\n",
    "# training the model\n",
    "LRRR.fit(X_train2,y_train2)"
   ]
  },
  {
   "cell_type": "code",
   "execution_count": 41,
   "id": "341b7927",
   "metadata": {
    "ExecuteTime": {
     "end_time": "2023-07-03T05:19:47.904010Z",
     "start_time": "2023-07-03T05:19:24.384848Z"
    }
   },
   "outputs": [
    {
     "name": "stdout",
     "output_type": "stream",
     "text": [
      "0.8364027176202461\n"
     ]
    },
    {
     "data": {
      "image/png": "[encoded data removed]",
      "text/plain": [
       "<Figure size 500x500 with 1 Axes>"
      ]
     },
     "metadata": {},
     "output_type": "display_data"
    }
   ],
   "source": [
    "# Performing recidual analysis\n",
    "y_tr_pred3 = LRRR.predict(X_train2)\n",
    "print(f1_score(y_train2,y_tr_pred3))\n",
    "residual = y_train2-y_tr_pred3\n",
    "sns.displot(residual,kind = 'kde');"
   ]
  },
  {
   "cell_type": "code",
   "execution_count": 42,
   "id": "8d21f56c",
   "metadata": {
    "ExecuteTime": {
     "end_time": "2023-07-03T05:19:48.692927Z",
     "start_time": "2023-07-03T05:19:47.904010Z"
    }
   },
   "outputs": [
    {
     "name": "stdout",
     "output_type": "stream",
     "text": [
      "0.8376781482323151\n",
      "              precision    recall  f1-score   support\n",
      "\n",
      "           0       0.97      0.65      0.78     79955\n",
      "           1       0.73      0.98      0.84     79274\n",
      "\n",
      "    accuracy                           0.81    159229\n",
      "   macro avg       0.85      0.81      0.81    159229\n",
      "weighted avg       0.85      0.81      0.81    159229\n",
      "\n"
     ]
    },
    {
     "data": {
      "text/html": [
       "<div>\n",
       "<style scoped>\n",
       "    .dataframe tbody tr th:only-of-type {\n",
       "        vertical-align: middle;\n",
       "    }\n",
       "\n",
       "    .dataframe tbody tr th {\n",
       "        vertical-align: top;\n",
       "    }\n",
       "\n",
       "    .dataframe thead th {\n",
       "        text-align: right;\n",
       "    }\n",
       "</style>\n",
       "<table border=\"1\" class=\"dataframe\">\n",
       "  <thead>\n",
       "    <tr style=\"text-align: right;\">\n",
       "      <th></th>\n",
       "      <th>Actual</th>\n",
       "      <th>predicted</th>\n",
       "    </tr>\n",
       "  </thead>\n",
       "  <tbody>\n",
       "    <tr>\n",
       "      <th>22472</th>\n",
       "      <td>0</td>\n",
       "      <td>0</td>\n",
       "    </tr>\n",
       "    <tr>\n",
       "      <th>41193</th>\n",
       "      <td>0</td>\n",
       "      <td>0</td>\n",
       "    </tr>\n",
       "    <tr>\n",
       "      <th>45577</th>\n",
       "      <td>0</td>\n",
       "      <td>1</td>\n",
       "    </tr>\n",
       "    <tr>\n",
       "      <th>444205</th>\n",
       "      <td>1</td>\n",
       "      <td>1</td>\n",
       "    </tr>\n",
       "    <tr>\n",
       "      <th>261128</th>\n",
       "      <td>0</td>\n",
       "      <td>0</td>\n",
       "    </tr>\n",
       "    <tr>\n",
       "      <th>...</th>\n",
       "      <td>...</td>\n",
       "      <td>...</td>\n",
       "    </tr>\n",
       "    <tr>\n",
       "      <th>230395</th>\n",
       "      <td>0</td>\n",
       "      <td>0</td>\n",
       "    </tr>\n",
       "    <tr>\n",
       "      <th>300667</th>\n",
       "      <td>0</td>\n",
       "      <td>1</td>\n",
       "    </tr>\n",
       "    <tr>\n",
       "      <th>553999</th>\n",
       "      <td>1</td>\n",
       "      <td>1</td>\n",
       "    </tr>\n",
       "    <tr>\n",
       "      <th>600244</th>\n",
       "      <td>1</td>\n",
       "      <td>1</td>\n",
       "    </tr>\n",
       "    <tr>\n",
       "      <th>209379</th>\n",
       "      <td>0</td>\n",
       "      <td>0</td>\n",
       "    </tr>\n",
       "  </tbody>\n",
       "</table>\n",
       "<p>159229 rows × 2 columns</p>\n",
       "</div>"
      ],
      "text/plain": [
       "        Actual  predicted\n",
       "22472        0          0\n",
       "41193        0          0\n",
       "45577        0          1\n",
       "444205       1          1\n",
       "261128       0          0\n",
       "...        ...        ...\n",
       "230395       0          0\n",
       "300667       0          1\n",
       "553999       1          1\n",
       "600244       1          1\n",
       "209379       0          0\n",
       "\n",
       "[159229 rows x 2 columns]"
      ]
     },
     "execution_count": 42,
     "metadata": {},
     "output_type": "execute_result"
    }
   ],
   "source": [
    "# prediction on unseen data\n",
    "y_te_pred3 = LRRR.predict(X_test2)\n",
    "print(f1_score(y_test2,y_te_pred3))\n",
    "print(classification_report(y_test2,y_te_pred3))\n",
    "\n",
    "# lets see the acutal and predicted\n",
    "temp = pd.DataFrame({'Actual':y_test2, 'predicted':y_te_pred3})\n",
    "temp"
   ]
  },
  {
   "cell_type": "markdown",
   "id": "0b94c1b4",
   "metadata": {},
   "source": [
    "# RandomForestClassifier (ADASYN)"
   ]
  },
  {
   "cell_type": "code",
   "execution_count": 43,
   "id": "e02f5ec9",
   "metadata": {
    "ExecuteTime": {
     "end_time": "2023-07-03T05:26:38.188736Z",
     "start_time": "2023-07-03T05:19:48.692927Z"
    }
   },
   "outputs": [
    {
     "data": {
      "text/html": [
       "<style>#sk-container-id-4 {color: black;background-color: white;}#sk-container-id-4 pre{padding: 0;}#sk-container-id-4 div.sk-toggleable {background-color: white;}#sk-container-id-4 label.sk-toggleable__label {cursor: pointer;display: block;width: 100%;margin-bottom: 0;padding: 0.3em;box-sizing: border-box;text-align: center;}#sk-container-id-4 label.sk-toggleable__label-arrow:before {content: \"▸\";float: left;margin-right: 0.25em;color: #696969;}#sk-container-id-4 label.sk-toggleable__label-arrow:hover:before {color: black;}#sk-container-id-4 div.sk-estimator:hover label.sk-toggleable__label-arrow:before {color: black;}#sk-container-id-4 div.sk-toggleable__content {max-height: 0;max-width: 0;overflow: hidden;text-align: left;background-color: #f0f8ff;}#sk-container-id-4 div.sk-toggleable__content pre {margin: 0.2em;color: black;border-radius: 0.25em;background-color: #f0f8ff;}#sk-container-id-4 input.sk-toggleable__control:checked~div.sk-toggleable__content {max-height: 200px;max-width: 100%;overflow: auto;}#sk-container-id-4 input.sk-toggleable__control:checked~label.sk-toggleable__label-arrow:before {content: \"▾\";}#sk-container-id-4 div.sk-estimator input.sk-toggleable__control:checked~label.sk-toggleable__label {background-color: #d4ebff;}#sk-container-id-4 div.sk-label input.sk-toggleable__control:checked~label.sk-toggleable__label {background-color: #d4ebff;}#sk-container-id-4 input.sk-hidden--visually {border: 0;clip: rect(1px 1px 1px 1px);clip: rect(1px, 1px, 1px, 1px);height: 1px;margin: -1px;overflow: hidden;padding: 0;position: absolute;width: 1px;}#sk-container-id-4 div.sk-estimator {font-family: monospace;background-color: #f0f8ff;border: 1px dotted black;border-radius: 0.25em;box-sizing: border-box;margin-bottom: 0.5em;}#sk-container-id-4 div.sk-estimator:hover {background-color: #d4ebff;}#sk-container-id-4 div.sk-parallel-item::after {content: \"\";width: 100%;border-bottom: 1px solid gray;flex-grow: 1;}#sk-container-id-4 div.sk-label:hover label.sk-toggleable__label {background-color: #d4ebff;}#sk-container-id-4 div.sk-serial::before {content: \"\";position: absolute;border-left: 1px solid gray;box-sizing: border-box;top: 0;bottom: 0;left: 50%;z-index: 0;}#sk-container-id-4 div.sk-serial {display: flex;flex-direction: column;align-items: center;background-color: white;padding-right: 0.2em;padding-left: 0.2em;position: relative;}#sk-container-id-4 div.sk-item {position: relative;z-index: 1;}#sk-container-id-4 div.sk-parallel {display: flex;align-items: stretch;justify-content: center;background-color: white;position: relative;}#sk-container-id-4 div.sk-item::before, #sk-container-id-4 div.sk-parallel-item::before {content: \"\";position: absolute;border-left: 1px solid gray;box-sizing: border-box;top: 0;bottom: 0;left: 50%;z-index: -1;}#sk-container-id-4 div.sk-parallel-item {display: flex;flex-direction: column;z-index: 1;position: relative;background-color: white;}#sk-container-id-4 div.sk-parallel-item:first-child::after {align-self: flex-end;width: 50%;}#sk-container-id-4 div.sk-parallel-item:last-child::after {align-self: flex-start;width: 50%;}#sk-container-id-4 div.sk-parallel-item:only-child::after {width: 0;}#sk-container-id-4 div.sk-dashed-wrapped {border: 1px dashed gray;margin: 0 0.4em 0.5em 0.4em;box-sizing: border-box;padding-bottom: 0.4em;background-color: white;}#sk-container-id-4 div.sk-label label {font-family: monospace;font-weight: bold;display: inline-block;line-height: 1.2em;}#sk-container-id-4 div.sk-label-container {text-align: center;}#sk-container-id-4 div.sk-container {/* jupyter's `normalize.less` sets `[hidden] { display: none; }` but bootstrap.min.css set `[hidden] { display: none !important; }` so we also need the `!important` here to be able to override the default hidden behavior on the sphinx rendered scikit-learn.org. See: https://github.com/scikit-learn/scikit-learn/issues/21755 */display: inline-block !important;position: relative;}#sk-container-id-4 div.sk-text-repr-fallback {display: none;}</style><div id=\"sk-container-id-4\" class=\"sk-top-container\"><div class=\"sk-text-repr-fallback\"><pre>RandomForestClassifier()</pre><b>In a Jupyter environment, please rerun this cell to show the HTML representation or trust the notebook. <br />On GitHub, the HTML representation is unable to render, please try loading this page with nbviewer.org.</b></div><div class=\"sk-container\" hidden><div class=\"sk-item\"><div class=\"sk-estimator sk-toggleable\"><input class=\"sk-toggleable__control sk-hidden--visually\" id=\"sk-estimator-id-4\" type=\"checkbox\" checked><label for=\"sk-estimator-id-4\" class=\"sk-toggleable__label sk-toggleable__label-arrow\">RandomForestClassifier</label><div class=\"sk-toggleable__content\"><pre>RandomForestClassifier()</pre></div></div></div></div></div>"
      ],
      "text/plain": [
       "RandomForestClassifier()"
      ]
     },
     "execution_count": 43,
     "metadata": {},
     "output_type": "execute_result"
    }
   ],
   "source": [
    "from sklearn.ensemble import RandomForestClassifier\n",
    "RF = RandomForestClassifier()\n",
    "RF.fit(X_train2,y_train2)"
   ]
  },
  {
   "cell_type": "code",
   "execution_count": 44,
   "id": "4142b063",
   "metadata": {
    "ExecuteTime": {
     "end_time": "2023-07-03T05:27:09.019411Z",
     "start_time": "2023-07-03T05:26:38.194540Z"
    }
   },
   "outputs": [
    {
     "name": "stdout",
     "output_type": "stream",
     "text": [
      "1.0\n"
     ]
    }
   ],
   "source": [
    "# Performing recidual analysis\n",
    "y_tr_pre = RF.predict(X_train2)\n",
    "print(f1_score(y_train2,y_tr_pre))"
   ]
  },
  {
   "cell_type": "code",
   "execution_count": 45,
   "id": "f5625803",
   "metadata": {
    "ExecuteTime": {
     "end_time": "2023-07-03T05:27:19.993930Z",
     "start_time": "2023-07-03T05:27:09.024367Z"
    }
   },
   "outputs": [
    {
     "name": "stdout",
     "output_type": "stream",
     "text": [
      "0.9311232166655407\n",
      "              precision    recall  f1-score   support\n",
      "\n",
      "           0       0.95      0.90      0.93     79955\n",
      "           1       0.91      0.96      0.93     79274\n",
      "\n",
      "    accuracy                           0.93    159229\n",
      "   macro avg       0.93      0.93      0.93    159229\n",
      "weighted avg       0.93      0.93      0.93    159229\n",
      "\n"
     ]
    },
    {
     "data": {
      "text/html": [
       "<div>\n",
       "<style scoped>\n",
       "    .dataframe tbody tr th:only-of-type {\n",
       "        vertical-align: middle;\n",
       "    }\n",
       "\n",
       "    .dataframe tbody tr th {\n",
       "        vertical-align: top;\n",
       "    }\n",
       "\n",
       "    .dataframe thead th {\n",
       "        text-align: right;\n",
       "    }\n",
       "</style>\n",
       "<table border=\"1\" class=\"dataframe\">\n",
       "  <thead>\n",
       "    <tr style=\"text-align: right;\">\n",
       "      <th></th>\n",
       "      <th>Actual</th>\n",
       "      <th>predicted</th>\n",
       "    </tr>\n",
       "  </thead>\n",
       "  <tbody>\n",
       "    <tr>\n",
       "      <th>22472</th>\n",
       "      <td>0</td>\n",
       "      <td>0</td>\n",
       "    </tr>\n",
       "    <tr>\n",
       "      <th>41193</th>\n",
       "      <td>0</td>\n",
       "      <td>0</td>\n",
       "    </tr>\n",
       "    <tr>\n",
       "      <th>45577</th>\n",
       "      <td>0</td>\n",
       "      <td>0</td>\n",
       "    </tr>\n",
       "    <tr>\n",
       "      <th>444205</th>\n",
       "      <td>1</td>\n",
       "      <td>1</td>\n",
       "    </tr>\n",
       "    <tr>\n",
       "      <th>261128</th>\n",
       "      <td>0</td>\n",
       "      <td>0</td>\n",
       "    </tr>\n",
       "    <tr>\n",
       "      <th>...</th>\n",
       "      <td>...</td>\n",
       "      <td>...</td>\n",
       "    </tr>\n",
       "    <tr>\n",
       "      <th>230395</th>\n",
       "      <td>0</td>\n",
       "      <td>0</td>\n",
       "    </tr>\n",
       "    <tr>\n",
       "      <th>300667</th>\n",
       "      <td>0</td>\n",
       "      <td>1</td>\n",
       "    </tr>\n",
       "    <tr>\n",
       "      <th>553999</th>\n",
       "      <td>1</td>\n",
       "      <td>1</td>\n",
       "    </tr>\n",
       "    <tr>\n",
       "      <th>600244</th>\n",
       "      <td>1</td>\n",
       "      <td>1</td>\n",
       "    </tr>\n",
       "    <tr>\n",
       "      <th>209379</th>\n",
       "      <td>0</td>\n",
       "      <td>0</td>\n",
       "    </tr>\n",
       "  </tbody>\n",
       "</table>\n",
       "<p>159229 rows × 2 columns</p>\n",
       "</div>"
      ],
      "text/plain": [
       "        Actual  predicted\n",
       "22472        0          0\n",
       "41193        0          0\n",
       "45577        0          0\n",
       "444205       1          1\n",
       "261128       0          0\n",
       "...        ...        ...\n",
       "230395       0          0\n",
       "300667       0          1\n",
       "553999       1          1\n",
       "600244       1          1\n",
       "209379       0          0\n",
       "\n",
       "[159229 rows x 2 columns]"
      ]
     },
     "execution_count": 45,
     "metadata": {},
     "output_type": "execute_result"
    }
   ],
   "source": [
    "# prediction on unseen data\n",
    "y_te_pre = RF.predict(X_test2)\n",
    "print(f1_score(y_test2,y_te_pre))\n",
    "print(classification_report(y_test2,y_te_pre))\n",
    "\n",
    "# lets see the acutal and predicted\n",
    "temp = pd.DataFrame({'Actual':y_test2, 'predicted':y_te_pre})\n",
    "temp"
   ]
  },
  {
   "cell_type": "code",
   "execution_count": null,
   "id": "47e6e215",
   "metadata": {},
   "outputs": [],
   "source": []
  }
 ],
 "metadata": {
  "kernelspec": {
   "display_name": "Python 3 (ipykernel)",
   "language": "python",
   "name": "python3"
  },
  "language_info": {
   "codemirror_mode": {
    "name": "ipython",
    "version": 3
   },
   "file_extension": ".py",
   "mimetype": "text/x-python",
   "name": "python",
   "nbconvert_exporter": "python",
   "pygments_lexer": "ipython3",
   "version": "3.10.9"
  }
 },
 "nbformat": 4,
 "nbformat_minor": 5
}
